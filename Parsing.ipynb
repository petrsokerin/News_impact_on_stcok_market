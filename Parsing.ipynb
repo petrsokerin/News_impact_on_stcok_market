{
 "cells": [
  {
   "cell_type": "code",
   "execution_count": null,
   "metadata": {
    "colab": {
     "base_uri": "https://localhost:8080/"
    },
    "id": "YGQ3UWsx2S5V",
    "outputId": "cacc0c34-9c7f-4a3a-bbc1-4a6d83b0bdd3"
   },
   "outputs": [
    {
     "name": "stderr",
     "output_type": "stream",
     "text": [
      "/usr/local/lib/python3.7/dist-packages/nltk/twitter/__init__.py:20: UserWarning: The twython library has not been installed. Some functionality from the twitter package will not be available.\n",
      "  warnings.warn(\"The twython library has not been installed. \"\n"
     ]
    }
   ],
   "source": [
    "from urllib.request import urlopen, Request\n",
    "from urllib.error import HTTPError\n",
    "\n",
    "from bs4 import BeautifulSoup\n",
    "import os\n",
    "import requests\n",
    "\n",
    "import pandas as pd\n",
    "import re\n",
    "import pickle\n",
    "\n",
    "import time\n",
    "\n",
    "import numpy as np\n",
    "\n",
    "from tqdm import trange, tqdm\n",
    "from tqdm.auto import tqdm\n",
    "\n",
    "import matplotlib.pyplot as plt\n",
    "%matplotlib inline\n",
    "# NLTK VADER for sentiment analysis\n",
    "from nltk.sentiment.vader import SentimentIntensityAnalyzer"
   ]
  },
  {
   "cell_type": "code",
   "execution_count": null,
   "metadata": {
    "id": "RmiZt8Ni2S5d"
   },
   "outputs": [],
   "source": [
    "def remove_text_between_parens(text):\n",
    "    n = 1  # run at least once\n",
    "    while n:\n",
    "        text, n = re.subn(r'\\<[^<>]*\\>', '', text)  # remove non-nested/flat balanced parts\n",
    "    return text"
   ]
  },
  {
   "cell_type": "code",
   "execution_count": null,
   "metadata": {
    "colab": {
     "base_uri": "https://localhost:8080/"
    },
    "id": "7nHVDShk2Xiq",
    "outputId": "c84d3857-7858-4e90-83bc-f15b2d6c6dd6"
   },
   "outputs": [
    {
     "name": "stdout",
     "output_type": "stream",
     "text": [
      "Mounted at /content/drive/\n"
     ]
    }
   ],
   "source": [
    "from google.colab import drive\n",
    "drive.mount('/content/drive/')"
   ]
  },
  {
   "cell_type": "markdown",
   "metadata": {
    "id": "1V1KNW2S2S5e"
   },
   "source": [
    "# NY times"
   ]
  },
  {
   "cell_type": "code",
   "execution_count": null,
   "metadata": {
    "colab": {
     "base_uri": "https://localhost:8080/",
     "height": 67,
     "referenced_widgets": [
      "a1f3bb11a68d4ae2808c35707768cc3d",
      "4942ffef94a74e20b98ec300953ab399",
      "ae61599bdd104ed9b3873f40720564cb",
      "a024023ccdd9424f84fd4962ab9d811c",
      "35b8eeb7809143399bbff5a81d9aad95",
      "07650de60bd04b6180c19790126628e6",
      "361d82fd274f4f72b30848c59c1a971b",
      "530d7a2e183f45c8b650605038e4b0fb"
     ]
    },
    "id": "xA_ugHUa2S5e",
    "outputId": "4e9f6c76-7863-4e11-e31b-9dec956bf87d"
   },
   "outputs": [
    {
     "data": {
      "application/vnd.jupyter.widget-view+json": {
       "model_id": "a1f3bb11a68d4ae2808c35707768cc3d",
       "version_major": 2,
       "version_minor": 0
      },
      "text/plain": [
       "HBox(children=(FloatProgress(value=0.0, description='parsing', max=24.0, style=ProgressStyle(description_width…"
      ]
     },
     "metadata": {
      "tags": []
     },
     "output_type": "display_data"
    },
    {
     "name": "stdout",
     "output_type": "stream",
     "text": [
      "\n"
     ]
    }
   ],
   "source": [
    "years = list(range(2015, 2021))\n",
    "months = [['01', '03'], ['04', '06'], ['07', '09'], ['10', '12']]\n",
    "\n",
    "company = 'MasterCard'.lower()\n",
    "\n",
    "titles = []\n",
    "subtitles = []\n",
    "links = []\n",
    "\n",
    "with tqdm(desc=\"parsing\", total= len(months) * len(years)) as pbar_outer:\n",
    "\n",
    "    for year in years:\n",
    "        for month in months:\n",
    "\n",
    "            time.sleep(3)\n",
    "\n",
    "            url = 'https://www.nytimes.com/search?dropmab=false&endDate={0}{2}01&query={3}&sort=best&startDate={0}{1}01'.format(str(year), month[0], month[1], company)\n",
    "            #print(url)\n",
    "\n",
    "            html = urlopen(url)\n",
    "\n",
    "            s = str(html.read().decode('utf'))\n",
    "\n",
    "            c = 0\n",
    "            soup = BeautifulSoup(s)\n",
    "\n",
    "            for p in soup.find_all('p', class_ = 'css-16nhkrn'):\n",
    "                c+= 1\n",
    "                #print(c)\n",
    "                #print(remove_text_between_parens(str(div)))\n",
    "                subtitles.append(remove_text_between_parens(str(p)))\n",
    "\n",
    "            c = 0\n",
    "            for h4 in soup.find_all('h4', class_ = 'css-2fgx4k'):\n",
    "                c+= 1\n",
    "                #print(c)\n",
    "                #print(remove_text_between_parens(str(h4)))\n",
    "                titles.append(remove_text_between_parens(str(h4)))\n",
    "\n",
    "            c = 0\n",
    "            for li in soup.find_all('li', class_ = 'css-1l4w6pd'):\n",
    "                for a in li.find_all('a'):\n",
    "                    #print(c)\n",
    "                    #print(a.get('href'))\n",
    "                    links.append(a.get('href'))\n",
    "                    c+= 1 \n",
    "            pbar_outer.update(1)\n"
   ]
  },
  {
   "cell_type": "markdown",
   "metadata": {
    "id": "VAy7B--j2S5g"
   },
   "source": [
    "# Датафрейм"
   ]
  },
  {
   "cell_type": "code",
   "execution_count": null,
   "metadata": {
    "colab": {
     "base_uri": "https://localhost:8080/",
     "height": 399
    },
    "id": "rm1DZPd52S5g",
    "outputId": "ac1d1e24-3b61-4eff-c7ed-2ab4a59fa2ac"
   },
   "outputs": [
    {
     "data": {
      "text/html": [
       "<div>\n",
       "<style scoped>\n",
       "    .dataframe tbody tr th:only-of-type {\n",
       "        vertical-align: middle;\n",
       "    }\n",
       "\n",
       "    .dataframe tbody tr th {\n",
       "        vertical-align: top;\n",
       "    }\n",
       "\n",
       "    .dataframe thead th {\n",
       "        text-align: right;\n",
       "    }\n",
       "</style>\n",
       "<table border=\"1\" class=\"dataframe\">\n",
       "  <thead>\n",
       "    <tr style=\"text-align: right;\">\n",
       "      <th></th>\n",
       "      <th>titles</th>\n",
       "      <th>subtitles</th>\n",
       "      <th>links</th>\n",
       "    </tr>\n",
       "  </thead>\n",
       "  <tbody>\n",
       "    <tr>\n",
       "      <th>0</th>\n",
       "      <td>Costco Customers May Come Out Ahead in Amex Di...</td>\n",
       "      <td>Severing an exclusive deal with the warehouse ...</td>\n",
       "      <td>https://dealbook.nytimes.com/2015/02/13/costco...</td>\n",
       "    </tr>\n",
       "    <tr>\n",
       "      <th>1</th>\n",
       "      <td>Challenged by Upstarts, Lenders Try New Strate...</td>\n",
       "      <td>Rather than play defense, financial services f...</td>\n",
       "      <td>https://dealbook.nytimes.com/2015/01/07/challe...</td>\n",
       "    </tr>\n",
       "    <tr>\n",
       "      <th>2</th>\n",
       "      <td>Amex’s Loss in Court May Not Help Consumers</td>\n",
       "      <td>If history is any guide, the ruling against Am...</td>\n",
       "      <td>/2015/02/24/business/dealbook/amexs-loss-in-co...</td>\n",
       "    </tr>\n",
       "    <tr>\n",
       "      <th>3</th>\n",
       "      <td>American Express Violated Antitrust Laws, Judg...</td>\n",
       "      <td>The company has long barred merchants from enc...</td>\n",
       "      <td>/2015/02/20/business/american-express-violated...</td>\n",
       "    </tr>\n",
       "    <tr>\n",
       "      <th>4</th>\n",
       "      <td>Morning Agenda: Fed Shows Signs of Optimism</td>\n",
       "      <td>Fed officials are encouraged by the strength o...</td>\n",
       "      <td>https://dealbook.nytimes.com/2015/01/08/mornin...</td>\n",
       "    </tr>\n",
       "    <tr>\n",
       "      <th>...</th>\n",
       "      <td>...</td>\n",
       "      <td>...</td>\n",
       "      <td>...</td>\n",
       "    </tr>\n",
       "    <tr>\n",
       "      <th>198</th>\n",
       "      <td>The Media’s Complicated Relationship With Trump</td>\n",
       "      <td>International arrivals to New York are down as...</td>\n",
       "      <td>/2020/11/06/business/dealbook/media-trump-bump...</td>\n",
       "    </tr>\n",
       "    <tr>\n",
       "      <th>199</th>\n",
       "      <td>Why Dunkin’ Is Worth Nearly $9 Billion</td>\n",
       "      <td>With business travel all but stopped, city hot...</td>\n",
       "      <td>/2020/10/26/business/dealbook/dunkin-inspire-d...</td>\n",
       "    </tr>\n",
       "    <tr>\n",
       "      <th>200</th>\n",
       "      <td>A Mighty Ant</td>\n",
       "      <td>None</td>\n",
       "      <td>/2020/10/27/business/dealbook/ant-group-IPO.ht...</td>\n",
       "    </tr>\n",
       "    <tr>\n",
       "      <th>201</th>\n",
       "      <td>‘If No Tourists Come, I Have No Business’: New...</td>\n",
       "      <td>None</td>\n",
       "      <td>/2020/10/09/travel/nyc-tourism-travel-restrict...</td>\n",
       "    </tr>\n",
       "    <tr>\n",
       "      <th>202</th>\n",
       "      <td>How to Staycation in 6 American Cities</td>\n",
       "      <td>None</td>\n",
       "      <td>/2020/10/29/travel/staycation-nyc-los-angeles....</td>\n",
       "    </tr>\n",
       "  </tbody>\n",
       "</table>\n",
       "<p>203 rows × 3 columns</p>\n",
       "</div>"
      ],
      "text/plain": [
       "                                                titles  ...                                              links\n",
       "0    Costco Customers May Come Out Ahead in Amex Di...  ...  https://dealbook.nytimes.com/2015/02/13/costco...\n",
       "1    Challenged by Upstarts, Lenders Try New Strate...  ...  https://dealbook.nytimes.com/2015/01/07/challe...\n",
       "2          Amex’s Loss in Court May Not Help Consumers  ...  /2015/02/24/business/dealbook/amexs-loss-in-co...\n",
       "3    American Express Violated Antitrust Laws, Judg...  ...  /2015/02/20/business/american-express-violated...\n",
       "4          Morning Agenda: Fed Shows Signs of Optimism  ...  https://dealbook.nytimes.com/2015/01/08/mornin...\n",
       "..                                                 ...  ...                                                ...\n",
       "198    The Media’s Complicated Relationship With Trump  ...  /2020/11/06/business/dealbook/media-trump-bump...\n",
       "199             Why Dunkin’ Is Worth Nearly $9 Billion  ...  /2020/10/26/business/dealbook/dunkin-inspire-d...\n",
       "200                                       A Mighty Ant  ...  /2020/10/27/business/dealbook/ant-group-IPO.ht...\n",
       "201  ‘If No Tourists Come, I Have No Business’: New...  ...  /2020/10/09/travel/nyc-tourism-travel-restrict...\n",
       "202             How to Staycation in 6 American Cities  ...  /2020/10/29/travel/staycation-nyc-los-angeles....\n",
       "\n",
       "[203 rows x 3 columns]"
      ]
     },
     "execution_count": 12,
     "metadata": {
      "tags": []
     },
     "output_type": "execute_result"
    }
   ],
   "source": [
    "amz = pd.DataFrame([titles, subtitles, links]).T\n",
    "amz.columns = ['titles', 'subtitles', 'links']\n",
    "amz"
   ]
  },
  {
   "cell_type": "code",
   "execution_count": null,
   "metadata": {
    "colab": {
     "base_uri": "https://localhost:8080/",
     "height": 888
    },
    "id": "Lx4FAstr2S5h",
    "outputId": "c635a0ae-2e72-449f-f97c-d89d88f39744"
   },
   "outputs": [
    {
     "name": "stderr",
     "output_type": "stream",
     "text": [
      "/usr/local/lib/python3.7/dist-packages/ipykernel_launcher.py:4: SettingWithCopyWarning: \n",
      "A value is trying to be set on a copy of a slice from a DataFrame.\n",
      "Try using .loc[row_indexer,col_indexer] = value instead\n",
      "\n",
      "See the caveats in the documentation: https://pandas.pydata.org/pandas-docs/stable/user_guide/indexing.html#returning-a-view-versus-a-copy\n",
      "  after removing the cwd from sys.path.\n",
      "/usr/local/lib/python3.7/dist-packages/ipykernel_launcher.py:5: SettingWithCopyWarning: \n",
      "A value is trying to be set on a copy of a slice from a DataFrame.\n",
      "Try using .loc[row_indexer,col_indexer] = value instead\n",
      "\n",
      "See the caveats in the documentation: https://pandas.pydata.org/pandas-docs/stable/user_guide/indexing.html#returning-a-view-versus-a-copy\n",
      "  \"\"\"\n",
      "/usr/local/lib/python3.7/dist-packages/ipykernel_launcher.py:6: SettingWithCopyWarning: \n",
      "A value is trying to be set on a copy of a slice from a DataFrame.\n",
      "Try using .loc[row_indexer,col_indexer] = value instead\n",
      "\n",
      "See the caveats in the documentation: https://pandas.pydata.org/pandas-docs/stable/user_guide/indexing.html#returning-a-view-versus-a-copy\n",
      "  \n"
     ]
    },
    {
     "data": {
      "text/html": [
       "<div>\n",
       "<style scoped>\n",
       "    .dataframe tbody tr th:only-of-type {\n",
       "        vertical-align: middle;\n",
       "    }\n",
       "\n",
       "    .dataframe tbody tr th {\n",
       "        vertical-align: top;\n",
       "    }\n",
       "\n",
       "    .dataframe thead th {\n",
       "        text-align: right;\n",
       "    }\n",
       "</style>\n",
       "<table border=\"1\" class=\"dataframe\">\n",
       "  <thead>\n",
       "    <tr style=\"text-align: right;\">\n",
       "      <th></th>\n",
       "      <th>titles</th>\n",
       "      <th>subtitles</th>\n",
       "      <th>links</th>\n",
       "      <th>dates</th>\n",
       "      <th>dates_len</th>\n",
       "      <th>news</th>\n",
       "    </tr>\n",
       "  </thead>\n",
       "  <tbody>\n",
       "    <tr>\n",
       "      <th>0</th>\n",
       "      <td>Costco Customers May Come Out Ahead in Amex Di...</td>\n",
       "      <td>Severing an exclusive deal with the warehouse ...</td>\n",
       "      <td>https://dealbook.nytimes.com/2015/02/13/costco...</td>\n",
       "      <td>2015-02-13</td>\n",
       "      <td>1</td>\n",
       "      <td>Costco Customers May Come Out Ahead in Amex Di...</td>\n",
       "    </tr>\n",
       "    <tr>\n",
       "      <th>1</th>\n",
       "      <td>Challenged by Upstarts, Lenders Try New Strate...</td>\n",
       "      <td>Rather than play defense, financial services f...</td>\n",
       "      <td>https://dealbook.nytimes.com/2015/01/07/challe...</td>\n",
       "      <td>2015-01-07</td>\n",
       "      <td>1</td>\n",
       "      <td>Challenged by Upstarts, Lenders Try New Strate...</td>\n",
       "    </tr>\n",
       "    <tr>\n",
       "      <th>2</th>\n",
       "      <td>Amex’s Loss in Court May Not Help Consumers</td>\n",
       "      <td>If history is any guide, the ruling against Am...</td>\n",
       "      <td>/2015/02/24/business/dealbook/amexs-loss-in-co...</td>\n",
       "      <td>2015-02-24</td>\n",
       "      <td>1</td>\n",
       "      <td>Amex’s Loss in Court May Not Help ConsumersIf ...</td>\n",
       "    </tr>\n",
       "    <tr>\n",
       "      <th>3</th>\n",
       "      <td>American Express Violated Antitrust Laws, Judg...</td>\n",
       "      <td>The company has long barred merchants from enc...</td>\n",
       "      <td>/2015/02/20/business/american-express-violated...</td>\n",
       "      <td>2015-02-20</td>\n",
       "      <td>1</td>\n",
       "      <td>American Express Violated Antitrust Laws, Judg...</td>\n",
       "    </tr>\n",
       "    <tr>\n",
       "      <th>4</th>\n",
       "      <td>Morning Agenda: Fed Shows Signs of Optimism</td>\n",
       "      <td>Fed officials are encouraged by the strength o...</td>\n",
       "      <td>https://dealbook.nytimes.com/2015/01/08/mornin...</td>\n",
       "      <td>2015-01-08</td>\n",
       "      <td>1</td>\n",
       "      <td>Morning Agenda: Fed Shows Signs of OptimismFed...</td>\n",
       "    </tr>\n",
       "    <tr>\n",
       "      <th>...</th>\n",
       "      <td>...</td>\n",
       "      <td>...</td>\n",
       "      <td>...</td>\n",
       "      <td>...</td>\n",
       "      <td>...</td>\n",
       "      <td>...</td>\n",
       "    </tr>\n",
       "    <tr>\n",
       "      <th>198</th>\n",
       "      <td>The Media’s Complicated Relationship With Trump</td>\n",
       "      <td>International arrivals to New York are down as...</td>\n",
       "      <td>/2020/11/06/business/dealbook/media-trump-bump...</td>\n",
       "      <td>2020-11-06</td>\n",
       "      <td>1</td>\n",
       "      <td>The Media’s Complicated Relationship With Trum...</td>\n",
       "    </tr>\n",
       "    <tr>\n",
       "      <th>199</th>\n",
       "      <td>Why Dunkin’ Is Worth Nearly $9 Billion</td>\n",
       "      <td>With business travel all but stopped, city hot...</td>\n",
       "      <td>/2020/10/26/business/dealbook/dunkin-inspire-d...</td>\n",
       "      <td>2020-10-26</td>\n",
       "      <td>1</td>\n",
       "      <td>Why Dunkin’ Is Worth Nearly $9 BillionWith bus...</td>\n",
       "    </tr>\n",
       "    <tr>\n",
       "      <th>200</th>\n",
       "      <td>A Mighty Ant</td>\n",
       "      <td>None</td>\n",
       "      <td>/2020/10/27/business/dealbook/ant-group-IPO.ht...</td>\n",
       "      <td>2020-10-27</td>\n",
       "      <td>1</td>\n",
       "      <td>NaN</td>\n",
       "    </tr>\n",
       "    <tr>\n",
       "      <th>201</th>\n",
       "      <td>‘If No Tourists Come, I Have No Business’: New...</td>\n",
       "      <td>None</td>\n",
       "      <td>/2020/10/09/travel/nyc-tourism-travel-restrict...</td>\n",
       "      <td>2020-10-09</td>\n",
       "      <td>1</td>\n",
       "      <td>NaN</td>\n",
       "    </tr>\n",
       "    <tr>\n",
       "      <th>202</th>\n",
       "      <td>How to Staycation in 6 American Cities</td>\n",
       "      <td>None</td>\n",
       "      <td>/2020/10/29/travel/staycation-nyc-los-angeles....</td>\n",
       "      <td>2020-10-29</td>\n",
       "      <td>1</td>\n",
       "      <td>NaN</td>\n",
       "    </tr>\n",
       "  </tbody>\n",
       "</table>\n",
       "<p>195 rows × 6 columns</p>\n",
       "</div>"
      ],
      "text/plain": [
       "                                                titles  ...                                               news\n",
       "0    Costco Customers May Come Out Ahead in Amex Di...  ...  Costco Customers May Come Out Ahead in Amex Di...\n",
       "1    Challenged by Upstarts, Lenders Try New Strate...  ...  Challenged by Upstarts, Lenders Try New Strate...\n",
       "2          Amex’s Loss in Court May Not Help Consumers  ...  Amex’s Loss in Court May Not Help ConsumersIf ...\n",
       "3    American Express Violated Antitrust Laws, Judg...  ...  American Express Violated Antitrust Laws, Judg...\n",
       "4          Morning Agenda: Fed Shows Signs of Optimism  ...  Morning Agenda: Fed Shows Signs of OptimismFed...\n",
       "..                                                 ...  ...                                                ...\n",
       "198    The Media’s Complicated Relationship With Trump  ...  The Media’s Complicated Relationship With Trum...\n",
       "199             Why Dunkin’ Is Worth Nearly $9 Billion  ...  Why Dunkin’ Is Worth Nearly $9 BillionWith bus...\n",
       "200                                       A Mighty Ant  ...                                                NaN\n",
       "201  ‘If No Tourists Come, I Have No Business’: New...  ...                                                NaN\n",
       "202             How to Staycation in 6 American Cities  ...                                                NaN\n",
       "\n",
       "[195 rows x 6 columns]"
      ]
     },
     "execution_count": 13,
     "metadata": {
      "tags": []
     },
     "output_type": "execute_result"
    }
   ],
   "source": [
    "amz['dates'] = amz['links'].apply(lambda x: np.array(re.compile(r'\\d{4}\\/\\d{2}\\/\\d{2}').findall(x)))\n",
    "amz['dates_len'] = amz['dates'].apply(lambda x: len(x))\n",
    "amz = amz[amz['dates_len'] != 0]\n",
    "amz['news'] = amz['titles'] + amz['subtitles']\n",
    "amz['dates'] = amz['dates'].apply(lambda x: x[0]).astype(str)\n",
    "amz['dates'] = pd.to_datetime(amz['dates'])\n",
    "\n",
    "amz"
   ]
  },
  {
   "cell_type": "code",
   "execution_count": null,
   "metadata": {
    "colab": {
     "base_uri": "https://localhost:8080/",
     "height": 212
    },
    "id": "Arc2YUTSGbc9",
    "outputId": "e53f99e9-3d7b-487b-9c41-5922e1d55ca3"
   },
   "outputs": [
    {
     "name": "stdout",
     "output_type": "stream",
     "text": [
      "(195, 2)\n"
     ]
    },
    {
     "data": {
      "text/html": [
       "<div>\n",
       "<style scoped>\n",
       "    .dataframe tbody tr th:only-of-type {\n",
       "        vertical-align: middle;\n",
       "    }\n",
       "\n",
       "    .dataframe tbody tr th {\n",
       "        vertical-align: top;\n",
       "    }\n",
       "\n",
       "    .dataframe thead th {\n",
       "        text-align: right;\n",
       "    }\n",
       "</style>\n",
       "<table border=\"1\" class=\"dataframe\">\n",
       "  <thead>\n",
       "    <tr style=\"text-align: right;\">\n",
       "      <th></th>\n",
       "      <th>news</th>\n",
       "      <th>dates</th>\n",
       "    </tr>\n",
       "  </thead>\n",
       "  <tbody>\n",
       "    <tr>\n",
       "      <th>0</th>\n",
       "      <td>Costco Customers May Come Out Ahead in Amex Di...</td>\n",
       "      <td>2015-02-13</td>\n",
       "    </tr>\n",
       "    <tr>\n",
       "      <th>1</th>\n",
       "      <td>Challenged by Upstarts, Lenders Try New Strate...</td>\n",
       "      <td>2015-01-07</td>\n",
       "    </tr>\n",
       "    <tr>\n",
       "      <th>2</th>\n",
       "      <td>Amex’s Loss in Court May Not Help ConsumersIf ...</td>\n",
       "      <td>2015-02-24</td>\n",
       "    </tr>\n",
       "    <tr>\n",
       "      <th>3</th>\n",
       "      <td>American Express Violated Antitrust Laws, Judg...</td>\n",
       "      <td>2015-02-20</td>\n",
       "    </tr>\n",
       "    <tr>\n",
       "      <th>4</th>\n",
       "      <td>Morning Agenda: Fed Shows Signs of OptimismFed...</td>\n",
       "      <td>2015-01-08</td>\n",
       "    </tr>\n",
       "  </tbody>\n",
       "</table>\n",
       "</div>"
      ],
      "text/plain": [
       "                                                news      dates\n",
       "0  Costco Customers May Come Out Ahead in Amex Di... 2015-02-13\n",
       "1  Challenged by Upstarts, Lenders Try New Strate... 2015-01-07\n",
       "2  Amex’s Loss in Court May Not Help ConsumersIf ... 2015-02-24\n",
       "3  American Express Violated Antitrust Laws, Judg... 2015-02-20\n",
       "4  Morning Agenda: Fed Shows Signs of OptimismFed... 2015-01-08"
      ]
     },
     "execution_count": 16,
     "metadata": {
      "tags": []
     },
     "output_type": "execute_result"
    }
   ],
   "source": [
    "amz = amz[['news', 'dates']]\n",
    "print(amz.shape)\n",
    "amz.head()"
   ]
  },
  {
   "cell_type": "code",
   "execution_count": null,
   "metadata": {
    "colab": {
     "base_uri": "https://localhost:8080/",
     "height": 221
    },
    "id": "7iNX-k4zGhY_",
    "outputId": "e27d7173-5e73-4f98-e0e7-7616f8bb1da6"
   },
   "outputs": [
    {
     "name": "stdout",
     "output_type": "stream",
     "text": [
      "(192, 2)\n"
     ]
    },
    {
     "data": {
      "text/html": [
       "<div>\n",
       "<style scoped>\n",
       "    .dataframe tbody tr th:only-of-type {\n",
       "        vertical-align: middle;\n",
       "    }\n",
       "\n",
       "    .dataframe tbody tr th {\n",
       "        vertical-align: top;\n",
       "    }\n",
       "\n",
       "    .dataframe thead th {\n",
       "        text-align: right;\n",
       "    }\n",
       "</style>\n",
       "<table border=\"1\" class=\"dataframe\">\n",
       "  <thead>\n",
       "    <tr style=\"text-align: right;\">\n",
       "      <th></th>\n",
       "      <th>news</th>\n",
       "      <th>dates</th>\n",
       "    </tr>\n",
       "  </thead>\n",
       "  <tbody>\n",
       "    <tr>\n",
       "      <th>0</th>\n",
       "      <td>Costco Customers May Come Out Ahead in Amex Di...</td>\n",
       "      <td>2015-02-13</td>\n",
       "    </tr>\n",
       "    <tr>\n",
       "      <th>1</th>\n",
       "      <td>Challenged by Upstarts, Lenders Try New Strate...</td>\n",
       "      <td>2015-01-07</td>\n",
       "    </tr>\n",
       "    <tr>\n",
       "      <th>2</th>\n",
       "      <td>Amex’s Loss in Court May Not Help ConsumersIf ...</td>\n",
       "      <td>2015-02-24</td>\n",
       "    </tr>\n",
       "    <tr>\n",
       "      <th>3</th>\n",
       "      <td>American Express Violated Antitrust Laws, Judg...</td>\n",
       "      <td>2015-02-20</td>\n",
       "    </tr>\n",
       "    <tr>\n",
       "      <th>4</th>\n",
       "      <td>Morning Agenda: Fed Shows Signs of OptimismFed...</td>\n",
       "      <td>2015-01-08</td>\n",
       "    </tr>\n",
       "  </tbody>\n",
       "</table>\n",
       "</div>"
      ],
      "text/plain": [
       "                                                news      dates\n",
       "0  Costco Customers May Come Out Ahead in Amex Di... 2015-02-13\n",
       "1  Challenged by Upstarts, Lenders Try New Strate... 2015-01-07\n",
       "2  Amex’s Loss in Court May Not Help ConsumersIf ... 2015-02-24\n",
       "3  American Express Violated Antitrust Laws, Judg... 2015-02-20\n",
       "4  Morning Agenda: Fed Shows Signs of OptimismFed... 2015-01-08"
      ]
     },
     "execution_count": 19,
     "metadata": {
      "tags": []
     },
     "output_type": "execute_result"
    }
   ],
   "source": [
    "amz = amz.dropna()\n",
    "print(amz.shape)\n",
    "amz.head()"
   ]
  },
  {
   "cell_type": "code",
   "execution_count": null,
   "metadata": {
    "id": "uIqWzrH82S5h"
   },
   "outputs": [],
   "source": [
    "amz.to_csv('/content/drive/MyDrive/full stack/{}_parsed_news.csv'.format(company))"
   ]
  },
  {
   "cell_type": "markdown",
   "metadata": {
    "id": "SGtT3trXQdEb"
   },
   "source": [
    "# Единый цикл с тиккерами"
   ]
  },
  {
   "cell_type": "code",
   "execution_count": null,
   "metadata": {
    "colab": {
     "base_uri": "https://localhost:8080/"
    },
    "id": "rhdD-vYS9plW",
    "outputId": "3dc7a3ee-1f7c-4048-b22a-b1f89b3f906a"
   },
   "outputs": [
    {
     "data": {
      "text/plain": [
       "[['01', '01'], ['04', '06'], ['07', '09'], ['10', '12']]"
      ]
     },
     "execution_count": 15,
     "metadata": {
      "tags": []
     },
     "output_type": "execute_result"
    }
   ],
   "source": [
    "[['01', '01'], ['04', '06'], ['07', '09'], ['10', '12']]"
   ]
  },
  {
   "cell_type": "code",
   "execution_count": null,
   "metadata": {
    "id": "QgCVc2dGRlSo"
   },
   "outputs": [],
   "source": [
    "def parse(comp_name, comp_name_for_parse):\n",
    "  years = list(range(2015, 2021))\n",
    "  months = [['01', '01'],\n",
    "            ['02', '02'],\n",
    "            ['03', '03'],\n",
    "            ['04', '04'],\n",
    "            ['05', '05'],\n",
    "            ['06', '06'],\n",
    "            ['07', '07'],\n",
    "            ['08', '08'],\n",
    "            ['09', '09'],\n",
    "            ['10', '10'],\n",
    "            ['11', '11'],\n",
    "            ['12', '12']]\n",
    "\n",
    "  titles = []\n",
    "  subtitles = []\n",
    "  links = []\n",
    "  #print(comp_name_for_parse)\n",
    "\n",
    "  with tqdm(desc=comp_name, total= len(months) * len(years)) as pbar_outer:\n",
    "\n",
    "      for year in years:\n",
    "          for month in months:\n",
    "\n",
    "              time.sleep(3)\n",
    "\n",
    "\n",
    "              url = 'https://www.nytimes.com/search?dropmab=false&endDate={0}{2}28&query={3}&sections=Business%7Cnyt%3A%2F%2Fsection%2F0415b2b0-513a-5e78-80da-21ab770cb753&sort=best&startDate={0}{1}01'.format(str(year), month[0], month[1], comp_name_for_parse)\n",
    "              #print(url)\n",
    "\n",
    "              try: \n",
    "                html = urlopen(url)\n",
    "\n",
    "                s = str(html.read().decode('utf'))\n",
    "\n",
    "                c = 0\n",
    "                soup = BeautifulSoup(s)\n",
    "\n",
    "                for p in soup.find_all('p', class_ = 'css-16nhkrn'):\n",
    "                    c+= 1\n",
    "                    #print(c)\n",
    "                    #print(remove_text_between_parens(str(div)))\n",
    "                    subtitles.append(remove_text_between_parens(str(p)))\n",
    "\n",
    "                c = 0\n",
    "                for h4 in soup.find_all('h4', class_ = 'css-2fgx4k'):\n",
    "                    c+= 1\n",
    "                    #print(c)\n",
    "                    #print(remove_text_between_parens(str(h4)))\n",
    "                    titles.append(remove_text_between_parens(str(h4)))\n",
    "\n",
    "                c = 0\n",
    "                for li in soup.find_all('li', class_ = 'css-1l4w6pd'):\n",
    "                    for a in li.find_all('a'):\n",
    "                        #print(c)\n",
    "                        #print(a.get('href'))\n",
    "                        links.append(a.get('href'))\n",
    "                        c+= 1 \n",
    "                pbar_outer.update(1)\n",
    "\n",
    "              except HTTPError:\n",
    "                print('ERROR: {0} no data for {1}.{2}'.format(comp_name, month, year))\n",
    "                continue\n",
    "                pbar_outer.update(1)\n",
    "                \n",
    "\n",
    "\n",
    "  df = pd.DataFrame([titles, subtitles, links]).T\n",
    "  df.columns = ['titles', 'subtitles', 'links']\n",
    "  \n",
    "  return df"
   ]
  },
  {
   "cell_type": "code",
   "execution_count": null,
   "metadata": {
    "colab": {
     "base_uri": "https://localhost:8080/"
    },
    "id": "tyamsn_6VxiS",
    "outputId": "180a5d3a-e2b0-4f9e-9da4-d92ef10e2904"
   },
   "outputs": [
    {
     "name": "stdout",
     "output_type": "stream",
     "text": [
      "['Newmont Goldcorp', 'Virgin Galactics', 'Microstrategy', 'Transocean', 'Momo', 'Beyond Meat', 'Zynerba Pharmaceuticals', 'Carnival Corporation', 'Etsy', 'Lumentum', 'Alibaba', 'Microsoft', 'Apple', 'AMD', 'Intel', 'Tesla']\n",
      "['NEM', 'SPCE', 'MSTR', 'RIG', 'MOMO', 'BYND', 'ZYNE', 'CCL', 'ETSY', 'LITE', 'BABA', 'MSFT', 'AAPL', 'AMD', 'INTC', 'TSLA']\n"
     ]
    }
   ],
   "source": [
    "inp = \"\"\"1. Newmont Goldcorp / NEM\n",
    "2. Virgin Galactics / SPCE (Поразвлекаться можно, от новостей ее волатилит)\n",
    "3. Microstrategy / MSTR\n",
    "4. Transocean / RIG\n",
    "5. Momo / MOMO\n",
    "6. Beyond Meat / BYND\n",
    "7. Zynerba Pharmaceuticals / ZYNE\n",
    "8. Carnival Corporation / CCL\n",
    "9. Etsy / ETSY\n",
    "10. Lumentum / LITE\"\"\"\n",
    "\n",
    "inp1= \"\"\"Alibaba / BABA\n",
    "Microsoft / MSFT\n",
    "Apple / AAPL\n",
    "AMD / AMD\n",
    "Intel / INTC\n",
    "Tesla / TSLA\"\"\"\n",
    "\n",
    "inp = inp + '\\n' + inp1\n",
    "\n",
    "inp = inp.split('\\n')\n",
    "res = []\n",
    "\n",
    "for i in inp:\n",
    "  res.append(i.split(' / '))\n",
    "\n",
    "res = np.array(res).T\n",
    "\n",
    "comp_names = res[0]\n",
    "\n",
    "comp_names = [re.sub(r'\\d+. ', '', a) for a in comp_names]\n",
    "#print(comp_names)\n",
    "\n",
    "tickers = res[1]\n",
    "tickers = [re.sub(r' \\(.*\\)', '', a) for a in tickers]\n",
    "\n",
    "print(comp_names)\n",
    "print(tickers)"
   ]
  },
  {
   "cell_type": "code",
   "execution_count": null,
   "metadata": {
    "id": "3aWTibPSxdO9"
   },
   "outputs": [],
   "source": [
    "tickers = ['AAPL', 'BABA', 'INTC', 'MSFT', 'TSLA', 'AMZN', 'T','CSCO','MU','NVDA','F','KO','AMD']\n",
    "comp_names = ['Apple', 'Alibaba', 'Intel','Microsoft', 'Tesla', 'Amazon', 'AT&T', 'Cisco', 'Micron Technology', 'Nvidia', 'Ford', 'Coca-Cola', 'AMD']"
   ]
  },
  {
   "cell_type": "code",
   "execution_count": null,
   "metadata": {
    "id": "cns2ngyuguLl"
   },
   "outputs": [],
   "source": [
    "tickers = ['GOOGL', 'FB', 'EBAY', 'LRCX', 'NFLX', 'NKE', 'DIS','MCD','PYPL','SBUX','SMSNl','MA']\n",
    "comp_names = ['google', 'facebook', 'ebay', 'lam research', 'netflix', 'nike', 'disney', 'McDonalds', 'paypal', 'starbucks', 'samsung', 'mastercard']"
   ]
  },
  {
   "cell_type": "code",
   "execution_count": null,
   "metadata": {
    "colab": {
     "base_uri": "https://localhost:8080/"
    },
    "id": "K99bdWM8_7JI",
    "outputId": "b0ed9de1-0bac-4418-8453-b47f22d03fd2"
   },
   "outputs": [
    {
     "data": {
      "text/plain": [
       "(12, 12)"
      ]
     },
     "execution_count": 20,
     "metadata": {
      "tags": []
     },
     "output_type": "execute_result"
    }
   ],
   "source": [
    "len(tickers), len(comp_names)"
   ]
  },
  {
   "cell_type": "code",
   "execution_count": null,
   "metadata": {
    "colab": {
     "base_uri": "https://localhost:8080/"
    },
    "id": "rIHyq6ZVkxHq",
    "outputId": "9c266597-0a5e-4dba-d1da-cc4f778b60fd"
   },
   "outputs": [
    {
     "data": {
      "text/plain": [
       "{'DIS': 'disney',\n",
       " 'EBAY': 'ebay',\n",
       " 'FB': 'facebook',\n",
       " 'GOOGL': 'google',\n",
       " 'LRCX': 'lam research',\n",
       " 'MA': 'mastercard',\n",
       " 'MCD': 'McDonalds',\n",
       " 'NFLX': 'netflix',\n",
       " 'NKE': 'nike',\n",
       " 'PYPL': 'paypal',\n",
       " 'SBUX': 'starbucks',\n",
       " 'SMSNl': 'samsung'}"
      ]
     },
     "execution_count": 21,
     "metadata": {
      "tags": []
     },
     "output_type": "execute_result"
    }
   ],
   "source": [
    "name_tick_dict = dict(zip(tickers, comp_names))\n",
    "name_tick_dict "
   ]
  },
  {
   "cell_type": "code",
   "execution_count": null,
   "metadata": {
    "colab": {
     "base_uri": "https://localhost:8080/",
     "height": 739,
     "referenced_widgets": [
      "e37c7a9e663c45a59dfc6f7012e413b5",
      "e20fa0f945f043a58f4df067889f6f0e",
      "a160d0400a124ffb87831c4621d205c8",
      "192abfd0774449449c21c6e39d71497c",
      "60bddad92d594f8e9dba15c72d1915d4",
      "ee167a2e1ab9456aacda0176ca5f0473",
      "e18c5dbe0c9a4769996acc161157cea0",
      "f91f0a936e374d07a9fc13e276991e27",
      "48351d53d8ee4112b657229cf5a9b2c8",
      "12a726781c1649e8827c3b80179ea4d4",
      "00c53c7b120d4c1186de5bdae4f05e9a",
      "d84ec74db00849a59e2655b126353deb",
      "b723a93d0ea54698b5a514d158b4ef55",
      "7337f238de744f55b9291b37f75ae602",
      "da89d008fa524df88a1f826d89d76711",
      "5cc2a566fa54481eb61bc4ca13e6416b",
      "563535d4365b4854afe1078d6ac9c7b9",
      "6cc457bd54da443aab94e2e8b50299df",
      "f147c5cdbc004abe921d05ad903d77c2",
      "01e1c93fc3fc4c058753ee10e831b194",
      "7f439040aa8a465e988bb482a27bda8c",
      "1a9e2b0233b041fc951c2413ab1e369a",
      "c3a56a09504d4bd195bade857dee7d9d",
      "c44787ec2ba5416296068cc509339574",
      "bfa9c283cba8447ca58f1c40813c742c",
      "090064d3c4644da581ca512ba6351c17",
      "085e10b5930c4a2fb7eb71caa5078337",
      "562bea9b396a4d68b51e0165efe892e5",
      "97650df483004ff191d45bae32410da4",
      "9c9420cff4f2404d8d2bccf03b4dc696",
      "e4e235048e514c8d8b08f91660513412",
      "014c7a183fc7404e9aaf06f3e603b52b",
      "ed4f6dd08b8e4e3384ecbf0272b77a1b",
      "4e115c719817476a8e07079ec1ef57b9",
      "2fe128cc733e42cab6d3da0554f80f80",
      "011400cdc2d24e429a46c37479dcf676",
      "1a24271999db4f6c8f90304cc56a3e3c",
      "a311d865063a422bbc53e301c90f7f52",
      "1b5f062028cd4698afa96c8e535897b7",
      "a66a7ecec0354067a1329184bba73ea4",
      "adb42461c1e844e5bca4e2306a4c2e3e",
      "58c613e5ee8b48449a5e4df7eb2ea808",
      "0923941c0e414279aec862cb1bc2e273",
      "cb8e8d96d11a48a69857ed99c1f2753f",
      "989312dacf004abcb7ecec2611b88cc9",
      "b49cf701e2a748dcabf9c1e8356adc95",
      "5cd78933026b48dd8c6300fe51c52fcc",
      "604f89844f9e408c8d98378ac26d7eda",
      "775d3631e0bd4b999d8fb6efe2de75a1",
      "acf333ba85aa4d63be53c44877422a2e",
      "749ebb48ea954df2a112d34d4c32b7f0",
      "e8fe9d1d5c804018aac8019de52af6c2",
      "fc7cd5700ee0447e8b5bb6d70afaf701",
      "eac06eb616914afdb7335684cfd33b0d",
      "458557a6d0e940e78bba2b28d97c9a9b",
      "4f84a2b2a5464230b0fb22e657f69179",
      "40edacebc89c45e6848a307d4e6afbe2",
      "36e3310243014480b00fc384fbbfc31a",
      "5e45cd8bdbf74d3b8834de2051275607",
      "1134db04652e4fb2899cdf9b68e7582b",
      "5cfef4eb41a2462ab2537830a3a887c7",
      "f2eda971f0e249b395631814020b92df",
      "872676d808924b748fe4cfb61f77e88d",
      "727051d3e85a4e3f93d1f2dc0c7ecb8a",
      "7bdce72779f94ba7a57f59c403ce93a4",
      "1e28a0d7a8034019bd72cf346fa57427",
      "77b1b6f8b0c143e7b69e689224e6a5ba",
      "93ec39209c224e5fb8fbc967abebedc9",
      "a498d31e2f80472da8cf214bb46e5fd1",
      "3302d90d1f88428aa8e2bf598a4f1355",
      "67276a718d324254a03152ee7c0af96d",
      "f562698218d840c5b11cbdbf00e4293f",
      "8ad3c9d040fe442ab1e0728f4470c99c",
      "6732d005d5854bb7a268edf172de6693",
      "12cef00a7ebd4040b0305f34b055321b",
      "68eb6ccec3ba4bf99cbebfdb7c46453b",
      "0b821d4cd4d14356b54dbb74f81bb29a",
      "a2d0f913122a49a497aff601cdce1ab3",
      "bbd3efe3be6248bfa9c07ed995119284",
      "90b22f67a1c54ae79df0113ed681ac58",
      "d8a7e797f9f442ac8a855afb3c1aec55",
      "e481949d03d7434098533e6074782e59",
      "ab2f1f8634c44be3abc8904d804d9832",
      "988455f32d054ccc9dd031dd2c161e8b",
      "be1454a81fab462bab29c7ea3bde7741",
      "d5916bd88d114286b127963c8bac755d",
      "28c53f2215794e4bbcaf6b1beae8f2a0",
      "672934b812204f7bb4cae110919e8e19",
      "dbd51143d0e346c3ade83016e610b1ec",
      "55c493d940f9448c9a1d6918eede2eae",
      "90cbfcb9979247d0b6ac74103166afbb",
      "17d8d43f8a2a467897fd40dff975063c",
      "b3721c836b204acb8889ed233ba4ee2f",
      "f7401b7a78724998adc783793b8102e0",
      "1b666b742c3840f3a5993d2901d56be4",
      "e5f754ac9fc140019b5dd42c01af25dc"
     ]
    },
    "id": "Q-Ovyx5CQfi4",
    "outputId": "7ab1b204-2151-47f0-a277-9e315725317e"
   },
   "outputs": [
    {
     "data": {
      "application/vnd.jupyter.widget-view+json": {
       "model_id": "e37c7a9e663c45a59dfc6f7012e413b5",
       "version_major": 2,
       "version_minor": 0
      },
      "text/plain": [
       "HBox(children=(FloatProgress(value=0.0, description='google', max=72.0, style=ProgressStyle(description_width=…"
      ]
     },
     "metadata": {
      "tags": []
     },
     "output_type": "display_data"
    },
    {
     "name": "stdout",
     "output_type": "stream",
     "text": [
      "\n"
     ]
    },
    {
     "data": {
      "application/vnd.jupyter.widget-view+json": {
       "model_id": "48351d53d8ee4112b657229cf5a9b2c8",
       "version_major": 2,
       "version_minor": 0
      },
      "text/plain": [
       "HBox(children=(FloatProgress(value=0.0, description='facebook', max=72.0, style=ProgressStyle(description_widt…"
      ]
     },
     "metadata": {
      "tags": []
     },
     "output_type": "display_data"
    },
    {
     "name": "stdout",
     "output_type": "stream",
     "text": [
      "ERROR: facebook no data for ['10', '10'].2016\n",
      "\n"
     ]
    },
    {
     "data": {
      "application/vnd.jupyter.widget-view+json": {
       "model_id": "563535d4365b4854afe1078d6ac9c7b9",
       "version_major": 2,
       "version_minor": 0
      },
      "text/plain": [
       "HBox(children=(FloatProgress(value=0.0, description='ebay', max=72.0, style=ProgressStyle(description_width='i…"
      ]
     },
     "metadata": {
      "tags": []
     },
     "output_type": "display_data"
    },
    {
     "name": "stdout",
     "output_type": "stream",
     "text": [
      "ERROR: ebay no data for ['12', '12'].2019\n",
      "\n"
     ]
    },
    {
     "data": {
      "application/vnd.jupyter.widget-view+json": {
       "model_id": "bfa9c283cba8447ca58f1c40813c742c",
       "version_major": 2,
       "version_minor": 0
      },
      "text/plain": [
       "HBox(children=(FloatProgress(value=0.0, description='lam research', max=72.0, style=ProgressStyle(description_…"
      ]
     },
     "metadata": {
      "tags": []
     },
     "output_type": "display_data"
    },
    {
     "name": "stdout",
     "output_type": "stream",
     "text": [
      "ERROR: lam research no data for ['07', '07'].2019\n",
      "\n"
     ]
    },
    {
     "data": {
      "application/vnd.jupyter.widget-view+json": {
       "model_id": "ed4f6dd08b8e4e3384ecbf0272b77a1b",
       "version_major": 2,
       "version_minor": 0
      },
      "text/plain": [
       "HBox(children=(FloatProgress(value=0.0, description='netflix', max=72.0, style=ProgressStyle(description_width…"
      ]
     },
     "metadata": {
      "tags": []
     },
     "output_type": "display_data"
    },
    {
     "name": "stdout",
     "output_type": "stream",
     "text": [
      "ERROR: netflix no data for ['04', '04'].2018\n",
      "ERROR: netflix no data for ['12', '12'].2019\n",
      "\n"
     ]
    },
    {
     "data": {
      "application/vnd.jupyter.widget-view+json": {
       "model_id": "adb42461c1e844e5bca4e2306a4c2e3e",
       "version_major": 2,
       "version_minor": 0
      },
      "text/plain": [
       "HBox(children=(FloatProgress(value=0.0, description='nike', max=72.0, style=ProgressStyle(description_width='i…"
      ]
     },
     "metadata": {
      "tags": []
     },
     "output_type": "display_data"
    },
    {
     "name": "stdout",
     "output_type": "stream",
     "text": [
      "ERROR: nike no data for ['01', '01'].2016\n",
      "\n"
     ]
    },
    {
     "data": {
      "application/vnd.jupyter.widget-view+json": {
       "model_id": "775d3631e0bd4b999d8fb6efe2de75a1",
       "version_major": 2,
       "version_minor": 0
      },
      "text/plain": [
       "HBox(children=(FloatProgress(value=0.0, description='disney', max=72.0, style=ProgressStyle(description_width=…"
      ]
     },
     "metadata": {
      "tags": []
     },
     "output_type": "display_data"
    },
    {
     "name": "stdout",
     "output_type": "stream",
     "text": [
      "\n"
     ]
    },
    {
     "data": {
      "application/vnd.jupyter.widget-view+json": {
       "model_id": "40edacebc89c45e6848a307d4e6afbe2",
       "version_major": 2,
       "version_minor": 0
      },
      "text/plain": [
       "HBox(children=(FloatProgress(value=0.0, description='McDonalds', max=72.0, style=ProgressStyle(description_wid…"
      ]
     },
     "metadata": {
      "tags": []
     },
     "output_type": "display_data"
    },
    {
     "name": "stdout",
     "output_type": "stream",
     "text": [
      "\n"
     ]
    },
    {
     "data": {
      "application/vnd.jupyter.widget-view+json": {
       "model_id": "7bdce72779f94ba7a57f59c403ce93a4",
       "version_major": 2,
       "version_minor": 0
      },
      "text/plain": [
       "HBox(children=(FloatProgress(value=0.0, description='paypal', max=72.0, style=ProgressStyle(description_width=…"
      ]
     },
     "metadata": {
      "tags": []
     },
     "output_type": "display_data"
    },
    {
     "name": "stdout",
     "output_type": "stream",
     "text": [
      "ERROR: paypal no data for ['01', '01'].2017\n",
      "\n"
     ]
    },
    {
     "data": {
      "application/vnd.jupyter.widget-view+json": {
       "model_id": "8ad3c9d040fe442ab1e0728f4470c99c",
       "version_major": 2,
       "version_minor": 0
      },
      "text/plain": [
       "HBox(children=(FloatProgress(value=0.0, description='starbucks', max=72.0, style=ProgressStyle(description_wid…"
      ]
     },
     "metadata": {
      "tags": []
     },
     "output_type": "display_data"
    },
    {
     "name": "stdout",
     "output_type": "stream",
     "text": [
      "\n"
     ]
    },
    {
     "data": {
      "application/vnd.jupyter.widget-view+json": {
       "model_id": "d8a7e797f9f442ac8a855afb3c1aec55",
       "version_major": 2,
       "version_minor": 0
      },
      "text/plain": [
       "HBox(children=(FloatProgress(value=0.0, description='samsung', max=72.0, style=ProgressStyle(description_width…"
      ]
     },
     "metadata": {
      "tags": []
     },
     "output_type": "display_data"
    },
    {
     "name": "stdout",
     "output_type": "stream",
     "text": [
      "\n"
     ]
    },
    {
     "data": {
      "application/vnd.jupyter.widget-view+json": {
       "model_id": "dbd51143d0e346c3ade83016e610b1ec",
       "version_major": 2,
       "version_minor": 0
      },
      "text/plain": [
       "HBox(children=(FloatProgress(value=0.0, description='mastercard', max=72.0, style=ProgressStyle(description_wi…"
      ]
     },
     "metadata": {
      "tags": []
     },
     "output_type": "display_data"
    },
    {
     "name": "stdout",
     "output_type": "stream",
     "text": [
      "\n"
     ]
    }
   ],
   "source": [
    "dict_parses = {}\n",
    "\n",
    "tickers = list(name_tick_dict.keys())\n",
    "\n",
    "#for i in range(0, len(comp_names)):\n",
    "\n",
    "for ticker in tickers:\n",
    "\n",
    "    comp_name = name_tick_dict[ticker]\n",
    "    ticker = ticker\n",
    "\n",
    "    comp_name_for_parse = comp_name.replace(' ', '%20').replace('&', '%26')\n",
    "\n",
    "    #print(ticker, )\n",
    "    df_loc = parse(comp_name, comp_name_for_parse) \n",
    "\n",
    "    df_loc['dates'] = df_loc['links'].apply(lambda x: np.array(re.compile(r'\\d{4}\\/\\d{2}\\/\\d{2}').findall(x)))\n",
    "    df_loc['dates_len'] = df_loc['dates'].apply(lambda x: len(x))\n",
    "    df_loc = df_loc[df_loc['dates_len'] != 0]\n",
    "    df_loc['news'] = df_loc['titles'] + df_loc['subtitles']\n",
    "    df_loc['dates'] = df_loc['dates'].apply(lambda x: x[0]).astype(str)\n",
    "    df_loc['dates'] = pd.to_datetime(df_loc['dates'])\n",
    "\n",
    "    df_loc = df_loc[['news', 'dates']]\n",
    "    df_loc = df_loc.dropna()\n",
    "\n",
    "    df_loc.to_csv('/content/drive/MyDrive/full stack/parse_data_monthes/{}_parsed_news.csv'.format(comp_name))\n",
    "\n",
    "    #dict_parses[ticker] = df_loc\n",
    "\n",
    "    with open('/content/drive/MyDrive/full stack/parse_data_monthes/parses_dict.pickle', 'rb') as f:\n",
    "      dict_parses = pickle.load(f)\n",
    "\n",
    "    dict_parses[ticker] = df_loc\n",
    "\n",
    "    with open('/content/drive/MyDrive/full stack/parse_data_monthes/parses_dict.pickle', 'wb') as f:\n",
    "      pickle.dump(dict_parses, f)\n",
    "    \n"
   ]
  },
  {
   "cell_type": "code",
   "execution_count": null,
   "metadata": {
    "id": "5uBQWpU1kAte"
   },
   "outputs": [],
   "source": [
    "with open('/content/drive/MyDrive/full stack/parse_data_monthes/parses_dict.pickle', 'wb') as f:\n",
    "  pickle.dump(dict_parses, f)"
   ]
  },
  {
   "cell_type": "code",
   "execution_count": null,
   "metadata": {
    "colab": {
     "base_uri": "https://localhost:8080/"
    },
    "id": "zWSIwo6hERrN",
    "outputId": "4e6ea120-76b8-4349-f9a1-884a7ad47444"
   },
   "outputs": [
    {
     "data": {
      "text/plain": [
       "{'AAPL':                                                   news      dates\n",
       " 0    S.E.C. Has Yet to Set Rule on Tricky Ratio of ... 2015-01-26\n",
       " 1    New York Attorney General Seeks Expanded Repor... 2015-01-14\n",
       " 2    Amazon’s Tax Deal With Luxembourg May Break Ru... 2015-01-17\n",
       " 3    How ‘1989’ Edged Out ‘Frozen’ as the No. 1 Alb... 2015-01-05\n",
       " 4    Digital Tax Increase to Take Effect in EuropeN... 2015-01-02\n",
       " ..                                                 ...        ...\n",
       " 699  What Did Google Do?The electric-car maker will... 2020-10-21\n",
       " 700  Apple Puts Key Contractor on Probation Over La... 2020-11-09\n",
       " 701  Apple will pay $113 million to settle states’ ... 2020-11-18\n",
       " 702  Catch up on the latest news, from the DealBook... 2020-11-18\n",
       " 703  Amazon Charged With Antitrust Violations by Eu... 2020-11-10\n",
       " \n",
       " [692 rows x 2 columns]}"
      ]
     },
     "execution_count": 26,
     "metadata": {
      "tags": []
     },
     "output_type": "execute_result"
    }
   ],
   "source": [
    "dict_parses"
   ]
  },
  {
   "cell_type": "code",
   "execution_count": null,
   "metadata": {
    "id": "88Ts9H7GVHP-"
   },
   "outputs": [],
   "source": [
    "with open('/content/drive/MyDrive/full stack/parse_data/parses_dict.pickle', 'wb') as f:\n",
    "  pickle.dump(dict_parses, f)"
   ]
  },
  {
   "cell_type": "code",
   "execution_count": null,
   "metadata": {
    "id": "zW11hrPuguyj"
   },
   "outputs": [],
   "source": [
    "with open('/content/drive/MyDrive/full stack/parse_data/parses_dict.pickle', 'rb') as f:\n",
    "  dict_parses = pickle.load(f)"
   ]
  }
 ],
 "metadata": {
  "colab": {
   "name": "Парсинг.ipynb",
   "provenance": [],
   "toc_visible": true
  },
  "kernelspec": {
   "display_name": "Python 3",
   "language": "python",
   "name": "python3"
  },
  "language_info": {
   "codemirror_mode": {
    "name": "ipython",
    "version": 3
   },
   "file_extension": ".py",
   "mimetype": "text/x-python",
   "name": "python",
   "nbconvert_exporter": "python",
   "pygments_lexer": "ipython3",
   "version": "3.8.8"
  },
  "widgets": {
   "application/vnd.jupyter.widget-state+json": {
    "state": {},
    "version_major": 2,
    "version_minor": 0
   }
  }
 },
 "nbformat": 4,
 "nbformat_minor": 4
}
