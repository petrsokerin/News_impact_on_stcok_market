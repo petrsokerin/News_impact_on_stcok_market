{
 "cells": [
  {
   "cell_type": "code",
   "execution_count": 1,
   "metadata": {
    "colab": {
     "background_save": true,
     "base_uri": "https://localhost:8080/"
    },
    "id": "oUWV5FodgkhD",
    "outputId": "2fa63856-8a35-48c1-9d8b-3da9a97087af"
   },
   "outputs": [
    {
     "name": "stderr",
     "output_type": "stream",
     "text": [
      "[nltk_data] Downloading package stopwords to\n",
      "[nltk_data]     C:\\Users\\User\\AppData\\Roaming\\nltk_data...\n",
      "[nltk_data]   Unzipping corpora\\stopwords.zip.\n"
     ]
    },
    {
     "data": {
      "text/plain": [
       "True"
      ]
     },
     "execution_count": 1,
     "metadata": {},
     "output_type": "execute_result"
    }
   ],
   "source": [
    "import pandas as pd\n",
    "import numpy as np\n",
    "import string\n",
    "from sklearn.linear_model import LogisticRegression\n",
    "from nltk.stem.porter import PorterStemmer\n",
    "import nltk\n",
    "from sklearn.metrics import accuracy_score, confusion_matrix,classification_report, roc_auc_score\n",
    "from collections import Counter\n",
    "from sklearn.ensemble import RandomForestClassifier\n",
    "from sklearn.svm import SVC\n",
    "from sklearn.ensemble import GradientBoostingClassifier\n",
    "from sklearn.pipeline import Pipeline\n",
    "from sklearn.feature_extraction.text import CountVectorizer\n",
    "from sklearn.feature_extraction.text import TfidfVectorizer\n",
    "from sklearn.feature_extraction.text import TfidfTransformer\n",
    "from sklearn.model_selection import train_test_split\n",
    "from nltk.stem import WordNetLemmatizer\n",
    "import seaborn as sns\n",
    "from sklearn import metrics\n",
    "import matplotlib.pyplot as plt\n",
    "\n",
    "import nltk\n",
    "nltk.download('stopwords')\n"
   ]
  },
  {
   "cell_type": "code",
   "execution_count": 2,
   "metadata": {
    "colab": {
     "base_uri": "https://localhost:8080/"
    },
    "id": "TA-PSbfWzxoI",
    "outputId": "b9ec2d91-6dbd-4c49-fcb4-acecaab8d469"
   },
   "outputs": [],
   "source": [
    "try:\n",
    "    from google.colab import drive\n",
    "    drive.mount('/content/drive/')\n",
    "    path = '/content/drive/MyDrive/NLP/'\n",
    "except:\n",
    "    path = ''"
   ]
  },
  {
   "cell_type": "markdown",
   "metadata": {
    "id": "Cn6fitiI0i89"
   },
   "source": [
    "# Подгрузка данных"
   ]
  },
  {
   "cell_type": "code",
   "execution_count": 3,
   "metadata": {
    "colab": {
     "base_uri": "https://localhost:8080/",
     "height": 202
    },
    "id": "f07dHPKBXycC",
    "outputId": "bf759e2d-8416-4c1b-eaae-3d9f76bffb22"
   },
   "outputs": [
    {
     "data": {
      "text/html": [
       "<div>\n",
       "<style scoped>\n",
       "    .dataframe tbody tr th:only-of-type {\n",
       "        vertical-align: middle;\n",
       "    }\n",
       "\n",
       "    .dataframe tbody tr th {\n",
       "        vertical-align: top;\n",
       "    }\n",
       "\n",
       "    .dataframe thead th {\n",
       "        text-align: right;\n",
       "    }\n",
       "</style>\n",
       "<table border=\"1\" class=\"dataframe\">\n",
       "  <thead>\n",
       "    <tr style=\"text-align: right;\">\n",
       "      <th></th>\n",
       "      <th>news</th>\n",
       "      <th>target</th>\n",
       "    </tr>\n",
       "  </thead>\n",
       "  <tbody>\n",
       "    <tr>\n",
       "      <th>0</th>\n",
       "      <td>The international electronic industry company ...</td>\n",
       "      <td>0</td>\n",
       "    </tr>\n",
       "    <tr>\n",
       "      <th>1</th>\n",
       "      <td>With the new production plant the company woul...</td>\n",
       "      <td>1</td>\n",
       "    </tr>\n",
       "    <tr>\n",
       "      <th>2</th>\n",
       "      <td>According to the company 's updated strategy f...</td>\n",
       "      <td>1</td>\n",
       "    </tr>\n",
       "    <tr>\n",
       "      <th>3</th>\n",
       "      <td>FINANCING OF ASPOCOMP 'S GROWTH Aspocomp is ag...</td>\n",
       "      <td>1</td>\n",
       "    </tr>\n",
       "    <tr>\n",
       "      <th>4</th>\n",
       "      <td>For the last quarter of 2010 , Componenta 's n...</td>\n",
       "      <td>1</td>\n",
       "    </tr>\n",
       "  </tbody>\n",
       "</table>\n",
       "</div>"
      ],
      "text/plain": [
       "                                                news  target\n",
       "0  The international electronic industry company ...       0\n",
       "1  With the new production plant the company woul...       1\n",
       "2  According to the company 's updated strategy f...       1\n",
       "3  FINANCING OF ASPOCOMP 'S GROWTH Aspocomp is ag...       1\n",
       "4  For the last quarter of 2010 , Componenta 's n...       1"
      ]
     },
     "execution_count": 3,
     "metadata": {},
     "output_type": "execute_result"
    }
   ],
   "source": [
    "df = pd.read_csv(path + 'data/all_dfs.csv', index_col = 0)\n",
    "df.head()"
   ]
  },
  {
   "cell_type": "code",
   "execution_count": 4,
   "metadata": {
    "colab": {
     "base_uri": "https://localhost:8080/",
     "height": 195
    },
    "id": "p_UglcezYLKS",
    "outputId": "8fe4171b-384d-439e-e7a7-bcfa19b9e936"
   },
   "outputs": [
    {
     "data": {
      "text/plain": [
       "<AxesSubplot:xlabel='index', ylabel='target'>"
      ]
     },
     "execution_count": 4,
     "metadata": {},
     "output_type": "execute_result"
    },
    {
     "data": {
      "image/png": "[encoded data removed]",
      "text/plain": [
       "<Figure size 432x288 with 1 Axes>"
      ]
     },
     "metadata": {
      "needs_background": "light"
     },
     "output_type": "display_data"
    }
   ],
   "source": [
    "class_counts = df['target'].value_counts().to_frame().reset_index()\n",
    "\n",
    "sns.barplot(y = class_counts['target'], x = class_counts['index'])"
   ]
  },
  {
   "cell_type": "markdown",
   "metadata": {
    "id": "qHL5BzJYZOfp"
   },
   "source": [
    "## Function preprocessing"
   ]
  },
  {
   "cell_type": "code",
   "execution_count": 5,
   "metadata": {
    "id": "LQ0Kk4w43R30"
   },
   "outputs": [],
   "source": [
    "# functions\n",
    "\n",
    "def preprocessing(df):\n",
    "\n",
    "    # replace \" '\" with \"'\"\n",
    "\n",
    "    df['news'] = df['news'].apply(lambda x: x.lower().strip().replace(\" '\", \"'\"))\n",
    "\n",
    "    # lower and remove punctuation\n",
    "\n",
    "    remove_punctuation = string.punctuation.replace('`', '')\n",
    "    df['news'] = df['news'].apply(lambda x: x.lower().strip().translate(str.maketrans('', '', remove_punctuation)))\n",
    "\n",
    "    # spliting\n",
    "\n",
    "    df['news'] = df['news'].apply(lambda x: x.split())\n",
    "\n",
    "    # remove stopwords\n",
    "\n",
    "    nltk.download('stopwords')\n",
    "    stopwords = nltk.corpus.stopwords.words('english')\n",
    "    df['news'] = df['news'].apply(lambda x: [word for word in x if word not in stopwords])\n",
    "\n",
    "    # stemming\n",
    "\n",
    "    stemmer = PorterStemmer()\n",
    "    df['news'] = df['news'].apply(lambda x: [stemmer.stem(word) for word in x])\n",
    "    \n",
    "    #remove frequent words\n",
    "    cnt = Counter()\n",
    "    for news in df[\"news\"]:\n",
    "        for word in news:\n",
    "            cnt[word] += 1\n",
    "    \n",
    "    FREQWORDS = set([w for (w, wc) in cnt.most_common(10)])\n",
    "    df[\"news\"] = df[\"news\"].apply(lambda x: [word for word in x if word not in FREQWORDS])\n",
    "    \n",
    "    df.dropna(inplace = True)\n",
    "    \n",
    "    return df"
   ]
  },
  {
   "cell_type": "code",
   "execution_count": 6,
   "metadata": {
    "id": "9vKtrcif3VIU"
   },
   "outputs": [],
   "source": [
    "def index_words_list(word, words_list):\n",
    "    for i in range(len(words_list)):\n",
    "        if word == words_list[i]:\n",
    "            return i\n",
    "    \n",
    "def make_words_list(treashold, df):\n",
    "    \n",
    "    # make words dictionary\n",
    "    \n",
    "    dictionary = dict()\n",
    "    for news in df['news']:\n",
    "        for word in news:\n",
    "            if not dictionary.get(word):\n",
    "                dictionary[word] = 1\n",
    "            else:\n",
    "                dictionary[word] += 1\n",
    "    dictionary['nannan'] = 0\n",
    "    \n",
    "    # make words list\n",
    "\n",
    "    words_list = []\n",
    "    for key, value in dictionary.items():\n",
    "        if value > treashold:\n",
    "            #print(key, value)\n",
    "            words_list.append(key)\n",
    "    \n",
    "    return words_list\n",
    "\n",
    "def make_features(df_ind, n_features):\n",
    "    X = np.zeros((df_ind.shape[0], n_features))\n",
    "    \n",
    "    # make features\n",
    "    i = 0\n",
    "    for news in df_ind['indexes']:\n",
    "        for ind in news:\n",
    "            X[i, ind] += 1\n",
    "        i += 1\n",
    "        \n",
    "    return X\n",
    "\n",
    "def map_to_indexes(df, words_list):\n",
    "    df_ind = df.copy()\n",
    "    df_ind[\"indexes\"] = df_ind[\"news\"].apply(lambda x: list(filter(None, [index_words_list(word, words_list) for word in x])))\n",
    "    df_ind.dropna(inplace = True)\n",
    "    return df_ind"
   ]
  },
  {
   "cell_type": "code",
   "execution_count": 7,
   "metadata": {
    "colab": {
     "base_uri": "https://localhost:8080/"
    },
    "id": "avzbShhl3ZKs",
    "outputId": "f2268aaa-235c-4c1d-84bb-04bca0b360cf"
   },
   "outputs": [
    {
     "name": "stderr",
     "output_type": "stream",
     "text": [
      "[nltk_data] Downloading package stopwords to\n",
      "[nltk_data]     C:\\Users\\User\\AppData\\Roaming\\nltk_data...\n",
      "[nltk_data]   Package stopwords is already up-to-date!\n"
     ]
    }
   ],
   "source": [
    "df = preprocessing(df)\n",
    "\n",
    "words_list = make_words_list(0, df)\n",
    "\n",
    "df_ind = map_to_indexes(df, words_list)"
   ]
  },
  {
   "cell_type": "code",
   "execution_count": 8,
   "metadata": {
    "colab": {
     "base_uri": "https://localhost:8080/",
     "height": 414
    },
    "id": "z8v6Ma4P4l6U",
    "outputId": "b9756286-0853-467b-d6b0-f20d72466be9"
   },
   "outputs": [
    {
     "data": {
      "text/html": [
       "<div>\n",
       "<style scoped>\n",
       "    .dataframe tbody tr th:only-of-type {\n",
       "        vertical-align: middle;\n",
       "    }\n",
       "\n",
       "    .dataframe tbody tr th {\n",
       "        vertical-align: top;\n",
       "    }\n",
       "\n",
       "    .dataframe thead th {\n",
       "        text-align: right;\n",
       "    }\n",
       "</style>\n",
       "<table border=\"1\" class=\"dataframe\">\n",
       "  <thead>\n",
       "    <tr style=\"text-align: right;\">\n",
       "      <th></th>\n",
       "      <th>news</th>\n",
       "      <th>target</th>\n",
       "      <th>indexes</th>\n",
       "    </tr>\n",
       "  </thead>\n",
       "  <tbody>\n",
       "    <tr>\n",
       "      <th>0</th>\n",
       "      <td>[intern, electron, industri, elcoteq, laid, te...</td>\n",
       "      <td>0</td>\n",
       "      <td>[1, 2, 3, 4, 5, 6, 7, 8]</td>\n",
       "    </tr>\n",
       "    <tr>\n",
       "      <th>1</th>\n",
       "      <td>[new, product, plant, would, increas, capac, m...</td>\n",
       "      <td>1</td>\n",
       "      <td>[9, 10, 11, 12, 13, 14, 15, 16, 13, 17, 12, 18...</td>\n",
       "    </tr>\n",
       "    <tr>\n",
       "      <th>2</th>\n",
       "      <td>[accord, updat, strategi, 20092012, baswar, ta...</td>\n",
       "      <td>1</td>\n",
       "      <td>[24, 25, 26, 27, 28, 29, 30, 31, 32, 33, 34, 3...</td>\n",
       "    </tr>\n",
       "    <tr>\n",
       "      <th>3</th>\n",
       "      <td>[financ, aspocomp, growth, aspocomp, aggress, ...</td>\n",
       "      <td>1</td>\n",
       "      <td>[40, 41, 33, 41, 42, 43, 33, 26, 44, 45, 46, 1...</td>\n",
       "    </tr>\n",
       "    <tr>\n",
       "      <th>4</th>\n",
       "      <td>[last, quarter, 2010, componenta, net, sale, d...</td>\n",
       "      <td>1</td>\n",
       "      <td>[52, 53, 54, 55, 31, 32, 56, 57, 58, 59, 60, 6...</td>\n",
       "    </tr>\n",
       "    <tr>\n",
       "      <th>...</th>\n",
       "      <td>...</td>\n",
       "      <td>...</td>\n",
       "      <td>...</td>\n",
       "    </tr>\n",
       "    <tr>\n",
       "      <th>20426</th>\n",
       "      <td>[kill, witch, l, domo, via]</td>\n",
       "      <td>0</td>\n",
       "      <td>[5364, 31747, 9389, 30090, 1225]</td>\n",
       "    </tr>\n",
       "    <tr>\n",
       "      <th>20427</th>\n",
       "      <td>[binanc, alert, binanc, registr, onlin, check,...</td>\n",
       "      <td>1</td>\n",
       "      <td>[31193, 5291, 31193, 3822, 295, 5111, 2831, 2671]</td>\n",
       "    </tr>\n",
       "    <tr>\n",
       "      <th>20428</th>\n",
       "      <td>[exxon, perfect, machin, run, dri, wall, stree...</td>\n",
       "      <td>1</td>\n",
       "      <td>[13672, 3457, 171, 1729, 6213, 6741, 6365, 113...</td>\n",
       "    </tr>\n",
       "    <tr>\n",
       "      <th>20429</th>\n",
       "      <td>[fallen, hero, today, btc, action]</td>\n",
       "      <td>1</td>\n",
       "      <td>[5002, 10061, 230, 26302, 2256]</td>\n",
       "    </tr>\n",
       "    <tr>\n",
       "      <th>20430</th>\n",
       "      <td>[new, exchang, telcoin, mid, august, glad, tel...</td>\n",
       "      <td>1</td>\n",
       "      <td>[9, 350, 33045, 6693, 972, 3348, 4683, 2864, 2...</td>\n",
       "    </tr>\n",
       "  </tbody>\n",
       "</table>\n",
       "<p>20431 rows × 3 columns</p>\n",
       "</div>"
      ],
      "text/plain": [
       "                                                    news  target  \\\n",
       "0      [intern, electron, industri, elcoteq, laid, te...       0   \n",
       "1      [new, product, plant, would, increas, capac, m...       1   \n",
       "2      [accord, updat, strategi, 20092012, baswar, ta...       1   \n",
       "3      [financ, aspocomp, growth, aspocomp, aggress, ...       1   \n",
       "4      [last, quarter, 2010, componenta, net, sale, d...       1   \n",
       "...                                                  ...     ...   \n",
       "20426                        [kill, witch, l, domo, via]       0   \n",
       "20427  [binanc, alert, binanc, registr, onlin, check,...       1   \n",
       "20428  [exxon, perfect, machin, run, dri, wall, stree...       1   \n",
       "20429                 [fallen, hero, today, btc, action]       1   \n",
       "20430  [new, exchang, telcoin, mid, august, glad, tel...       1   \n",
       "\n",
       "                                                 indexes  \n",
       "0                               [1, 2, 3, 4, 5, 6, 7, 8]  \n",
       "1      [9, 10, 11, 12, 13, 14, 15, 16, 13, 17, 12, 18...  \n",
       "2      [24, 25, 26, 27, 28, 29, 30, 31, 32, 33, 34, 3...  \n",
       "3      [40, 41, 33, 41, 42, 43, 33, 26, 44, 45, 46, 1...  \n",
       "4      [52, 53, 54, 55, 31, 32, 56, 57, 58, 59, 60, 6...  \n",
       "...                                                  ...  \n",
       "20426                   [5364, 31747, 9389, 30090, 1225]  \n",
       "20427  [31193, 5291, 31193, 3822, 295, 5111, 2831, 2671]  \n",
       "20428  [13672, 3457, 171, 1729, 6213, 6741, 6365, 113...  \n",
       "20429                    [5002, 10061, 230, 26302, 2256]  \n",
       "20430  [9, 350, 33045, 6693, 972, 3348, 4683, 2864, 2...  \n",
       "\n",
       "[20431 rows x 3 columns]"
      ]
     },
     "execution_count": 8,
     "metadata": {},
     "output_type": "execute_result"
    }
   ],
   "source": [
    "df_ind"
   ]
  },
  {
   "cell_type": "code",
   "execution_count": 9,
   "metadata": {
    "id": "IxWioTLd4x-j"
   },
   "outputs": [
    {
     "name": "stdout",
     "output_type": "stream",
     "text": [
      "accuracy score: 87.37%\n",
      "              precision    recall  f1-score   support\n",
      "\n",
      "           0       0.82      0.72      0.77      1188\n",
      "           1       0.89      0.94      0.91      2899\n",
      "\n",
      "    accuracy                           0.87      4087\n",
      "   macro avg       0.86      0.83      0.84      4087\n",
      "weighted avg       0.87      0.87      0.87      4087\n",
      "\n"
     ]
    }
   ],
   "source": [
    "# my model for random forest\n",
    "\n",
    "y = df_ind['target']\n",
    "X = make_features(df_ind, len(words_list))\n",
    "\n",
    "X_train, X_test, y_train, y_test = train_test_split(X, df.target, test_size = 0.2, random_state = 0)\n",
    "X_train.shape, X_test.shape, y_train.shape, y_test.shape\n",
    "\n",
    "rand_forest = RandomForestClassifier()\n",
    "rand_forest.fit(X_train, y_train)\n",
    "\n",
    "y_test_pred = rand_forest.predict(X_test)\n",
    "\n",
    "print(\"accuracy score: {}%\".format(round(accuracy_score(y_test, y_test_pred)*100,2)))\n",
    "\n",
    "print(classification_report(y_test, y_test_pred))"
   ]
  },
  {
   "cell_type": "code",
   "execution_count": 10,
   "metadata": {
    "id": "pTkWVWrq4020"
   },
   "outputs": [
    {
     "data": {
      "text/plain": [
       "array([[0., 1., 1., ..., 0., 0., 0.],\n",
       "       [0., 0., 0., ..., 0., 0., 0.],\n",
       "       [0., 0., 0., ..., 0., 0., 0.],\n",
       "       ...,\n",
       "       [0., 0., 0., ..., 0., 0., 0.],\n",
       "       [0., 0., 0., ..., 0., 0., 0.],\n",
       "       [0., 0., 0., ..., 0., 0., 0.]])"
      ]
     },
     "execution_count": 10,
     "metadata": {},
     "output_type": "execute_result"
    }
   ],
   "source": [
    "X"
   ]
  },
  {
   "cell_type": "markdown",
   "metadata": {
    "id": "v9gD5LZAfsJj"
   },
   "source": [
    "# Sentiment: Machine Learning"
   ]
  },
  {
   "cell_type": "markdown",
   "metadata": {
    "id": "G50W2cikgkhH"
   },
   "source": [
    "## Class for Sentiment ML"
   ]
  },
  {
   "cell_type": "code",
   "execution_count": 11,
   "metadata": {
    "id": "1NuaPzL_YXBl"
   },
   "outputs": [],
   "source": [
    "class SentimentML:\n",
    "    \n",
    "    def __init__(self, model):\n",
    "        \n",
    "        self.pipe = Pipeline([('vect', CountVectorizer()),\n",
    "                 ('tfidf', TfidfTransformer()),\n",
    "                 ('model', model)])\n",
    "        \n",
    "        self.trained_model = None\n",
    "        #nltk.download('stopwords')\n",
    "        #nltk.download('wordnet')\n",
    "    \n",
    "    \n",
    "    def __contains_only_numb(self, word):\n",
    "        numbers = ['0', '1', '2', '3', '4', '5', '6', '7', '8', '9']\n",
    "        for a in word:\n",
    "            if a not in numbers:\n",
    "                return False\n",
    "        return True\n",
    "\n",
    "    def __remove_numb(self, word):\n",
    "        numbers = ['0', '1', '2', '3', '4', '5', '6', '7', '8', '9']\n",
    "        for a in word:\n",
    "            if a in numbers:\n",
    "                word = word.replace(a, '')\n",
    "        return word\n",
    "\n",
    "    def __clear_word(self, word):\n",
    "        arr_en = ['a', 'b', 'c', 'd', 'e', 'f', 'g', 'h', 'i', 'j', 'k', 'l',\n",
    "                  'm', 'n', 'o', 'p', 'q', 'r', 's', 't', 'u', 'v', 'w', 'x', 'y', 'z']\n",
    "\n",
    "        arr_EN = ['A', 'B', 'C', 'D', 'E', 'F', 'G', 'H', 'I', 'J', 'K', 'L',\n",
    "                  'M', 'N', 'O', 'P', 'Q', 'R', 'S', 'T', 'U', 'V', 'W', 'X', 'Y', 'Z']\n",
    "\n",
    "        numbers = ['0', '1', '2', '3', '4', '5', '6', '7', '8', '9']\n",
    "\n",
    "        for a in word:\n",
    "            if (a not in arr_en) and (a not in arr_EN) and (a not in numbers):\n",
    "                word = word.replace(a, '')\n",
    "        return word\n",
    "    \n",
    "    def _preprocessing(self, df_data, train):\n",
    "        \n",
    "        df = df_data.copy()\n",
    "        \n",
    "        # replace \" '\" with \"'\"\n",
    "\n",
    "        df['news'] = df['news'].apply(lambda x: x.lower().strip().replace(\" '\", \"'\"))\n",
    "        df.head()\n",
    "\n",
    "        # lower and remove punctuation\n",
    "\n",
    "        remove_punctuation = string.punctuation\n",
    "\n",
    "        df['news'] = df['news'].apply(lambda x: x.lower().strip().translate(str.maketrans('', '', remove_punctuation)))\n",
    "\n",
    "        # spliting\n",
    "\n",
    "        df['news'] = df['news'].apply(lambda x: x.split())\n",
    "\n",
    "        # remove trash from words\n",
    "\n",
    "        df['news'] = df['news'].apply(lambda x: [self.__clear_word(word) for word in x])\n",
    "\n",
    "        # replace numbers to 'number'\n",
    "\n",
    "        df['news'] = df['news'].apply(lambda x: [('number' if self.__contains_only_numb(word) else word) for word in x])\n",
    "\n",
    "        # remove numbers from words\n",
    "\n",
    "        df['news'] = df['news'].apply(lambda x: [self.__remove_numb(word) for word in x])\n",
    "\n",
    "        # remove stopwords\n",
    "\n",
    "        stopwords = nltk.corpus.stopwords.words('english')\n",
    "        df['news'] = df['news'].apply(lambda x: [word for word in x if word not in stopwords])\n",
    "\n",
    "        # remove 'nannan'\n",
    "\n",
    "        df['news'] = df['news'].apply(lambda x: [word for word in x if word != 'nannan'])\n",
    "        \n",
    "        # stemming\n",
    "\n",
    "        stemmer = PorterStemmer()\n",
    "        df['news'] = df['news'].apply(lambda x: [stemmer.stem(word) for word in x])\n",
    "\n",
    "        # replace urls with 'url'\n",
    "\n",
    "        df['news'] = df['news'].apply(lambda x: [('url' if ('http' in word) else word) for word in x])\n",
    "\n",
    "        if train == True:\n",
    "            #remove frequent words\n",
    "\n",
    "            cnt = Counter()\n",
    "            for news in df[\"news\"]:\n",
    "                for word in news:\n",
    "                    cnt[word] += 1\n",
    "\n",
    "            self.FREQWORDS = set([w for (w, wc) in cnt.most_common(100)])\n",
    "            print(len(cnt))\n",
    "        \n",
    "        df[\"news\"] = df[\"news\"].apply(lambda x: [word for word in x if word not in self.FREQWORDS])\n",
    "\n",
    "        df.dropna(inplace = True)\n",
    "        \n",
    "        # join words\n",
    "        \n",
    "        df['news'] = df['news'].apply(lambda x: \" \".join(x))\n",
    "\n",
    "        return df\n",
    "    \n",
    "    def train(self, df_train_data):\n",
    "        \n",
    "        \"\"\"\n",
    "        You should firstly map targets to 0 and 1\n",
    "        and have column 'news' in your dataframe\n",
    "        \"\"\"\n",
    "        \n",
    "        self._preprocessing(df_train_data, True)\n",
    "        \n",
    "        X_train = df_train_data['news']\n",
    "        y_train = df_train_data['target']\n",
    "        \n",
    "        self.trained_model = self.pipe.fit(X_train, y_train)\n",
    "        \n",
    "    def predict(self, df_data):\n",
    "        \n",
    "        \"\"\"\n",
    "        You should have column 'news' in your dataframe\n",
    "        \"\"\"\n",
    "        \n",
    "        self._preprocessing(df_data, False)\n",
    "        X = df_data['news']\n",
    "        \n",
    "        return self.trained_model.predict(X)\n",
    "    \n",
    "    def predict_proba(self, df_data):\n",
    "        \n",
    "        \"\"\"\n",
    "        You should have column 'news' in your dataframe\n",
    "        \"\"\"\n",
    "        \n",
    "        self._preprocessing(df_data, False)\n",
    "        X = df_data['news']\n",
    "        \n",
    "        return self.trained_model.predict_proba(X)\n"
   ]
  },
  {
   "cell_type": "markdown",
   "metadata": {
    "id": "GNSAp2rvgkhT"
   },
   "source": [
    "## Train model"
   ]
  },
  {
   "cell_type": "markdown",
   "metadata": {
    "id": "G3VR2D-qZ7ep"
   },
   "source": [
    "### Random Forest"
   ]
  },
  {
   "cell_type": "code",
   "execution_count": 12,
   "metadata": {
    "id": "q7xVoxYplm5c"
   },
   "outputs": [],
   "source": [
    "def ROC_curve(y_test, pr_proba):\n",
    "    sns.set(font_scale=1.5)\n",
    "    sns.set_color_codes(\"muted\")\n",
    "\n",
    "    plt.figure(figsize=(6, 5))\n",
    "    fpr, tpr, thresholds = metrics.roc_curve(y_test, pr_proba, pos_label=1)\n",
    "    lw = 2\n",
    "    plt.plot(fpr, tpr, lw=lw, label='ROC curve ')\n",
    "    plt.plot([0, 1], [0, 1])\n",
    "    plt.xlim([-0.01, 1.05])\n",
    "    plt.ylim([-0.01, 1.05])\n",
    "    plt.xlabel('False Positive Rate')\n",
    "    plt.ylabel('True Positive Rate')\n",
    "    plt.title('ROC curve')\n",
    "    plt.savefig(\"ROC.png\")\n",
    "    plt.show()"
   ]
  },
  {
   "cell_type": "code",
   "execution_count": 13,
   "metadata": {
    "id": "V0neYWuEgkhT"
   },
   "outputs": [],
   "source": [
    "df_train, df_test = train_test_split(\n",
    "    df,\n",
    "    test_size = 0.2,\n",
    "    random_state = 0\n",
    ")"
   ]
  },
  {
   "cell_type": "code",
   "execution_count": 14,
   "metadata": {
    "colab": {
     "base_uri": "https://localhost:8080/"
    },
    "id": "XoMxN2VGb6Ya",
    "outputId": "4cc3399a-54b0-4f74-cc5e-2e893a5f36a2"
   },
   "outputs": [
    {
     "name": "stdout",
     "output_type": "stream",
     "text": [
      "4840 11504\n"
     ]
    }
   ],
   "source": [
    "df_train_0 = df_train[df_train.target == 0]\n",
    "df_train_1 = df_train[df_train.target == 1]\n",
    "\n",
    "print(len(df_train_0), len(df_train_1))\n",
    "\n",
    "df_train_1 = df_train_1.sample(len(df_train_0))\n",
    "\n",
    "df_train_new = pd.concat([df_train_0, df_train_1])\n",
    "\n",
    "df_train_new.sample(len(df_train_new))\n",
    "\n",
    "df_train = df_train_new"
   ]
  },
  {
   "cell_type": "code",
   "execution_count": 15,
   "metadata": {
    "colab": {
     "base_uri": "https://localhost:8080/",
     "height": 282
    },
    "id": "f4LEitrUeA4a",
    "outputId": "3d6c3f01-660d-46e3-c7e9-08bc9bfa785f"
   },
   "outputs": [
    {
     "data": {
      "text/plain": [
       "<AxesSubplot:>"
      ]
     },
     "execution_count": 15,
     "metadata": {},
     "output_type": "execute_result"
    },
    {
     "data": {
      "image/png": "[encoded data removed]",
      "text/plain": [
       "<Figure size 432x288 with 1 Axes>"
      ]
     },
     "metadata": {
      "needs_background": "light"
     },
     "output_type": "display_data"
    }
   ],
   "source": [
    "df_train['target'].hist()"
   ]
  },
  {
   "cell_type": "code",
   "execution_count": 16,
   "metadata": {
    "colab": {
     "base_uri": "https://localhost:8080/"
    },
    "id": "x1dqOGRcZ6EU",
    "outputId": "657ee5a3-219d-4429-92ec-7672cad7f68c"
   },
   "outputs": [
    {
     "ename": "AttributeError",
     "evalue": "'list' object has no attribute 'lower'",
     "output_type": "error",
     "traceback": [
      "\u001b[1;31m---------------------------------------------------------------------------\u001b[0m",
      "\u001b[1;31mAttributeError\u001b[0m                            Traceback (most recent call last)",
      "\u001b[1;32m<ipython-input-16-7704097dbfa0>\u001b[0m in \u001b[0;36m<module>\u001b[1;34m\u001b[0m\n\u001b[0;32m      1\u001b[0m \u001b[0mSentimentML_RandF\u001b[0m \u001b[1;33m=\u001b[0m \u001b[0mSentimentML\u001b[0m\u001b[1;33m(\u001b[0m\u001b[0mRandomForestClassifier\u001b[0m\u001b[1;33m(\u001b[0m\u001b[1;33m)\u001b[0m\u001b[1;33m)\u001b[0m\u001b[1;33m\u001b[0m\u001b[1;33m\u001b[0m\u001b[0m\n\u001b[1;32m----> 2\u001b[1;33m \u001b[0mSentimentML_RandF\u001b[0m\u001b[1;33m.\u001b[0m\u001b[0mtrain\u001b[0m\u001b[1;33m(\u001b[0m\u001b[0mdf_train\u001b[0m\u001b[1;33m)\u001b[0m\u001b[1;33m\u001b[0m\u001b[1;33m\u001b[0m\u001b[0m\n\u001b[0m",
      "\u001b[1;32m<ipython-input-11-ba4f5ea2f5b9>\u001b[0m in \u001b[0;36mtrain\u001b[1;34m(self, df_train_data)\u001b[0m\n\u001b[0;32m    117\u001b[0m         \"\"\"\n\u001b[0;32m    118\u001b[0m \u001b[1;33m\u001b[0m\u001b[0m\n\u001b[1;32m--> 119\u001b[1;33m         \u001b[0mself\u001b[0m\u001b[1;33m.\u001b[0m\u001b[0m_preprocessing\u001b[0m\u001b[1;33m(\u001b[0m\u001b[0mdf_train_data\u001b[0m\u001b[1;33m,\u001b[0m \u001b[1;32mTrue\u001b[0m\u001b[1;33m)\u001b[0m\u001b[1;33m\u001b[0m\u001b[1;33m\u001b[0m\u001b[0m\n\u001b[0m\u001b[0;32m    120\u001b[0m \u001b[1;33m\u001b[0m\u001b[0m\n\u001b[0;32m    121\u001b[0m         \u001b[0mX_train\u001b[0m \u001b[1;33m=\u001b[0m \u001b[0mdf_train_data\u001b[0m\u001b[1;33m[\u001b[0m\u001b[1;34m'news'\u001b[0m\u001b[1;33m]\u001b[0m\u001b[1;33m\u001b[0m\u001b[1;33m\u001b[0m\u001b[0m\n",
      "\u001b[1;32m<ipython-input-11-ba4f5ea2f5b9>\u001b[0m in \u001b[0;36m_preprocessing\u001b[1;34m(self, df_data, train)\u001b[0m\n\u001b[0;32m     46\u001b[0m         \u001b[1;31m# replace \" '\" with \"'\"\u001b[0m\u001b[1;33m\u001b[0m\u001b[1;33m\u001b[0m\u001b[1;33m\u001b[0m\u001b[0m\n\u001b[0;32m     47\u001b[0m \u001b[1;33m\u001b[0m\u001b[0m\n\u001b[1;32m---> 48\u001b[1;33m         \u001b[0mdf\u001b[0m\u001b[1;33m[\u001b[0m\u001b[1;34m'news'\u001b[0m\u001b[1;33m]\u001b[0m \u001b[1;33m=\u001b[0m \u001b[0mdf\u001b[0m\u001b[1;33m[\u001b[0m\u001b[1;34m'news'\u001b[0m\u001b[1;33m]\u001b[0m\u001b[1;33m.\u001b[0m\u001b[0mapply\u001b[0m\u001b[1;33m(\u001b[0m\u001b[1;32mlambda\u001b[0m \u001b[0mx\u001b[0m\u001b[1;33m:\u001b[0m \u001b[0mx\u001b[0m\u001b[1;33m.\u001b[0m\u001b[0mlower\u001b[0m\u001b[1;33m(\u001b[0m\u001b[1;33m)\u001b[0m\u001b[1;33m.\u001b[0m\u001b[0mstrip\u001b[0m\u001b[1;33m(\u001b[0m\u001b[1;33m)\u001b[0m\u001b[1;33m.\u001b[0m\u001b[0mreplace\u001b[0m\u001b[1;33m(\u001b[0m\u001b[1;34m\" '\"\u001b[0m\u001b[1;33m,\u001b[0m \u001b[1;34m\"'\"\u001b[0m\u001b[1;33m)\u001b[0m\u001b[1;33m)\u001b[0m\u001b[1;33m\u001b[0m\u001b[1;33m\u001b[0m\u001b[0m\n\u001b[0m\u001b[0;32m     49\u001b[0m         \u001b[0mdf\u001b[0m\u001b[1;33m.\u001b[0m\u001b[0mhead\u001b[0m\u001b[1;33m(\u001b[0m\u001b[1;33m)\u001b[0m\u001b[1;33m\u001b[0m\u001b[1;33m\u001b[0m\u001b[0m\n\u001b[0;32m     50\u001b[0m \u001b[1;33m\u001b[0m\u001b[0m\n",
      "\u001b[1;32m~\\anaconda3\\lib\\site-packages\\pandas\\core\\series.py\u001b[0m in \u001b[0;36mapply\u001b[1;34m(self, func, convert_dtype, args, **kwargs)\u001b[0m\n\u001b[0;32m   4355\u001b[0m         \u001b[0mdtype\u001b[0m\u001b[1;33m:\u001b[0m \u001b[0mfloat64\u001b[0m\u001b[1;33m\u001b[0m\u001b[1;33m\u001b[0m\u001b[0m\n\u001b[0;32m   4356\u001b[0m         \"\"\"\n\u001b[1;32m-> 4357\u001b[1;33m         \u001b[1;32mreturn\u001b[0m \u001b[0mSeriesApply\u001b[0m\u001b[1;33m(\u001b[0m\u001b[0mself\u001b[0m\u001b[1;33m,\u001b[0m \u001b[0mfunc\u001b[0m\u001b[1;33m,\u001b[0m \u001b[0mconvert_dtype\u001b[0m\u001b[1;33m,\u001b[0m \u001b[0margs\u001b[0m\u001b[1;33m,\u001b[0m \u001b[0mkwargs\u001b[0m\u001b[1;33m)\u001b[0m\u001b[1;33m.\u001b[0m\u001b[0mapply\u001b[0m\u001b[1;33m(\u001b[0m\u001b[1;33m)\u001b[0m\u001b[1;33m\u001b[0m\u001b[1;33m\u001b[0m\u001b[0m\n\u001b[0m\u001b[0;32m   4358\u001b[0m \u001b[1;33m\u001b[0m\u001b[0m\n\u001b[0;32m   4359\u001b[0m     def _reduce(\n",
      "\u001b[1;32m~\\anaconda3\\lib\\site-packages\\pandas\\core\\apply.py\u001b[0m in \u001b[0;36mapply\u001b[1;34m(self)\u001b[0m\n\u001b[0;32m   1041\u001b[0m             \u001b[1;32mreturn\u001b[0m \u001b[0mself\u001b[0m\u001b[1;33m.\u001b[0m\u001b[0mapply_str\u001b[0m\u001b[1;33m(\u001b[0m\u001b[1;33m)\u001b[0m\u001b[1;33m\u001b[0m\u001b[1;33m\u001b[0m\u001b[0m\n\u001b[0;32m   1042\u001b[0m \u001b[1;33m\u001b[0m\u001b[0m\n\u001b[1;32m-> 1043\u001b[1;33m         \u001b[1;32mreturn\u001b[0m \u001b[0mself\u001b[0m\u001b[1;33m.\u001b[0m\u001b[0mapply_standard\u001b[0m\u001b[1;33m(\u001b[0m\u001b[1;33m)\u001b[0m\u001b[1;33m\u001b[0m\u001b[1;33m\u001b[0m\u001b[0m\n\u001b[0m\u001b[0;32m   1044\u001b[0m \u001b[1;33m\u001b[0m\u001b[0m\n\u001b[0;32m   1045\u001b[0m     \u001b[1;32mdef\u001b[0m \u001b[0magg\u001b[0m\u001b[1;33m(\u001b[0m\u001b[0mself\u001b[0m\u001b[1;33m)\u001b[0m\u001b[1;33m:\u001b[0m\u001b[1;33m\u001b[0m\u001b[1;33m\u001b[0m\u001b[0m\n",
      "\u001b[1;32m~\\anaconda3\\lib\\site-packages\\pandas\\core\\apply.py\u001b[0m in \u001b[0;36mapply_standard\u001b[1;34m(self)\u001b[0m\n\u001b[0;32m   1096\u001b[0m                 \u001b[1;31m# List[Union[Callable[..., Any], str]]]]]\"; expected\u001b[0m\u001b[1;33m\u001b[0m\u001b[1;33m\u001b[0m\u001b[1;33m\u001b[0m\u001b[0m\n\u001b[0;32m   1097\u001b[0m                 \u001b[1;31m# \"Callable[[Any], Any]\"\u001b[0m\u001b[1;33m\u001b[0m\u001b[1;33m\u001b[0m\u001b[1;33m\u001b[0m\u001b[0m\n\u001b[1;32m-> 1098\u001b[1;33m                 mapped = lib.map_infer(\n\u001b[0m\u001b[0;32m   1099\u001b[0m                     \u001b[0mvalues\u001b[0m\u001b[1;33m,\u001b[0m\u001b[1;33m\u001b[0m\u001b[1;33m\u001b[0m\u001b[0m\n\u001b[0;32m   1100\u001b[0m                     \u001b[0mf\u001b[0m\u001b[1;33m,\u001b[0m  \u001b[1;31m# type: ignore[arg-type]\u001b[0m\u001b[1;33m\u001b[0m\u001b[1;33m\u001b[0m\u001b[0m\n",
      "\u001b[1;32m~\\anaconda3\\lib\\site-packages\\pandas\\_libs\\lib.pyx\u001b[0m in \u001b[0;36mpandas._libs.lib.map_infer\u001b[1;34m()\u001b[0m\n",
      "\u001b[1;32m<ipython-input-11-ba4f5ea2f5b9>\u001b[0m in \u001b[0;36m<lambda>\u001b[1;34m(x)\u001b[0m\n\u001b[0;32m     46\u001b[0m         \u001b[1;31m# replace \" '\" with \"'\"\u001b[0m\u001b[1;33m\u001b[0m\u001b[1;33m\u001b[0m\u001b[1;33m\u001b[0m\u001b[0m\n\u001b[0;32m     47\u001b[0m \u001b[1;33m\u001b[0m\u001b[0m\n\u001b[1;32m---> 48\u001b[1;33m         \u001b[0mdf\u001b[0m\u001b[1;33m[\u001b[0m\u001b[1;34m'news'\u001b[0m\u001b[1;33m]\u001b[0m \u001b[1;33m=\u001b[0m \u001b[0mdf\u001b[0m\u001b[1;33m[\u001b[0m\u001b[1;34m'news'\u001b[0m\u001b[1;33m]\u001b[0m\u001b[1;33m.\u001b[0m\u001b[0mapply\u001b[0m\u001b[1;33m(\u001b[0m\u001b[1;32mlambda\u001b[0m \u001b[0mx\u001b[0m\u001b[1;33m:\u001b[0m \u001b[0mx\u001b[0m\u001b[1;33m.\u001b[0m\u001b[0mlower\u001b[0m\u001b[1;33m(\u001b[0m\u001b[1;33m)\u001b[0m\u001b[1;33m.\u001b[0m\u001b[0mstrip\u001b[0m\u001b[1;33m(\u001b[0m\u001b[1;33m)\u001b[0m\u001b[1;33m.\u001b[0m\u001b[0mreplace\u001b[0m\u001b[1;33m(\u001b[0m\u001b[1;34m\" '\"\u001b[0m\u001b[1;33m,\u001b[0m \u001b[1;34m\"'\"\u001b[0m\u001b[1;33m)\u001b[0m\u001b[1;33m)\u001b[0m\u001b[1;33m\u001b[0m\u001b[1;33m\u001b[0m\u001b[0m\n\u001b[0m\u001b[0;32m     49\u001b[0m         \u001b[0mdf\u001b[0m\u001b[1;33m.\u001b[0m\u001b[0mhead\u001b[0m\u001b[1;33m(\u001b[0m\u001b[1;33m)\u001b[0m\u001b[1;33m\u001b[0m\u001b[1;33m\u001b[0m\u001b[0m\n\u001b[0;32m     50\u001b[0m \u001b[1;33m\u001b[0m\u001b[0m\n",
      "\u001b[1;31mAttributeError\u001b[0m: 'list' object has no attribute 'lower'"
     ]
    }
   ],
   "source": [
    "SentimentML_RandF = SentimentML(RandomForestClassifier())\n",
    "SentimentML_RandF.train(df_train)"
   ]
  },
  {
   "cell_type": "code",
   "execution_count": null,
   "metadata": {
    "colab": {
     "base_uri": "https://localhost:8080/",
     "height": 605
    },
    "id": "Sg_qf2DKgkhU",
    "outputId": "ec7cffde-36c8-4989-9525-29ee706bf0c7"
   },
   "outputs": [],
   "source": [
    "y_test = df_test['target']\n",
    "y_pred_RandF = SentimentML_RandF.predict(df_test)\n",
    "y_pred_proba_RandF = SentimentML_RandF.predict_proba(df_test)\n",
    "\n",
    "print(\"RANDOM FOREST\")\n",
    "\n",
    "print()\n",
    "\n",
    "acc_RandF = round(accuracy_score(y_test, y_pred_RandF)*100,2)\n",
    "roc_auc_RandF = round(roc_auc_score(y_test, y_pred_proba_RandF[:,1])*100, 2)\n",
    "\n",
    "print(\"accuracy score: {}%\".format(acc_RandF))\n",
    "print(\"ROC_AUC: {}%\".format(roc_auc_RandF))\n",
    "print()\n",
    "report_RandF = classification_report(y_test, y_pred_RandF)\n",
    "print(report_RandF)\n",
    "\n",
    "ROC_curve(y_test, y_pred_proba_RandF[:,1])"
   ]
  },
  {
   "cell_type": "code",
   "execution_count": null,
   "metadata": {
    "colab": {
     "base_uri": "https://localhost:8080/",
     "height": 374
    },
    "id": "zmPrJWAllGMd",
    "outputId": "36eb6ecc-fb89-4d5e-ab39-dc0063c4c69d"
   },
   "outputs": [],
   "source": [
    "\n",
    "plt.figure(figsize = [8, 6])\n",
    "fpr, tpr, _ = metrics.roc_curve(y_test,  y_pred_proba_RandF[:,1])\n",
    "auc = metrics.roc_auc_score(y_test, y_pred_proba_RandF[:,1])\n",
    "plt.legend(loc=4)\n",
    "plt.show()"
   ]
  },
  {
   "cell_type": "markdown",
   "metadata": {
    "id": "G-6ggWXPAnLr"
   },
   "source": [
    "### SVM"
   ]
  },
  {
   "cell_type": "code",
   "execution_count": null,
   "metadata": {
    "colab": {
     "base_uri": "https://localhost:8080/"
    },
    "id": "FR3MBGWYAnLr",
    "outputId": "369790f8-c2c6-45d6-ff16-193a11588de8"
   },
   "outputs": [],
   "source": [
    "SentimentML_SVM = SentimentML(SVC())\n",
    "SentimentML_SVM.train(df_train)\n",
    "\n",
    "# test data\n",
    "y_test = df_test['target']\n",
    "# predict test data\n",
    "y_pred_SVM = SentimentML_SVM.predict(df_test)\n",
    "#y_pred_proba_SVM = SentimentML_SVM.predict_proba(df_test)\n",
    "\n",
    "df_pred_SVM = pd.DataFrame()\n",
    "df_pred_SVM['test'] = df_test['news']\n",
    "df_pred_SVM['pred_targ'] = y_pred_SVM\n",
    "#df_pred_SVM['pred_prob_1'] = y_pred_proba_SVM[:,1]\n",
    "\n",
    "print(\"SVM\")\n",
    "\n",
    "print()\n",
    "\n",
    "acc_SVM = round(accuracy_score(y_test, y_pred_SVM)*100,2)\n",
    "roc_auc_SVM = round(roc_auc_score(y_test, y_pred_SVM)*100, 2)\n",
    "\n",
    "print(\"accuracy score: {}%\".format(acc_SVM))\n",
    "print(\"ROC_AUC: {}%\".format(roc_auc_SVM))\n",
    "\n",
    "print()\n",
    "report_SVM = classification_report(y_test, y_pred_SVM)\n",
    "print(report_SVM)"
   ]
  },
  {
   "cell_type": "markdown",
   "metadata": {
    "id": "fP33RrD-AnLs"
   },
   "source": [
    "### Logistic Regression"
   ]
  },
  {
   "cell_type": "code",
   "execution_count": null,
   "metadata": {
    "colab": {
     "base_uri": "https://localhost:8080/"
    },
    "id": "vO6fb0k0AnLs",
    "outputId": "f7c9cf9e-e492-48f8-bb04-6ac48026b476"
   },
   "outputs": [],
   "source": [
    "SentimentML_LogReg = SentimentML(LogisticRegression(max_iter = 1000))\n",
    "SentimentML_LogReg.train(df_train)\n",
    "\n",
    "# test data\n",
    "y_test = df_test['target']\n",
    "# predict test data\n",
    "y_pred_LogReg = SentimentML_LogReg.predict(df_test)\n",
    "y_pred_proba_LogReg = SentimentML_LogReg.predict_proba(df_test)\n",
    "\n",
    "df_pred_LogReg = pd.DataFrame()\n",
    "df_pred_LogReg['test'] = df_test['news']\n",
    "df_pred_LogReg['pred_targ'] = y_pred_LogReg\n",
    "df_pred_LogReg['pred_prob_1'] = y_pred_proba_LogReg[:,1]\n",
    "\n",
    "print(\"Logistic Regression\")\n",
    "\n",
    "print()\n",
    "\n",
    "acc_LogReg = round(accuracy_score(y_test, y_pred_LogReg)*100,2)\n",
    "roc_auc_LogReg = round(roc_auc_score(y_test, y_pred_proba_LogReg[:,1])*100, 2)\n",
    "\n",
    "print(\"accuracy score: {}%\".format(acc_LogReg))\n",
    "print(\"ROC_AUC: {}%\".format(roc_auc_LogReg))\n",
    "\n",
    "print()\n",
    "report_LogReg = classification_report(y_test, y_pred_LogReg)\n",
    "print(report_LogReg)\n",
    "\n",
    "fpr, tpr, _ = metrics.roc_curve(y_test, stacking['stack_xgb'])\n",
    "auc = metrics.roc_auc_score(df_test_Y, stacking['stack_xgb'])\n",
    "auc = round(auc, 5)\n",
    "plt.plot(fpr,tpr,label=\"SC - \"+str(auc), color = 'maroon', linewidth = 0.7)"
   ]
  },
  {
   "cell_type": "markdown",
   "metadata": {
    "id": "fitRkjAyAnLs"
   },
   "source": [
    "### Gradient Boosting"
   ]
  },
  {
   "cell_type": "code",
   "execution_count": null,
   "metadata": {
    "colab": {
     "base_uri": "https://localhost:8080/"
    },
    "id": "LZpnnGIsAnLs",
    "outputId": "a6233e22-562f-42f1-f950-3739d375c747"
   },
   "outputs": [],
   "source": [
    "SentimentML_GradBoost = SentimentML(GradientBoostingClassifier())\n",
    "SentimentML_GradBoost.train(df_train)\n",
    "\n",
    "# test data\n",
    "y_test = df_test['target']\n",
    "# predict test data\n",
    "y_pred_GradBoost = SentimentML_GradBoost.predict(df_test)\n",
    "y_pred_proba_GradBoost = SentimentML_GradBoost.predict_proba(df_test)\n",
    "\n",
    "df_pred_GradBoost = pd.DataFrame()\n",
    "df_pred_GradBoost['test'] = df_test['news']\n",
    "df_pred_GradBoost['pred_targ'] = y_pred_GradBoost\n",
    "df_pred_GradBoost['pred_prob_1'] = y_pred_proba_GradBoost[:,1]\n",
    "\n",
    "print(\"Gragient Boosting\")\n",
    "\n",
    "print()\n",
    "\n",
    "acc_GradBoost = round(accuracy_score(y_test, y_pred_GradBoost)*100,2)\n",
    "roc_auc_GradBoost = round(roc_auc_score(y_test, y_pred_proba_GradBoost[:,1])*100, 2)\n",
    "\n",
    "print(\"accuracy score: {}%\".format(acc_GradBoost))\n",
    "print(\"ROC_AUC: {}%\".format(roc_auc_GradBoost))\n",
    "\n",
    "print()\n",
    "report_GradBoost = classification_report(y_test, y_pred_GradBoost)\n",
    "print(report_GradBoost)"
   ]
  },
  {
   "cell_type": "markdown",
   "metadata": {
    "id": "MHrXzYtpAnLt"
   },
   "source": [
    "## Compare Models"
   ]
  },
  {
   "cell_type": "code",
   "execution_count": null,
   "metadata": {
    "id": "tFMzGCh9AnLt"
   },
   "outputs": [],
   "source": [
    "d_acc = {\n",
    "            'Models' : ['RandForest', 'SVM', 'LogRegression', 'GradBoost'],\n",
    "            'Accuracy' : [acc_RandF, acc_SVM, acc_LogReg, acc_GradBoost]\n",
    "        }\n",
    "\n",
    "d_roc = {\n",
    "            'Models' : ['RandForest', 'SVM', 'LogRegression', 'GradBoost'],\n",
    "            'ROC AUC' : [roc_auc_RandF, roc_auc_SVM, roc_auc_LogReg, roc_auc_GradBoost]\n",
    "        }\n",
    "\n",
    "df_acc = pd.DataFrame(data = d_acc)\n",
    "df_roc = pd.DataFrame(data = d_roc)"
   ]
  },
  {
   "cell_type": "code",
   "execution_count": null,
   "metadata": {
    "colab": {
     "base_uri": "https://localhost:8080/",
     "height": 164
    },
    "id": "7a940wTaczHI",
    "outputId": "03684617-6e6c-4cd3-fa60-0b996fbf7c86"
   },
   "outputs": [],
   "source": [
    "df_acc.sort_values('Accuracy', ascending = False)"
   ]
  },
  {
   "cell_type": "code",
   "execution_count": null,
   "metadata": {
    "colab": {
     "base_uri": "https://localhost:8080/",
     "height": 164
    },
    "id": "L_5AiiwUc1cC",
    "outputId": "4345d2ee-8fb1-4e2d-edd9-f1bffae0fd75"
   },
   "outputs": [],
   "source": [
    "df_roc.sort_values('ROC AUC', ascending = False)"
   ]
  },
  {
   "cell_type": "code",
   "execution_count": null,
   "metadata": {
    "colab": {
     "base_uri": "https://localhost:8080/",
     "height": 164
    },
    "id": "1pcSRTPKAnLt",
    "outputId": "8181e8ea-9995-462d-cf9e-63aa456510a7"
   },
   "outputs": [],
   "source": [
    "df_acc.sort_values('Accuracy', ascending = False)"
   ]
  },
  {
   "cell_type": "code",
   "execution_count": null,
   "metadata": {
    "colab": {
     "base_uri": "https://localhost:8080/",
     "height": 164
    },
    "id": "Vo9idr4LAnLt",
    "outputId": "3b71088a-77d1-4ba0-995f-ef4bda669e22"
   },
   "outputs": [],
   "source": [
    "df_roc.sort_values('ROC AUC', ascending = False)"
   ]
  },
  {
   "cell_type": "markdown",
   "metadata": {
    "id": "EacfURi1gkhV"
   },
   "source": [
    "## Test data"
   ]
  },
  {
   "cell_type": "code",
   "execution_count": null,
   "metadata": {
    "id": "tEsgxikFgkhV",
    "outputId": "e1f9b736-a68b-4f43-87f3-ae524326bea0"
   },
   "outputs": [],
   "source": [
    "# real data\n",
    "\n",
    "real_class_counts_test = y_test.value_counts().to_frame().reset_index()\n",
    "\n",
    "sns.barplot(y = real_class_counts_test['target'], x = real_class_counts_test['index'])"
   ]
  },
  {
   "cell_type": "code",
   "execution_count": null,
   "metadata": {
    "id": "Dqb7PMNhgkhW",
    "outputId": "9352ea02-a014-4b50-ab85-3a6036d6af61"
   },
   "outputs": [],
   "source": [
    "# pred data\n",
    "\n",
    "pred_class_counts_test = y_test.value_counts().to_frame().reset_index()\n",
    "\n",
    "sns.barplot(y = pred_class_counts_test['target'], x = pred_class_counts_test['index'])"
   ]
  },
  {
   "cell_type": "code",
   "execution_count": null,
   "metadata": {
    "id": "MUAGnojbgkhW",
    "outputId": "cbe7501a-773f-4734-8a34-fe7572cfe883"
   },
   "outputs": [],
   "source": [
    "df_pred['test'] = df_test['news']\n",
    "df_pred['pred_targ'] = y_pred\n",
    "\n",
    "df_pred.head(50)\n",
    "\n",
    "sns.distplot(y_pred_proba[:,1])"
   ]
  },
  {
   "cell_type": "code",
   "execution_count": null,
   "metadata": {
    "id": "EWtPHIOhgkhX",
    "outputId": "a34c7d3b-faeb-4b72-acb2-72a8ac67565b"
   },
   "outputs": [],
   "source": [
    "news_amazon = \"\"\"Bad news, Amazon investors: The company’s stock, already down 10% from its late-July high, is likely to decline even further.\n",
    "                 That’s because of the behavior of Wall Street analysts, whose earnings revisions tend to come in waves. And the vast majority of those revisions recently have been to the downside.\n",
    "                 \"\"\"\n",
    "\n",
    "# news_amazon_bad = \"\"\"Amazon just got some bad news. The Wall Street Journal reported today an investigation found that over 4,000 products listed on Amazon are actually banned, mislabeled, or not allowed for sale in the United States. Many of these were products, including toys and safety gear like helmets, for example, were deemed unsafe for children.\n",
    "# If your company's brand is that it's the place to go to buy just about everything, the last thing you want is for consumers to think you can't be trusted. \n",
    "# As bad as that news was, the bigger story wasn't the products themselves but the ways Amazon handles its listings. The Wall Street Journal headline said Amazon had \"ceded control\" of its store, and the report claimed the company operated more like a \"flea market,\" failing to adhere to its own policies.\n",
    "# An Amazon spokesperson I spoke with said a statement on the company's blog was the only comment it would be making. That statement didn't deny the Journal's report outright, but laid out what the company calls it's \"industry-leading safety and compliance program.\"\n",
    "# That program includes vetting sellers when they create an account, scanning listings on the site for ones that might cause problems, and removing products in violation of Amazon's policies or government regulations. According to the Journal, Amazon removed 57 percent of the listings brought to its attention by the investigation.\"\"\"\n",
    "\n",
    "data = [[news_amazon, None]]\n",
    "df_real = pd.DataFrame(data, columns = ['news', 'target'])\n",
    "\n",
    "df_real.head()\n",
    "\n",
    "df_real['target'] = SentimentML.predict(df_real)\n",
    "\n",
    "df_real.head()"
   ]
  },
  {
   "cell_type": "code",
   "execution_count": null,
   "metadata": {
    "id": "9m_HFhoBgkhY",
    "outputId": "0dc2f486-89d4-4ce7-8ac9-c9f6f01adf87"
   },
   "outputs": [],
   "source": [
    "# read data to predict\n",
    "\n",
    "df_to_pred = pd.read_excel(path + 'data/AmazonNews.xlsx', encoding = 'utf8')\n",
    "df_to_pred['news'] = df_to_pred['Заголовок новости']\n",
    "remove_columns = ['Дата', 'Время', 'Заголовок новости', 'Unnamed: 3', 'Unnamed: 4',\n",
    "                 'Unnamed: 5', 'Unnamed: 6', 'Unnamed: 7', 'Unnamed: 8', 'Matt Day (author)']\n",
    "\n",
    "df_to_pred.drop(axis = 1, columns = remove_columns, inplace = True)\n",
    "df_to_pred['target'] = np.nan\n",
    "df_to_pred.head(31)"
   ]
  },
  {
   "cell_type": "markdown",
   "metadata": {
    "id": "s1Daoe7Mgkha"
   },
   "source": [
    "## Real Data"
   ]
  },
  {
   "cell_type": "code",
   "execution_count": null,
   "metadata": {
    "id": "E9mJihxQgkhb",
    "outputId": "f3240be7-187f-4f81-996a-e50ba5d7de4c"
   },
   "outputs": [
    {
     "name": "stderr",
     "output_type": "stream",
     "text": [
      "[nltk_data] Downloading package stopwords to\n",
      "[nltk_data]     /home/stalker/nltk_data...\n",
      "[nltk_data]   Package stopwords is already up-to-date!\n",
      "[nltk_data] Downloading package wordnet to /home/stalker/nltk_data...\n",
      "[nltk_data]   Package wordnet is already up-to-date!\n"
     ]
    },
    {
     "name": "stdout",
     "output_type": "stream",
     "text": [
      "                                                 news  target  prob_of_1\n",
      "0   Amazon Plans to Offer Telehealth Services to O...       1       0.82\n",
      "1   Who Helps Pay Amazon, Walmart and McDonald's W...       1       0.66\n",
      "2   Amazon’s New Grocery Store Chain Is More Tradi...       1       0.82\n",
      "3   Why Amazon, Google, and Microsoft Are Designin...       1       0.63\n",
      "4   Apple and Amazon Buy Into Push to Make India M...       1       0.79\n",
      "5                 Amazon Sued for Alleged Hiring Bias       1       0.98\n",
      "6   Bezos-Backed Vegan Milk Startup in Chile Eyes ...       1       0.90\n",
      "7   Amazon Spends $131 Million for Stake in Cargo ...       1       0.88\n",
      "8   Amazon Union Vote Hit By Conspiracy Theories, ...       1       0.68\n",
      "9   Amazon Opening Cashierless Store in London, Fi...       1       0.69\n",
      "10  Amazon Go Rival Bets Pandemic Made Case for Ca...       1       0.83\n",
      "11  Amazon's (AMZN) Andy Jassy Will Take Over Jeff...       1       0.88\n",
      "12  Amazon Bid to Delay Union Vote Rejected; Ballo...       0       0.40\n",
      "13  Amazon’s Bezos to Cede Chief Executive Officer...       1       0.84\n",
      "14  Amazon’s Incoming CEO Andy Jassy Ushered in Cl...       1       0.96\n",
      "15  Amazon Shorted Flex Drivers $61.7 Million in T...       1       0.72\n",
      "16  Supply Chains Latest: Amazon’s air fleet grows...       1       0.83\n",
      "17  Amazon Will Let Companies Build Voice Assistan...       1       0.84\n",
      "18  Amazon Workers to Hold Union Vote by Mail Star...       1       0.64\n",
      "19  Amazon Makes It Too Hard to Cancel Prime, Grou...       1       0.63\n",
      "20  Amazon’s Removal of Parler Shows Cloud Unit’s ...       1       0.82\n",
      "21  Parler Sues Amazon Over Removal From Servers A...       0       0.28\n",
      "22  Amazon Worker Group Calls for Cloud Unit to Dr...       0       0.30\n",
      "23  Apple, Amazon Remove Parler After Use in U.S. ...       1       0.81\n",
      "24  Amazon Pledges $2 Billion for Affordable Homes...       1       0.92\n",
      "25  Amazon Makes First Aircraft Purchase to Expand...       1       0.92\n",
      "26  Amazon-Berkshire-JPMorgan Health Venture to Sh...       1       0.78\n",
      "27  Amazon Delays Hike in Fees It Charges Merchant...       1       0.79\n",
      "28  Amazon Union Supporters Will Need More Votes t...       1       0.66\n",
      "29  Amazon Closes New Jersey Warehouse After Rise ...       1       0.82\n",
      "30  Amazon (AMZN) Job Pay Rate Leaves Some Warehou...       1       0.67\n"
     ]
    },
    {
     "data": {
      "image/png": "[encoded data removed]",
      "text/plain": [
       "<Figure size 432x288 with 1 Axes>"
      ]
     },
     "metadata": {
      "tags": []
     },
     "output_type": "display_data"
    }
   ],
   "source": [
    "df_train = df\n",
    "\n",
    "SentimentML = SentimentML_RandForest()\n",
    "SentimentML.train(df_train)\n",
    "df_to_pred['target'] = SentimentML.predict(df_to_pred)\n",
    "df_to_pred['prob_of_1'] = SentimentML.predict_proba(df_to_pred)[:,1]\n",
    "\n",
    "sns.distplot(df_to_pred['prob_of_1'])\n",
    "\n",
    "df_to_pred.to_csv(path + \"data/Amazon_pred.csv\")\n",
    "\n",
    "print(df_to_pred)"
   ]
  },
  {
   "cell_type": "code",
   "execution_count": null,
   "metadata": {
    "id": "jWt6omFWaYHL"
   },
   "outputs": [],
   "source": []
  },
  {
   "cell_type": "markdown",
   "metadata": {
    "id": "V9fNEFI6AnLu"
   },
   "source": [
    "## Real Data News"
   ]
  },
  {
   "cell_type": "code",
   "execution_count": null,
   "metadata": {
    "colab": {
     "base_uri": "https://localhost:8080/",
     "height": 283
    },
    "id": "-sMbomHOd2it",
    "outputId": "a069ec20-9759-4a36-e7b7-03a6f368159d"
   },
   "outputs": [
    {
     "data": {
      "text/plain": [
       "<matplotlib.axes._subplots.AxesSubplot at 0x7fb70169d9d0>"
      ]
     },
     "execution_count": 59,
     "metadata": {
      "tags": []
     },
     "output_type": "execute_result"
    },
    {
     "data": {
      "image/png": "[encoded data removed]",
      "text/plain": [
       "<Figure size 432x288 with 1 Axes>"
      ]
     },
     "metadata": {
      "tags": []
     },
     "output_type": "display_data"
    }
   ],
   "source": [
    "df_train['target'].hist()"
   ]
  },
  {
   "cell_type": "code",
   "execution_count": null,
   "metadata": {
    "colab": {
     "base_uri": "https://localhost:8080/"
    },
    "id": "iOZS6VxlbdgF",
    "outputId": "8c50fbbb-5571-48e8-c37a-c17f36dc9935"
   },
   "outputs": [
    {
     "name": "stdout",
     "output_type": "stream",
     "text": [
      "24642\n"
     ]
    }
   ],
   "source": [
    "df_train = df\n",
    "SentimentML_RandF_whole = SentimentML(RandomForestClassifier())\n",
    "SentimentML_RandF_whole.train(df_train)"
   ]
  },
  {
   "cell_type": "code",
   "execution_count": null,
   "metadata": {
    "colab": {
     "base_uri": "https://localhost:8080/",
     "height": 956
    },
    "id": "jQwi1S2-AnLu",
    "outputId": "06db5ead-1ada-4060-8ca2-b16597a12e39"
   },
   "outputs": [
    {
     "data": {
      "text/html": [
       "<div>\n",
       "<style scoped>\n",
       "    .dataframe tbody tr th:only-of-type {\n",
       "        vertical-align: middle;\n",
       "    }\n",
       "\n",
       "    .dataframe tbody tr th {\n",
       "        vertical-align: top;\n",
       "    }\n",
       "\n",
       "    .dataframe thead th {\n",
       "        text-align: right;\n",
       "    }\n",
       "</style>\n",
       "<table border=\"1\" class=\"dataframe\">\n",
       "  <thead>\n",
       "    <tr style=\"text-align: right;\">\n",
       "      <th></th>\n",
       "      <th>news</th>\n",
       "      <th>dates</th>\n",
       "      <th>target</th>\n",
       "    </tr>\n",
       "  </thead>\n",
       "  <tbody>\n",
       "    <tr>\n",
       "      <th>0</th>\n",
       "      <td>‘Hermit of the Jungle’ Guards a Brazilian Ghos...</td>\n",
       "      <td>2015-05-09</td>\n",
       "      <td>NaN</td>\n",
       "    </tr>\n",
       "    <tr>\n",
       "      <th>1</th>\n",
       "      <td>Forwarding Text Messages on the iPhoneYou can ...</td>\n",
       "      <td>2015-05-23</td>\n",
       "      <td>NaN</td>\n",
       "    </tr>\n",
       "    <tr>\n",
       "      <th>2</th>\n",
       "      <td>Chinese Plan Investments and Loans for BrazilP...</td>\n",
       "      <td>2015-05-20</td>\n",
       "      <td>NaN</td>\n",
       "    </tr>\n",
       "    <tr>\n",
       "      <th>3</th>\n",
       "      <td>Who Is the Biggest Publisher of Foreign Litera...</td>\n",
       "      <td>2015-04-30</td>\n",
       "      <td>NaN</td>\n",
       "    </tr>\n",
       "    <tr>\n",
       "      <th>4</th>\n",
       "      <td>Amazon Forest Becoming Less of a Climate Chang...</td>\n",
       "      <td>2015-03-24</td>\n",
       "      <td>NaN</td>\n",
       "    </tr>\n",
       "    <tr>\n",
       "      <th>6</th>\n",
       "      <td>PBS Series Explores ‘A New Wild’ Sustained, In...</td>\n",
       "      <td>2015-02-04</td>\n",
       "      <td>NaN</td>\n",
       "    </tr>\n",
       "    <tr>\n",
       "      <th>7</th>\n",
       "      <td>Keeping Tabs on Best-Seller Books and Reading ...</td>\n",
       "      <td>2015-02-05</td>\n",
       "      <td>NaN</td>\n",
       "    </tr>\n",
       "    <tr>\n",
       "      <th>8</th>\n",
       "      <td>For the Indie Writers of Amazon, It’s Publish ...</td>\n",
       "      <td>2015-01-04</td>\n",
       "      <td>NaN</td>\n",
       "    </tr>\n",
       "    <tr>\n",
       "      <th>9</th>\n",
       "      <td>Writers Are Mixed Over Amazon UnlimitedSix mon...</td>\n",
       "      <td>2015-01-01</td>\n",
       "      <td>NaN</td>\n",
       "    </tr>\n",
       "    <tr>\n",
       "      <th>10</th>\n",
       "      <td>Deforestation May Threaten Majority of Amazon ...</td>\n",
       "      <td>2015-11-21</td>\n",
       "      <td>NaN</td>\n",
       "    </tr>\n",
       "    <tr>\n",
       "      <th>11</th>\n",
       "      <td>Amazon Adds New Perks for Workers and Opens a ...</td>\n",
       "      <td>2015-11-03</td>\n",
       "      <td>NaN</td>\n",
       "    </tr>\n",
       "    <tr>\n",
       "      <th>12</th>\n",
       "      <td>Lending Kindle BooksThe e-books can indeed be ...</td>\n",
       "      <td>2015-10-22</td>\n",
       "      <td>NaN</td>\n",
       "    </tr>\n",
       "    <tr>\n",
       "      <th>13</th>\n",
       "      <td>Restoring Sound to Windows 10Upgrading from an...</td>\n",
       "      <td>2015-10-15</td>\n",
       "      <td>NaN</td>\n",
       "    </tr>\n",
       "    <tr>\n",
       "      <th>14</th>\n",
       "      <td>Deforestation and DroughtMany experts believe ...</td>\n",
       "      <td>2015-10-11</td>\n",
       "      <td>NaN</td>\n",
       "    </tr>\n",
       "    <tr>\n",
       "      <th>15</th>\n",
       "      <td>The Plot Twist: E-Book Sales Slip, and Print I...</td>\n",
       "      <td>2015-09-23</td>\n",
       "      <td>NaN</td>\n",
       "    </tr>\n",
       "    <tr>\n",
       "      <th>16</th>\n",
       "      <td>Do the Amazon’s Last Isolated Tribes Have a Fu...</td>\n",
       "      <td>2015-08-09</td>\n",
       "      <td>NaN</td>\n",
       "    </tr>\n",
       "    <tr>\n",
       "      <th>17</th>\n",
       "      <td>Not Lonely at the TopIt’s really not so bad wh...</td>\n",
       "      <td>2015-07-26</td>\n",
       "      <td>NaN</td>\n",
       "    </tr>\n",
       "    <tr>\n",
       "      <th>18</th>\n",
       "      <td>Pope Francis, in Ecuador, Calls for More Prote...</td>\n",
       "      <td>2015-07-08</td>\n",
       "      <td>NaN</td>\n",
       "    </tr>\n",
       "    <tr>\n",
       "      <th>19</th>\n",
       "      <td>Jeff Bezos and the Amazon WayIs the company’s ...</td>\n",
       "      <td>2015-08-22</td>\n",
       "      <td>NaN</td>\n",
       "    </tr>\n",
       "    <tr>\n",
       "      <th>20</th>\n",
       "      <td>Keeping Notes and Highlights From Kindle Books...</td>\n",
       "      <td>2016-04-29</td>\n",
       "      <td>NaN</td>\n",
       "    </tr>\n",
       "    <tr>\n",
       "      <th>21</th>\n",
       "      <td>A Former Girl Soldier in Colombia Finds ‘Life ...</td>\n",
       "      <td>2016-04-28</td>\n",
       "      <td>NaN</td>\n",
       "    </tr>\n",
       "    <tr>\n",
       "      <th>22</th>\n",
       "      <td>Kindle Oasis From Amazon Promises ‘Months and ...</td>\n",
       "      <td>2016-04-14</td>\n",
       "      <td>NaN</td>\n",
       "    </tr>\n",
       "    <tr>\n",
       "      <th>23</th>\n",
       "      <td>This Week Surfers Will Ride a Wave in the Amaz...</td>\n",
       "      <td>2016-03-15</td>\n",
       "      <td>NaN</td>\n",
       "    </tr>\n",
       "    <tr>\n",
       "      <th>24</th>\n",
       "      <td>A Bolivian Town’s Emergence Under Evo MoralesR...</td>\n",
       "      <td>2016-02-27</td>\n",
       "      <td>NaN</td>\n",
       "    </tr>\n",
       "    <tr>\n",
       "      <th>25</th>\n",
       "      <td>Loading the Kindle Library on an iPadIf you ha...</td>\n",
       "      <td>2016-02-24</td>\n",
       "      <td>NaN</td>\n",
       "    </tr>\n",
       "    <tr>\n",
       "      <th>26</th>\n",
       "      <td>‘Embrace of the Serpent,’ Ciro Guerra’s Search...</td>\n",
       "      <td>2016-02-16</td>\n",
       "      <td>NaN</td>\n",
       "    </tr>\n",
       "    <tr>\n",
       "      <th>27</th>\n",
       "      <td>Review: ‘Embrace of the Serpent,’ Where Majest...</td>\n",
       "      <td>2016-02-17</td>\n",
       "      <td>NaN</td>\n",
       "    </tr>\n",
       "    <tr>\n",
       "      <th>28</th>\n",
       "      <td>Amazon Is Said to Be Planning an Expansion Int...</td>\n",
       "      <td>2016-02-03</td>\n",
       "      <td>NaN</td>\n",
       "    </tr>\n",
       "    <tr>\n",
       "      <th>29</th>\n",
       "      <td>A Trip Through Amazon’s First Physical StoreTw...</td>\n",
       "      <td>2016-03-12</td>\n",
       "      <td>NaN</td>\n",
       "    </tr>\n",
       "    <tr>\n",
       "      <th>31</th>\n",
       "      <td>The Lasting Legacy of a Fighter for the Amazon...</td>\n",
       "      <td>2016-11-27</td>\n",
       "      <td>NaN</td>\n",
       "    </tr>\n",
       "    <tr>\n",
       "      <th>33</th>\n",
       "      <td>Brazil’s Surfers Lament Demise of Amazon’s Mig...</td>\n",
       "      <td>2016-11-21</td>\n",
       "      <td>NaN</td>\n",
       "    </tr>\n",
       "  </tbody>\n",
       "</table>\n",
       "</div>"
      ],
      "text/plain": [
       "                                                 news       dates  target\n",
       "0   ‘Hermit of the Jungle’ Guards a Brazilian Ghos...  2015-05-09     NaN\n",
       "1   Forwarding Text Messages on the iPhoneYou can ...  2015-05-23     NaN\n",
       "2   Chinese Plan Investments and Loans for BrazilP...  2015-05-20     NaN\n",
       "3   Who Is the Biggest Publisher of Foreign Litera...  2015-04-30     NaN\n",
       "4   Amazon Forest Becoming Less of a Climate Chang...  2015-03-24     NaN\n",
       "6   PBS Series Explores ‘A New Wild’ Sustained, In...  2015-02-04     NaN\n",
       "7   Keeping Tabs on Best-Seller Books and Reading ...  2015-02-05     NaN\n",
       "8   For the Indie Writers of Amazon, It’s Publish ...  2015-01-04     NaN\n",
       "9   Writers Are Mixed Over Amazon UnlimitedSix mon...  2015-01-01     NaN\n",
       "10  Deforestation May Threaten Majority of Amazon ...  2015-11-21     NaN\n",
       "11  Amazon Adds New Perks for Workers and Opens a ...  2015-11-03     NaN\n",
       "12  Lending Kindle BooksThe e-books can indeed be ...  2015-10-22     NaN\n",
       "13  Restoring Sound to Windows 10Upgrading from an...  2015-10-15     NaN\n",
       "14  Deforestation and DroughtMany experts believe ...  2015-10-11     NaN\n",
       "15  The Plot Twist: E-Book Sales Slip, and Print I...  2015-09-23     NaN\n",
       "16  Do the Amazon’s Last Isolated Tribes Have a Fu...  2015-08-09     NaN\n",
       "17  Not Lonely at the TopIt’s really not so bad wh...  2015-07-26     NaN\n",
       "18  Pope Francis, in Ecuador, Calls for More Prote...  2015-07-08     NaN\n",
       "19  Jeff Bezos and the Amazon WayIs the company’s ...  2015-08-22     NaN\n",
       "20  Keeping Notes and Highlights From Kindle Books...  2016-04-29     NaN\n",
       "21  A Former Girl Soldier in Colombia Finds ‘Life ...  2016-04-28     NaN\n",
       "22  Kindle Oasis From Amazon Promises ‘Months and ...  2016-04-14     NaN\n",
       "23  This Week Surfers Will Ride a Wave in the Amaz...  2016-03-15     NaN\n",
       "24  A Bolivian Town’s Emergence Under Evo MoralesR...  2016-02-27     NaN\n",
       "25  Loading the Kindle Library on an iPadIf you ha...  2016-02-24     NaN\n",
       "26  ‘Embrace of the Serpent,’ Ciro Guerra’s Search...  2016-02-16     NaN\n",
       "27  Review: ‘Embrace of the Serpent,’ Where Majest...  2016-02-17     NaN\n",
       "28  Amazon Is Said to Be Planning an Expansion Int...  2016-02-03     NaN\n",
       "29  A Trip Through Amazon’s First Physical StoreTw...  2016-03-12     NaN\n",
       "31  The Lasting Legacy of a Fighter for the Amazon...  2016-11-27     NaN\n",
       "33  Brazil’s Surfers Lament Demise of Amazon’s Mig...  2016-11-21     NaN"
      ]
     },
     "execution_count": 61,
     "metadata": {
      "tags": []
     },
     "output_type": "execute_result"
    }
   ],
   "source": [
    "# read data to predict\n",
    "\n",
    "df_to_pred = pd.read_csv(path + 'data/amz_parsed_news.csv', index_col = 0, encoding = 'utf8')\n",
    "df_to_pred['target'] = np.nan\n",
    "df_to_pred.head(31)"
   ]
  },
  {
   "cell_type": "code",
   "execution_count": null,
   "metadata": {
    "colab": {
     "base_uri": "https://localhost:8080/",
     "height": 956
    },
    "id": "cGFRZ6R5AnLu",
    "outputId": "2e21ceff-67b5-4eb1-ec7d-4e754d3e703a"
   },
   "outputs": [
    {
     "data": {
      "text/html": [
       "<div>\n",
       "<style scoped>\n",
       "    .dataframe tbody tr th:only-of-type {\n",
       "        vertical-align: middle;\n",
       "    }\n",
       "\n",
       "    .dataframe tbody tr th {\n",
       "        vertical-align: top;\n",
       "    }\n",
       "\n",
       "    .dataframe thead th {\n",
       "        text-align: right;\n",
       "    }\n",
       "</style>\n",
       "<table border=\"1\" class=\"dataframe\">\n",
       "  <thead>\n",
       "    <tr style=\"text-align: right;\">\n",
       "      <th></th>\n",
       "      <th>news</th>\n",
       "      <th>dates</th>\n",
       "      <th>target</th>\n",
       "      <th>prob_of_1</th>\n",
       "    </tr>\n",
       "  </thead>\n",
       "  <tbody>\n",
       "    <tr>\n",
       "      <th>0</th>\n",
       "      <td>‘Hermit of the Jungle’ Guards a Brazilian Ghos...</td>\n",
       "      <td>2015-05-09</td>\n",
       "      <td>1</td>\n",
       "      <td>0.88</td>\n",
       "    </tr>\n",
       "    <tr>\n",
       "      <th>1</th>\n",
       "      <td>Forwarding Text Messages on the iPhoneYou can ...</td>\n",
       "      <td>2015-05-23</td>\n",
       "      <td>1</td>\n",
       "      <td>0.83</td>\n",
       "    </tr>\n",
       "    <tr>\n",
       "      <th>2</th>\n",
       "      <td>Chinese Plan Investments and Loans for BrazilP...</td>\n",
       "      <td>2015-05-20</td>\n",
       "      <td>1</td>\n",
       "      <td>0.80</td>\n",
       "    </tr>\n",
       "    <tr>\n",
       "      <th>3</th>\n",
       "      <td>Who Is the Biggest Publisher of Foreign Litera...</td>\n",
       "      <td>2015-04-30</td>\n",
       "      <td>1</td>\n",
       "      <td>0.76</td>\n",
       "    </tr>\n",
       "    <tr>\n",
       "      <th>4</th>\n",
       "      <td>Amazon Forest Becoming Less of a Climate Chang...</td>\n",
       "      <td>2015-03-24</td>\n",
       "      <td>1</td>\n",
       "      <td>0.89</td>\n",
       "    </tr>\n",
       "    <tr>\n",
       "      <th>6</th>\n",
       "      <td>PBS Series Explores ‘A New Wild’ Sustained, In...</td>\n",
       "      <td>2015-02-04</td>\n",
       "      <td>1</td>\n",
       "      <td>0.88</td>\n",
       "    </tr>\n",
       "    <tr>\n",
       "      <th>7</th>\n",
       "      <td>Keeping Tabs on Best-Seller Books and Reading ...</td>\n",
       "      <td>2015-02-05</td>\n",
       "      <td>1</td>\n",
       "      <td>0.91</td>\n",
       "    </tr>\n",
       "    <tr>\n",
       "      <th>8</th>\n",
       "      <td>For the Indie Writers of Amazon, It’s Publish ...</td>\n",
       "      <td>2015-01-04</td>\n",
       "      <td>1</td>\n",
       "      <td>0.55</td>\n",
       "    </tr>\n",
       "    <tr>\n",
       "      <th>9</th>\n",
       "      <td>Writers Are Mixed Over Amazon UnlimitedSix mon...</td>\n",
       "      <td>2015-01-01</td>\n",
       "      <td>1</td>\n",
       "      <td>0.91</td>\n",
       "    </tr>\n",
       "    <tr>\n",
       "      <th>10</th>\n",
       "      <td>Deforestation May Threaten Majority of Amazon ...</td>\n",
       "      <td>2015-11-21</td>\n",
       "      <td>1</td>\n",
       "      <td>0.87</td>\n",
       "    </tr>\n",
       "    <tr>\n",
       "      <th>11</th>\n",
       "      <td>Amazon Adds New Perks for Workers and Opens a ...</td>\n",
       "      <td>2015-11-03</td>\n",
       "      <td>1</td>\n",
       "      <td>0.80</td>\n",
       "    </tr>\n",
       "    <tr>\n",
       "      <th>12</th>\n",
       "      <td>Lending Kindle BooksThe e-books can indeed be ...</td>\n",
       "      <td>2015-10-22</td>\n",
       "      <td>1</td>\n",
       "      <td>0.86</td>\n",
       "    </tr>\n",
       "    <tr>\n",
       "      <th>13</th>\n",
       "      <td>Restoring Sound to Windows 10Upgrading from an...</td>\n",
       "      <td>2015-10-15</td>\n",
       "      <td>1</td>\n",
       "      <td>0.66</td>\n",
       "    </tr>\n",
       "    <tr>\n",
       "      <th>14</th>\n",
       "      <td>Deforestation and DroughtMany experts believe ...</td>\n",
       "      <td>2015-10-11</td>\n",
       "      <td>1</td>\n",
       "      <td>0.74</td>\n",
       "    </tr>\n",
       "    <tr>\n",
       "      <th>15</th>\n",
       "      <td>The Plot Twist: E-Book Sales Slip, and Print I...</td>\n",
       "      <td>2015-09-23</td>\n",
       "      <td>1</td>\n",
       "      <td>0.79</td>\n",
       "    </tr>\n",
       "    <tr>\n",
       "      <th>16</th>\n",
       "      <td>Do the Amazon’s Last Isolated Tribes Have a Fu...</td>\n",
       "      <td>2015-08-09</td>\n",
       "      <td>1</td>\n",
       "      <td>0.70</td>\n",
       "    </tr>\n",
       "    <tr>\n",
       "      <th>17</th>\n",
       "      <td>Not Lonely at the TopIt’s really not so bad wh...</td>\n",
       "      <td>2015-07-26</td>\n",
       "      <td>1</td>\n",
       "      <td>0.59</td>\n",
       "    </tr>\n",
       "    <tr>\n",
       "      <th>18</th>\n",
       "      <td>Pope Francis, in Ecuador, Calls for More Prote...</td>\n",
       "      <td>2015-07-08</td>\n",
       "      <td>1</td>\n",
       "      <td>0.69</td>\n",
       "    </tr>\n",
       "    <tr>\n",
       "      <th>19</th>\n",
       "      <td>Jeff Bezos and the Amazon WayIs the company’s ...</td>\n",
       "      <td>2015-08-22</td>\n",
       "      <td>1</td>\n",
       "      <td>0.82</td>\n",
       "    </tr>\n",
       "    <tr>\n",
       "      <th>20</th>\n",
       "      <td>Keeping Notes and Highlights From Kindle Books...</td>\n",
       "      <td>2016-04-29</td>\n",
       "      <td>1</td>\n",
       "      <td>0.71</td>\n",
       "    </tr>\n",
       "    <tr>\n",
       "      <th>21</th>\n",
       "      <td>A Former Girl Soldier in Colombia Finds ‘Life ...</td>\n",
       "      <td>2016-04-28</td>\n",
       "      <td>1</td>\n",
       "      <td>0.79</td>\n",
       "    </tr>\n",
       "    <tr>\n",
       "      <th>22</th>\n",
       "      <td>Kindle Oasis From Amazon Promises ‘Months and ...</td>\n",
       "      <td>2016-04-14</td>\n",
       "      <td>1</td>\n",
       "      <td>0.81</td>\n",
       "    </tr>\n",
       "    <tr>\n",
       "      <th>23</th>\n",
       "      <td>This Week Surfers Will Ride a Wave in the Amaz...</td>\n",
       "      <td>2016-03-15</td>\n",
       "      <td>1</td>\n",
       "      <td>0.89</td>\n",
       "    </tr>\n",
       "    <tr>\n",
       "      <th>24</th>\n",
       "      <td>A Bolivian Town’s Emergence Under Evo MoralesR...</td>\n",
       "      <td>2016-02-27</td>\n",
       "      <td>0</td>\n",
       "      <td>0.43</td>\n",
       "    </tr>\n",
       "    <tr>\n",
       "      <th>25</th>\n",
       "      <td>Loading the Kindle Library on an iPadIf you ha...</td>\n",
       "      <td>2016-02-24</td>\n",
       "      <td>1</td>\n",
       "      <td>0.91</td>\n",
       "    </tr>\n",
       "    <tr>\n",
       "      <th>26</th>\n",
       "      <td>‘Embrace of the Serpent,’ Ciro Guerra’s Search...</td>\n",
       "      <td>2016-02-16</td>\n",
       "      <td>1</td>\n",
       "      <td>0.81</td>\n",
       "    </tr>\n",
       "    <tr>\n",
       "      <th>27</th>\n",
       "      <td>Review: ‘Embrace of the Serpent,’ Where Majest...</td>\n",
       "      <td>2016-02-17</td>\n",
       "      <td>1</td>\n",
       "      <td>0.93</td>\n",
       "    </tr>\n",
       "    <tr>\n",
       "      <th>28</th>\n",
       "      <td>Amazon Is Said to Be Planning an Expansion Int...</td>\n",
       "      <td>2016-02-03</td>\n",
       "      <td>1</td>\n",
       "      <td>0.76</td>\n",
       "    </tr>\n",
       "    <tr>\n",
       "      <th>29</th>\n",
       "      <td>A Trip Through Amazon’s First Physical StoreTw...</td>\n",
       "      <td>2016-03-12</td>\n",
       "      <td>1</td>\n",
       "      <td>0.88</td>\n",
       "    </tr>\n",
       "    <tr>\n",
       "      <th>31</th>\n",
       "      <td>The Lasting Legacy of a Fighter for the Amazon...</td>\n",
       "      <td>2016-11-27</td>\n",
       "      <td>1</td>\n",
       "      <td>0.86</td>\n",
       "    </tr>\n",
       "    <tr>\n",
       "      <th>33</th>\n",
       "      <td>Brazil’s Surfers Lament Demise of Amazon’s Mig...</td>\n",
       "      <td>2016-11-21</td>\n",
       "      <td>1</td>\n",
       "      <td>0.88</td>\n",
       "    </tr>\n",
       "  </tbody>\n",
       "</table>\n",
       "</div>"
      ],
      "text/plain": [
       "                                                 news  ... prob_of_1\n",
       "0   ‘Hermit of the Jungle’ Guards a Brazilian Ghos...  ...      0.88\n",
       "1   Forwarding Text Messages on the iPhoneYou can ...  ...      0.83\n",
       "2   Chinese Plan Investments and Loans for BrazilP...  ...      0.80\n",
       "3   Who Is the Biggest Publisher of Foreign Litera...  ...      0.76\n",
       "4   Amazon Forest Becoming Less of a Climate Chang...  ...      0.89\n",
       "6   PBS Series Explores ‘A New Wild’ Sustained, In...  ...      0.88\n",
       "7   Keeping Tabs on Best-Seller Books and Reading ...  ...      0.91\n",
       "8   For the Indie Writers of Amazon, It’s Publish ...  ...      0.55\n",
       "9   Writers Are Mixed Over Amazon UnlimitedSix mon...  ...      0.91\n",
       "10  Deforestation May Threaten Majority of Amazon ...  ...      0.87\n",
       "11  Amazon Adds New Perks for Workers and Opens a ...  ...      0.80\n",
       "12  Lending Kindle BooksThe e-books can indeed be ...  ...      0.86\n",
       "13  Restoring Sound to Windows 10Upgrading from an...  ...      0.66\n",
       "14  Deforestation and DroughtMany experts believe ...  ...      0.74\n",
       "15  The Plot Twist: E-Book Sales Slip, and Print I...  ...      0.79\n",
       "16  Do the Amazon’s Last Isolated Tribes Have a Fu...  ...      0.70\n",
       "17  Not Lonely at the TopIt’s really not so bad wh...  ...      0.59\n",
       "18  Pope Francis, in Ecuador, Calls for More Prote...  ...      0.69\n",
       "19  Jeff Bezos and the Amazon WayIs the company’s ...  ...      0.82\n",
       "20  Keeping Notes and Highlights From Kindle Books...  ...      0.71\n",
       "21  A Former Girl Soldier in Colombia Finds ‘Life ...  ...      0.79\n",
       "22  Kindle Oasis From Amazon Promises ‘Months and ...  ...      0.81\n",
       "23  This Week Surfers Will Ride a Wave in the Amaz...  ...      0.89\n",
       "24  A Bolivian Town’s Emergence Under Evo MoralesR...  ...      0.43\n",
       "25  Loading the Kindle Library on an iPadIf you ha...  ...      0.91\n",
       "26  ‘Embrace of the Serpent,’ Ciro Guerra’s Search...  ...      0.81\n",
       "27  Review: ‘Embrace of the Serpent,’ Where Majest...  ...      0.93\n",
       "28  Amazon Is Said to Be Planning an Expansion Int...  ...      0.76\n",
       "29  A Trip Through Amazon’s First Physical StoreTw...  ...      0.88\n",
       "31  The Lasting Legacy of a Fighter for the Amazon...  ...      0.86\n",
       "33  Brazil’s Surfers Lament Demise of Amazon’s Mig...  ...      0.88\n",
       "\n",
       "[31 rows x 4 columns]"
      ]
     },
     "execution_count": 65,
     "metadata": {
      "tags": []
     },
     "output_type": "execute_result"
    }
   ],
   "source": [
    "# predict real data\n",
    "\n",
    "df_to_pred['target'] = SentimentML_RandF_whole.predict(df_to_pred)\n",
    "df_to_pred['prob_of_1'] = SentimentML_RandF_whole.predict_proba(df_to_pred)[:,1]\n",
    "\n",
    "df_to_pred.to_csv(path + \"data/Amazon_NLP_pred.csv\")\n",
    "\n",
    "df_to_pred.head(31)"
   ]
  },
  {
   "cell_type": "code",
   "execution_count": null,
   "metadata": {
    "colab": {
     "base_uri": "https://localhost:8080/"
    },
    "id": "Go5NkWQzAnLu",
    "outputId": "49497362-d668-45d2-e8b8-5c9373b00414"
   },
   "outputs": [
    {
     "data": {
      "text/plain": [
       "0      ‘Hermit of the Jungle’ Guards a Brazilian Ghos...\n",
       "1      Forwarding Text Messages on the iPhoneYou can ...\n",
       "2      Chinese Plan Investments and Loans for BrazilP...\n",
       "3      Who Is the Biggest Publisher of Foreign Litera...\n",
       "4      Amazon Forest Becoming Less of a Climate Chang...\n",
       "                             ...                        \n",
       "115    12 Accusations in the Damning House Report on ...\n",
       "116    Introducing ‘Time,’ a Film From The Times and ...\n",
       "117    The World’s Largest Tropical Wetland Has Becom...\n",
       "118    Could the Amazon Save Your Life?Scientists are...\n",
       "119    Amazon 4.0. How to Reinvent the RainforestIt t...\n",
       "Name: news, Length: 114, dtype: object"
      ]
     },
     "execution_count": 63,
     "metadata": {
      "tags": []
     },
     "output_type": "execute_result"
    }
   ],
   "source": [
    "df_to_pred['news']"
   ]
  },
  {
   "cell_type": "code",
   "execution_count": null,
   "metadata": {
    "colab": {
     "base_uri": "https://localhost:8080/",
     "height": 353
    },
    "id": "hRGmpJKmAnLv",
    "outputId": "b5f33d47-989a-4ae5-f802-7ce77f72d512"
   },
   "outputs": [
    {
     "name": "stderr",
     "output_type": "stream",
     "text": [
      "/usr/local/lib/python3.7/dist-packages/seaborn/distributions.py:2557: FutureWarning: `distplot` is a deprecated function and will be removed in a future version. Please adapt your code to use either `displot` (a figure-level function with similar flexibility) or `histplot` (an axes-level function for histograms).\n",
      "  warnings.warn(msg, FutureWarning)\n"
     ]
    },
    {
     "data": {
      "text/plain": [
       "<matplotlib.axes._subplots.AxesSubplot at 0x7fb7018224d0>"
      ]
     },
     "execution_count": 64,
     "metadata": {
      "tags": []
     },
     "output_type": "execute_result"
    },
    {
     "data": {
      "image/png": "[encoded data removed]",
      "text/plain": [
       "<Figure size 432x288 with 1 Axes>"
      ]
     },
     "metadata": {
      "tags": []
     },
     "output_type": "display_data"
    }
   ],
   "source": [
    "sns.distplot(df_to_pred['prob_of_1'])"
   ]
  },
  {
   "cell_type": "markdown",
   "metadata": {
    "id": "mOWJbzRfCUeI"
   },
   "source": [
    "# Sentiment: Deep Learning"
   ]
  },
  {
   "cell_type": "code",
   "execution_count": null,
   "metadata": {
    "id": "pZhpARSfCXIn"
   },
   "outputs": [],
   "source": [
    "import numpy as np # linear algebra\n",
    "import pandas as pd # data processing, CSV file I/O (e.g. pd.read_csv)\n",
    "import torch #pytorch\n",
    "import torch.nn as nn #for our model class\n",
    "import torch.nn.functional as F\n",
    "from nltk.corpus import stopwords #removing stop words\n",
    "from collections import Counter #counting the unique numbers\n",
    "import string \n",
    "import re #regex\n",
    "import seaborn as sns #plotting\n",
    "import matplotlib.pyplot as plt #plotting\n",
    "from torch.utils.data import TensorDataset, DataLoader #data prep\n",
    "from sklearn.model_selection import train_test_split #"
   ]
  },
  {
   "cell_type": "code",
   "execution_count": null,
   "metadata": {
    "colab": {
     "base_uri": "https://localhost:8080/"
    },
    "id": "FnSuJ97AOMUW",
    "outputId": "81df3f29-2731-4ed2-a1af-b3c8db2ceb9a"
   },
   "outputs": [
    {
     "name": "stdout",
     "output_type": "stream",
     "text": [
      "[nltk_data] Downloading package stopwords to /root/nltk_data...\n",
      "[nltk_data]   Package stopwords is already up-to-date!\n"
     ]
    },
    {
     "data": {
      "text/plain": [
       "True"
      ]
     },
     "execution_count": 176,
     "metadata": {
      "tags": []
     },
     "output_type": "execute_result"
    }
   ],
   "source": [
    "import nltk\n",
    "nltk.download('stopwords')"
   ]
  },
  {
   "cell_type": "code",
   "execution_count": null,
   "metadata": {
    "colab": {
     "base_uri": "https://localhost:8080/"
    },
    "id": "h2ly1qZMCXS8",
    "outputId": "fba9ff80-db0e-4fce-ed6a-2f3663c8c262"
   },
   "outputs": [
    {
     "name": "stdout",
     "output_type": "stream",
     "text": [
      "GPU is available\n"
     ]
    }
   ],
   "source": [
    "is_cuda = torch.cuda.is_available()\n",
    "\n",
    "# If we have a GPU available, we'll set our device to GPU. We'll use this device variable later in our code.\n",
    "if is_cuda:\n",
    "    device = torch.device(\"cuda\")\n",
    "    print(\"GPU is available\")\n",
    "else:\n",
    "    device = torch.device(\"cpu\")\n",
    "    print(\"GPU not available, CPU used\") "
   ]
  },
  {
   "cell_type": "code",
   "execution_count": null,
   "metadata": {
    "colab": {
     "base_uri": "https://localhost:8080/",
     "height": 438
    },
    "id": "GDWzMN6OCXa9",
    "outputId": "5f7e23a7-607e-4387-b253-90d204b6e10e"
   },
   "outputs": [],
   "source": [
    "df = pd.read_csv(path + 'data/all_dfs.csv', index_col = 0)\n",
    "df"
   ]
  },
  {
   "cell_type": "code",
   "execution_count": null,
   "metadata": {
    "colab": {
     "base_uri": "https://localhost:8080/"
    },
    "id": "VAaXCbZMCXi7",
    "outputId": "ea33d84b-ab14-4ffe-a82f-2eee7beb7262"
   },
   "outputs": [
    {
     "name": "stdout",
     "output_type": "stream",
     "text": [
      "shape of train data is (15323,)\n",
      "shape of test data is (5108,)\n"
     ]
    }
   ],
   "source": [
    "X,y = df['news'].values,df['target'].values\n",
    "x_train,x_test,y_train,y_test = train_test_split(X,y,stratify=y)\n",
    "print(f'shape of train data is {x_train.shape}')\n",
    "print(f'shape of test data is {x_test.shape}')"
   ]
  },
  {
   "cell_type": "code",
   "execution_count": null,
   "metadata": {
    "colab": {
     "base_uri": "https://localhost:8080/",
     "height": 265
    },
    "id": "HZ-MSNxkCXqV",
    "outputId": "43fb8b92-f17e-4b01-c0bd-22ccda3f586e"
   },
   "outputs": [
    {
     "data": {
      "image/png": "[encoded data removed]",
      "text/plain": [
       "<Figure size 432x288 with 1 Axes>"
      ]
     },
     "metadata": {
      "tags": []
     },
     "output_type": "display_data"
    }
   ],
   "source": [
    "dd = pd.Series(y_train).value_counts()\n",
    "sns.barplot(x=dd.index,y=dd.values)\n",
    "plt.show()"
   ]
  },
  {
   "cell_type": "code",
   "execution_count": null,
   "metadata": {
    "id": "I4gw5FsPC7T_"
   },
   "outputs": [],
   "source": [
    "def preprocess_string(s):\n",
    "    # Remove all non-word characters \n",
    "    s = re.sub(r\"[^\\w\\s]\", '', s)\n",
    "    # Replace all runs of whitespaces with no space\n",
    "    s = re.sub(r\"\\s+\", '', s)\n",
    "    # replace digits with no space\n",
    "    s = re.sub(r\"\\d\", '', s)\n",
    "\n",
    "    return s "
   ]
  },
  {
   "cell_type": "code",
   "execution_count": null,
   "metadata": {
    "id": "YBJlSDg0DqVk"
   },
   "outputs": [],
   "source": [
    "def tockenize(x_train,y_train,x_val,y_val):\n",
    "    word_list = []\n",
    "\n",
    "    stop_words = set(stopwords.words('english')) #for removing stop words\n",
    "    for sent in x_train:\n",
    "        for word in sent.lower().split(): #lower case sentence splitted in list\n",
    "            word = preprocess_string(word) #preprocess that word using the above function\n",
    "            if word not in stop_words and word != '':\n",
    "                word_list.append(word) #if not stop word then append\n",
    "  \n",
    "    corpus = Counter(word_list) #counting the words occurence\n",
    "    # sorting on the basis of most common words\n",
    "    corpus_ = sorted(corpus,key=corpus.get,reverse=True)[:] \n",
    "    # creating a dict\n",
    "    onehot_dict = {w:i+1 for i,w in enumerate(corpus_)} #this will create a dictionary with their numbers based on most common words\n",
    "    \n",
    "    # tockenize\n",
    "    final_list_train,final_list_test = [],[]\n",
    "    for sent in x_train:\n",
    "            final_list_train.append([onehot_dict[preprocess_string(word)] for word in sent.lower().split() if preprocess_string(word) in onehot_dict.keys()]) #picking the number of the word after preprocessing it\n",
    "    for sent in x_val:\n",
    "            final_list_test.append([onehot_dict[preprocess_string(word)] for word in sent.lower().split() if preprocess_string(word) in onehot_dict.keys()]) #picking the number of the word after preprocessing it\n",
    "            \n",
    "    encoded_train = [1 if label == 1 else 0 for label in y_train] #encoding the labels\n",
    "    encoded_test = [1 if label == 1 else 0 for label in y_val] \n",
    "    return np.array(final_list_train), np.array(encoded_train), np.array(final_list_test), np.array(encoded_test),onehot_dict #returning these 4 values\n",
    " "
   ]
  },
  {
   "cell_type": "code",
   "execution_count": null,
   "metadata": {
    "colab": {
     "base_uri": "https://localhost:8080/"
    },
    "id": "-GzemdlVC7qG",
    "outputId": "ec27ed4f-884b-45a3-9adb-b0a4f7722fe7"
   },
   "outputs": [
    {
     "name": "stderr",
     "output_type": "stream",
     "text": [
      "/usr/local/lib/python3.7/dist-packages/ipykernel_launcher.py:26: VisibleDeprecationWarning: Creating an ndarray from ragged nested sequences (which is a list-or-tuple of lists-or-tuples-or ndarrays with different lengths or shapes) is deprecated. If you meant to do this, you must specify 'dtype=object' when creating the ndarray\n"
     ]
    }
   ],
   "source": [
    "x_train,y_train,x_test,y_test,vocab = tockenize(x_train,y_train,x_test,y_test) "
   ]
  },
  {
   "cell_type": "code",
   "execution_count": null,
   "metadata": {
    "colab": {
     "base_uri": "https://localhost:8080/"
    },
    "id": "G6fMZQKknPbE",
    "outputId": "2732f479-f661-4efb-f47a-585cd1444e77"
   },
   "outputs": [
    {
     "data": {
      "text/plain": [
       "array([list([2554, 138, 45, 144, 43, 220, 43, 90, 136, 67]),\n",
       "       list([1286, 1286, 11, 49, 82, 27, 275, 423]),\n",
       "       list([3163, 15595, 18, 2899, 7978, 862, 49]), ...,\n",
       "       list([5, 2225, 545, 368, 3303, 893, 5197, 4015, 321, 1312, 3748, 6893]),\n",
       "       list([4519, 3, 2875, 88, 183, 41, 48, 4]),\n",
       "       list([110, 73, 2519, 9306, 847, 1540])], dtype=object)"
      ]
     },
     "execution_count": 70,
     "metadata": {
      "tags": []
     },
     "output_type": "execute_result"
    }
   ],
   "source": [
    "x_train"
   ]
  },
  {
   "cell_type": "code",
   "execution_count": null,
   "metadata": {
    "colab": {
     "base_uri": "https://localhost:8080/"
    },
    "id": "Z0H6X6RMC75A",
    "outputId": "37c712a0-c7b8-4a74-b519-fc2cbdb16a1d"
   },
   "outputs": [
    {
     "name": "stdout",
     "output_type": "stream",
     "text": [
      "Length of vocabulary is 28629\n"
     ]
    }
   ],
   "source": [
    "print(f'Length of vocabulary is {len(vocab)}') "
   ]
  },
  {
   "cell_type": "code",
   "execution_count": null,
   "metadata": {
    "colab": {
     "base_uri": "https://localhost:8080/",
     "height": 439
    },
    "id": "mL0uHMS6C8BA",
    "outputId": "5e91c507-8cc3-4699-b15d-4901a4fa4dc1"
   },
   "outputs": [
    {
     "data": {
      "image/png": "[encoded data removed]",
      "text/plain": [
       "<Figure size 432x288 with 1 Axes>"
      ]
     },
     "metadata": {
      "tags": []
     },
     "output_type": "display_data"
    },
    {
     "data": {
      "text/plain": [
       "count    15323.000000\n",
       "mean        22.632252\n",
       "std         81.790677\n",
       "min          0.000000\n",
       "25%          8.000000\n",
       "50%         11.000000\n",
       "75%         14.000000\n",
       "max       2622.000000\n",
       "dtype: float64"
      ]
     },
     "execution_count": 75,
     "metadata": {
      "tags": []
     },
     "output_type": "execute_result"
    }
   ],
   "source": [
    "rev_len = [len(i) for i in x_train]\n",
    "pd.Series(rev_len).hist()\n",
    "plt.ylabel('частота встречаемости')\n",
    "plt.xlabel('номер слова')\n",
    "plt.show()\n",
    "pd.Series(rev_len).describe() "
   ]
  },
  {
   "cell_type": "code",
   "execution_count": null,
   "metadata": {
    "id": "-ev8kPgKC8KH"
   },
   "outputs": [],
   "source": [
    "def padding_(sentences, seq_len):\n",
    "    features = np.zeros((len(sentences), seq_len),dtype=int)\n",
    "    for ii, review in enumerate(sentences):\n",
    "        if len(review) != 0:\n",
    "            features[ii, -len(review):] = np.array(review)[:seq_len]\n",
    "    return features \n"
   ]
  },
  {
   "cell_type": "code",
   "execution_count": null,
   "metadata": {
    "id": "aJ3NsIQDC8U2"
   },
   "outputs": [],
   "source": [
    "#we have very less number of reviews with length > 500.\n",
    "x_train_pad = padding_(x_train,1000)\n",
    "x_test_pad = padding_(x_test,1000) "
   ]
  },
  {
   "cell_type": "code",
   "execution_count": null,
   "metadata": {
    "colab": {
     "base_uri": "https://localhost:8080/"
    },
    "id": "pjRBOCMdnW7L",
    "outputId": "f614e348-b7c5-4877-de5a-bd832a8ef010"
   },
   "outputs": [
    {
     "data": {
      "text/plain": [
       "array([[   0,    0,    0, ...,   90,  136,   67],\n",
       "       [   0,    0,    0, ...,   27,  275,  423],\n",
       "       [   0,    0,    0, ..., 7978,  862,   49],\n",
       "       ...,\n",
       "       [   0,    0,    0, ..., 1312, 3748, 6893],\n",
       "       [   0,    0,    0, ...,   41,   48,    4],\n",
       "       [   0,    0,    0, ..., 9306,  847, 1540]])"
      ]
     },
     "execution_count": 78,
     "metadata": {
      "tags": []
     },
     "output_type": "execute_result"
    }
   ],
   "source": [
    "x_train_pad"
   ]
  },
  {
   "cell_type": "code",
   "execution_count": null,
   "metadata": {
    "id": "YHSSm-OsrGTc"
   },
   "outputs": [],
   "source": [
    "class LSTM(nn.Module):\n",
    "\n",
    "    # define all the layers used in model\n",
    "    def __init__(self, vocab_size, embedding_dim, lstm_units, hidden_dim , num_classes, lstm_layers,\n",
    "                 bidirectional, dropout, pad_index, batch_size):\n",
    "        super().__init__()\n",
    "        self.embedding = nn.Embedding(vocab_size, embedding_dim, padding_idx = pad_index)\n",
    "        self.lstm = nn.LSTM(embedding_dim,\n",
    "                            lstm_units,\n",
    "                            num_layers=lstm_layers,\n",
    "                            bidirectional=bidirectional,\n",
    "                            batch_first=True)\n",
    "        num_directions = 2 if bidirectional else 1\n",
    "        self.fc1 = nn.Linear(lstm_units * num_directions, hidden_dim)\n",
    "        self.fc2 = nn.Linear(hidden_dim, num_classes)\n",
    "        self.relu = nn.ReLU()\n",
    "        self.dropout = nn.Dropout(dropout)\n",
    "        self.lstm_layers = lstm_layers\n",
    "        self.num_directions = num_directions\n",
    "        self.lstm_units = lstm_units\n",
    "\n",
    "\n",
    "    def init_hidden(self, batch_size):\n",
    "        h, c = (Variable(torch.zeros(self.lstm_layers * self.num_directions, batch_size, self.lstm_units)),\n",
    "                Variable(torch.zeros(self.lstm_layers * self.num_directions, batch_size, self.lstm_units)))\n",
    "        return h, c\n",
    "\n",
    "    def forward(self, text, text_lengths):\n",
    "        batch_size = text.shape[0]\n",
    "        h_0, c_0 = self.init_hidden(batch_size)\n",
    "\n",
    "        embedded = self.embedding(text)\n",
    "        packed_embedded = pack_padded_sequence(embedded, text_lengths, batch_first=True)\n",
    "        output, (h_n, c_n) = self.lstm(packed_embedded, (h_0, c_0))\n",
    "        output_unpacked, output_lengths = pad_packed_sequence(output, batch_first=True)\n",
    "        out = output_unpacked[:, -1, :]\n",
    "        rel = self.relu(out)\n",
    "        dense1 = self.fc1(rel)\n",
    "        drop = self.dropout(dense1)\n",
    "        preds = self.fc2(drop)\n",
    "        return preds"
   ]
  },
  {
   "cell_type": "code",
   "execution_count": null,
   "metadata": {
    "id": "v-oeK6SwFKyM"
   },
   "outputs": [],
   "source": [
    "class SentimentRNN(nn.Module):\n",
    "    def __init__(self,no_layers,vocab_size,hidden_dim,embedding_dim,drop_prob=0.5): \n",
    "        super(SentimentRNN,self).__init__()\n",
    " \n",
    "        self.output_dim = output_dim #output dimensions\n",
    "        self.hidden_dim = hidden_dim #hidden dimensions\n",
    "  \n",
    "        self.no_layers = no_layers #number of layers\n",
    "        self.vocab_size = vocab_size #vocabulary size\n",
    "    \n",
    "        # embedding \n",
    "        self.embedding = nn.Embedding(vocab_size, embedding_dim) #embedding of vocabulary size and embedding dimensions        \n",
    "        #lstm\n",
    "        self.lstm = nn.LSTM(input_size=embedding_dim, hidden_size=self.hidden_dim,\n",
    "                           num_layers=no_layers, batch_first=True)\n",
    "        \n",
    "        # dropout layer\n",
    "        self.dropout = nn.Dropout(0.4)\n",
    "    \n",
    "        # linear and sigmoid layer\n",
    "        #self.fc = nn.Linear(self.hidden_dim, output_dim) \n",
    "        self.fc0 = nn.Linear(self.hidden_dim, 512) #first drop out\n",
    "        self.fc1 = nn.Linear(512, 256) #1st fc layer\n",
    "        self.dropout1 = nn.Dropout(0.2) #2nd drop out\n",
    "        self.fc = nn.Linear(256, output_dim) #2nd fully connected layer\n",
    "        self.sig = nn.Sigmoid() #for last layer\n",
    "        \n",
    "    def forward(self,x,hidden):\n",
    "        batch_size = x.size(0)\n",
    "        # embeddings and lstm_out\n",
    "        embeds = self.embedding(x)  # shape: B x S x Feature   since batch = True\n",
    "        #print(embeds.shape)  #[50, 500, 1000]\n",
    "        lstm_out, hidden = self.lstm(embeds, hidden)\n",
    "        \n",
    "        lstm_out = lstm_out.contiguous().view(-1, self.hidden_dim) \n",
    "        \n",
    "        # dropout and fully connected layer\n",
    "        out = self.dropout(lstm_out)\n",
    "        out = self.fc0(out)\n",
    "        out = self.dropout1(out)\n",
    "        out = self.fc1(out)\n",
    "        out = self.fc(out)\n",
    "        \n",
    "        # sigmoid function\n",
    "        sig_out = self.sig(out)\n",
    "        \n",
    "        # reshape to be batch_size first\n",
    "        sig_out = sig_out.view(batch_size, -1)\n",
    "\n",
    "        sig_out = sig_out[:, -1] # get last batch of labels\n",
    "        \n",
    "        # return last sigmoid output and hidden state\n",
    "        return sig_out, hidden\n",
    "        \n",
    "        \n",
    "        \n",
    "    def init_hidden(self, batch_size):\n",
    "        ''' Initializes hidden state '''\n",
    "        # Create two new tensors with sizes n_layers x batch_size x hidden_dim,\n",
    "        # initialized to zero, for hidden state and cell state of LSTM\n",
    "        h0 = torch.zeros((self.no_layers,batch_size,self.hidden_dim)).to(device)\n",
    "        c0 = torch.zeros((self.no_layers,batch_size,self.hidden_dim)).to(device)\n",
    "        hidden = (h0,c0)\n",
    "        return hidden\n",
    " "
   ]
  },
  {
   "cell_type": "code",
   "execution_count": null,
   "metadata": {
    "id": "sPXHM6bt0LuV"
   },
   "outputs": [],
   "source": [
    "class LSTM_1(nn.Module):\n",
    "    def __init__(self, no_layers, vocab_size, hidden_dim, embedding_dim, drop_prob=0.5, bidirectional = False, num_classes = 1): \n",
    "        super(LSTM_1,self).__init__()\n",
    " \n",
    "        self.output_dim = output_dim #output dimensions\n",
    "        self.hidden_dim = hidden_dim #hidden dimensions\n",
    "  \n",
    "        self.no_layers = no_layers #number of layers\n",
    "        self.vocab_size = vocab_size #vocabulary size\n",
    "    \n",
    "        # embedding \n",
    "        self.embedding = nn.Embedding(vocab_size, embedding_dim) #embedding of vocabulary size and embedding dimensions        \n",
    "        #lstm\n",
    "        self.lstm = nn.LSTM(input_size=embedding_dim, hidden_size=self.hidden_dim,\n",
    "                           num_layers=no_layers, bidirectional=bidirectional, batch_first=True)\n",
    "        \n",
    "        # dropout layer\n",
    "        #self.dropout = nn.Dropout(0.4)\n",
    "\n",
    "        num_directions = 2 if bidirectional else 1\n",
    "        self.fc1 = nn.Linear(self.hidden_dim * num_directions, self.hidden_dim)\n",
    "        self.fc2 = nn.Linear(self.hidden_dim, num_classes)\n",
    "\n",
    "        self.relu = nn.ReLU()\n",
    "        self.dropout = nn.Dropout(drop_prob)\n",
    "\n",
    "    \n",
    "        # linear and sigmoid layer\n",
    "        self.fc = nn.Linear(self.hidden_dim * num_directions, output_dim) \n",
    "        \"\"\"self.fc0 = nn.Linear(self.hidden_dim, 512) #first drop out\n",
    "        self.fc1 = nn.Linear(512, 256) #1st fc layer\n",
    "        self.dropout1 = nn.Dropout(0.2) #2nd drop out\n",
    "        self.fc = nn.Linear(256, output_dim) #2nd fully connected layer\"\"\"\n",
    "        self.sig = nn.Sigmoid() #for last layer\n",
    "        \n",
    "    def forward(self,x,hidden):\n",
    "        \"\"\"batch_size = text.shape[0]\n",
    "        h_0, c_0 = self.init_hidden(batch_size)\n",
    "\n",
    "        embedded = self.embedding(text)\n",
    "        packed_embedded = pack_padded_sequence(embedded, text_lengths, batch_first=True)\n",
    "        output, (h_n, c_n) = self.lstm(packed_embedded, (h_0, c_0))\n",
    "        output_unpacked, output_lengths = pad_packed_sequence(output, batch_first=True)\n",
    "        out = output_unpacked[:, -1, :]\n",
    "        rel = self.relu(out)\n",
    "        dense1 = self.fc1(rel)\n",
    "        drop = self.dropout(dense1)\n",
    "        preds = self.fc2(drop)\n",
    "        return preds\"\"\"\n",
    "\n",
    "\n",
    "        batch_size = x.size(0)\n",
    "        # embeddings and lstm_out\n",
    "        embeds = self.embedding(x)  # shape: B x S x Feature   since batch = True\n",
    "        #print(embeds.shape)  #[50, 500, 1000]\n",
    "        lstm_out, hidden = self.lstm(embeds, hidden)\n",
    "        \n",
    "        lstm_out = lstm_out.contiguous().view(-1, self.hidden_dim) \n",
    "        \n",
    "        # dropout and fully connected layer\n",
    "        out = self.fc1(lstm_out)\n",
    "        out = self.dropout(out)\n",
    "        out = self.fc2(out)\n",
    "        \"\"\"out = self.dropout(lstm_out)\n",
    "        out = self.fc0(out)\n",
    "        out = self.dropout1(out)\n",
    "        out = self.fc1(out)\n",
    "        out = self.fc(out)\"\"\"\n",
    "        \n",
    "        # sigmoid function\n",
    "        sig_out = self.sig(out)\n",
    "        \n",
    "        # reshape to be batch_size first\n",
    "        sig_out = sig_out.view(batch_size, -1)\n",
    "\n",
    "        sig_out = sig_out[:, -1] # get last batch of labels\n",
    "        \n",
    "        # return last sigmoid output and hidden state\n",
    "        return sig_out, hidden\n",
    "        \n",
    "        \n",
    "        \n",
    "    def init_hidden(self, batch_size):\n",
    "        ''' Initializes hidden state '''\n",
    "        # Create two new tensors with sizes n_layers x batch_size x hidden_dim,\n",
    "        # initialized to zero, for hidden state and cell state of LSTM\n",
    "        h0 = torch.zeros((self.no_layers,batch_size,self.hidden_dim)).to(device)\n",
    "        c0 = torch.zeros((self.no_layers,batch_size,self.hidden_dim)).to(device)\n",
    "        hidden = (h0,c0)\n",
    "        return hidden"
   ]
  },
  {
   "cell_type": "code",
   "execution_count": null,
   "metadata": {
    "id": "n78sEOJXC8ed"
   },
   "outputs": [],
   "source": [
    "train_data = TensorDataset(torch.from_numpy(x_train_pad), torch.from_numpy(y_train))\n",
    "valid_data = TensorDataset(torch.from_numpy(x_test_pad), torch.from_numpy(y_test))\n",
    "\n",
    "# batch size\n",
    "batch_size = 50\n",
    "\n",
    "#shuffling\n",
    "train_loader = DataLoader(train_data, shuffle=True, batch_size=batch_size)\n",
    "valid_loader = DataLoader(valid_data, shuffle=True, batch_size=batch_size)\n"
   ]
  },
  {
   "cell_type": "code",
   "execution_count": null,
   "metadata": {
    "colab": {
     "base_uri": "https://localhost:8080/"
    },
    "id": "0JSUzDLNFLMs",
    "outputId": "3dee00ec-3f9f-47cd-a5c2-ca08c4647c44"
   },
   "outputs": [
    {
     "data": {
      "text/plain": [
       "LSTM_1(\n",
       "  (embedding): Embedding(28615, 64)\n",
       "  (lstm): LSTM(64, 256, num_layers=4, batch_first=True)\n",
       "  (fc1): Linear(in_features=256, out_features=256, bias=True)\n",
       "  (fc2): Linear(in_features=256, out_features=1, bias=True)\n",
       "  (relu): ReLU()\n",
       "  (dropout): Dropout(p=0.5, inplace=False)\n",
       "  (fc): Linear(in_features=256, out_features=1, bias=True)\n",
       "  (sig): Sigmoid()\n",
       ")"
      ]
     },
     "execution_count": 54,
     "metadata": {
      "tags": []
     },
     "output_type": "execute_result"
    }
   ],
   "source": [
    "no_layers = 4 #4 hidden LSTM stacked layers\n",
    "vocab_size = len(vocab) + 1 #extra 1 for padding\n",
    "embedding_dim = 64 # embedding dimensions\n",
    "output_dim = 1 #single output 1 or 0\n",
    "hidden_dim = 256 # hidden dimensions\n",
    "drop_prob = 0.5\n",
    "\n",
    "\n",
    "\"\"\"model = LSTM(self, vocab_size, embedding_dim, lstm_units, hidden_dim , num_classes, lstm_layers,\n",
    "                 bidirectional, dropout, pad_index, batch_size)\"\"\"\n",
    "\n",
    "#model = SentimentRNN(no_layers, vocab_size, hidden_dim, embedding_dim, drop_prob=0.5)\n",
    "model = LSTM_1(no_layers, vocab_size, hidden_dim, embedding_dim, drop_prob, num_classes = output_dim)\n",
    "\n",
    "#moving to gpu if available\n",
    "model.to(device) \n"
   ]
  },
  {
   "cell_type": "code",
   "execution_count": null,
   "metadata": {
    "colab": {
     "base_uri": "https://localhost:8080/"
    },
    "id": "tV06kdg2C8mw",
    "outputId": "5c705997-f967-4470-ee2e-ac30852a66a4"
   },
   "outputs": [
    {
     "name": "stdout",
     "output_type": "stream",
     "text": [
      "LSTM_1(\n",
      "  (embedding): Embedding(28615, 64)\n",
      "  (lstm): LSTM(64, 256, num_layers=4, batch_first=True)\n",
      "  (fc1): Linear(in_features=256, out_features=256, bias=True)\n",
      "  (fc2): Linear(in_features=256, out_features=1, bias=True)\n",
      "  (relu): ReLU()\n",
      "  (dropout): Dropout(p=0.5, inplace=False)\n",
      "  (fc): Linear(in_features=256, out_features=1, bias=True)\n",
      "  (sig): Sigmoid()\n",
      ")\n"
     ]
    }
   ],
   "source": [
    "print(model) "
   ]
  },
  {
   "cell_type": "code",
   "execution_count": null,
   "metadata": {
    "id": "0orVKZd2FouC"
   },
   "outputs": [],
   "source": [
    "def acc(pred,label):\n",
    "    pred = torch.round(pred.squeeze()) #remove extra dimensions\n",
    "    return torch.sum(pred == label.squeeze()).item()"
   ]
  },
  {
   "cell_type": "code",
   "execution_count": null,
   "metadata": {
    "id": "8gUQcEUNFo9G"
   },
   "outputs": [],
   "source": [
    "lr=0.001 #learning rate\n",
    "criterion = nn.BCELoss() #binary cross entropy for binary classification\n",
    "optimizer = torch.optim.Adam(model.parameters(), lr=lr) #adam"
   ]
  },
  {
   "cell_type": "code",
   "execution_count": null,
   "metadata": {
    "id": "Rkzy8JINFpIA"
   },
   "outputs": [],
   "source": [
    "clip = 5 #gradient clipping for exploding gradients\n",
    "epochs = 10 #number of epochs\n",
    "valid_loss_min = np.Inf #setting loss for minimum i.e infinity epochs\n",
    "# train for some number of epochs\n",
    "epoch_tr_loss,epoch_vl_loss = [],[]  #lists for appending per epochs statistics to visualize\n",
    "epoch_tr_acc,epoch_vl_acc = [],[]"
   ]
  },
  {
   "cell_type": "code",
   "execution_count": null,
   "metadata": {
    "colab": {
     "base_uri": "https://localhost:8080/"
    },
    "id": "eWBBLn7xFyQt",
    "outputId": "45db9bc3-b15f-41c9-8e58-dbe732755c48"
   },
   "outputs": [
    {
     "name": "stdout",
     "output_type": "stream",
     "text": [
      "Epoch 1\n",
      "train_loss : 0.5122715294166328 val_loss : 0.4252804111616284\n",
      "train_accuracy : 74.41176470588235 val_accuracy : 26.555555555555554\n",
      "Validation loss decreased (inf --> 0.425280).  Saving model ...\n",
      "==================================================\n",
      "Epoch 2\n",
      "train_loss : 0.36834678959612754 val_loss : 0.3907519440148391\n",
      "train_accuracy : 82.69281045751634 val_accuracy : 27.372549019607845\n",
      "Validation loss decreased (0.425280 --> 0.390752).  Saving model ...\n",
      "==================================================\n",
      "Epoch 3\n",
      "train_loss : 0.26811666896238046 val_loss : 0.3833303536270179\n",
      "train_accuracy : 88.09803921568627 val_accuracy : 28.013071895424837\n",
      "Validation loss decreased (0.390752 --> 0.383330).  Saving model ...\n",
      "==================================================\n",
      "Epoch 4\n",
      "train_loss : 0.18149309734406036 val_loss : 0.41605236688080954\n",
      "train_accuracy : 92.03921568627452 val_accuracy : 28.13071895424837\n",
      "==================================================\n",
      "Epoch 5\n",
      "train_loss : 0.12026030472571067 val_loss : 0.5290802437446865\n",
      "train_accuracy : 95.02614379084967 val_accuracy : 28.22222222222222\n",
      "==================================================\n",
      "Epoch 6\n",
      "train_loss : 0.07005058287709855 val_loss : 0.5513728902328248\n",
      "train_accuracy : 97.45098039215686 val_accuracy : 28.372549019607845\n",
      "==================================================\n",
      "Epoch 7\n",
      "train_loss : 0.05449790017050843 val_loss : 0.5588728839568063\n",
      "train_accuracy : 98.05228758169935 val_accuracy : 28.320261437908496\n",
      "==================================================\n",
      "Epoch 8\n",
      "train_loss : 0.04105333100311577 val_loss : 0.7873795042727508\n",
      "train_accuracy : 98.50980392156863 val_accuracy : 28.11764705882353\n",
      "==================================================\n",
      "Epoch 9\n",
      "train_loss : 0.030477579778841746 val_loss : 0.8501574604534635\n",
      "train_accuracy : 98.90849673202614 val_accuracy : 28.37908496732026\n",
      "==================================================\n",
      "Epoch 10\n",
      "train_loss : 0.023518803381805994 val_loss : 0.670364713113682\n",
      "train_accuracy : 99.26143790849673 val_accuracy : 28.248366013071895\n",
      "==================================================\n"
     ]
    }
   ],
   "source": [
    "for epoch in range(epochs):\n",
    "    train_losses = []\n",
    "    train_acc = 0.0\n",
    "    model.train()\n",
    "    # initialize hidden state \n",
    "    h = model.init_hidden(batch_size)\n",
    "    for inputs, labels in train_loader: #training data\n",
    "        \n",
    "        inputs, labels = inputs.to(device), labels.to(device)   \n",
    "        # Creating new variables for the hidden state, otherwise\n",
    "        # we'd backprop through the entire training history\n",
    "        if len(inputs) != batch_size:\n",
    "          continue\n",
    "\n",
    "        h = tuple([each.data for each in h]) \n",
    "        #print(len(inputs))\n",
    "        \n",
    "        model.zero_grad() #zero gradients before starting the training\n",
    "        output,h = model(inputs,h) #forward pass\n",
    "        \n",
    "        # calculate the loss and perform backprop\n",
    "        loss = criterion(output.squeeze(), labels.float()) #criterion loss\n",
    "        loss.backward() # computes loss\n",
    "        train_losses.append(loss.item()) #appending the loss\n",
    "        # calculating accuracy\n",
    "        accuracy = acc(output,labels) \n",
    "        train_acc += accuracy \n",
    "\n",
    "        #`clip_grad_norm` helps prevent the exploding gradient problem in RNNs / LSTMs.\n",
    "        nn.utils.clip_grad_norm_(model.parameters(), clip)\n",
    "        optimizer.step() #improving the loss via optimizer using back prop (ADAM optimizer)\n",
    " \n",
    "    \n",
    "        \n",
    "    val_h = model.init_hidden(batch_size) #initialize the hidden state\n",
    "    val_losses = []\n",
    "    val_acc = 0.0\n",
    "    model.eval()\n",
    "    for inputs, labels in valid_loader: #validation data\n",
    "\n",
    "            if len(inputs) != batch_size:\n",
    "                  continue\n",
    "            val_h = tuple([each.data for each in val_h]) #separate variable for hidden state\n",
    "\n",
    "            inputs, labels = inputs.to(device), labels.to(device) #checking if gpu or not\n",
    "\n",
    "            output, val_h = model(inputs, val_h) #forward pass\n",
    "            val_loss = criterion(output.squeeze(), labels.float()) # loss\n",
    "\n",
    "            val_losses.append(val_loss.item()) #appending loss\n",
    "            \n",
    "            accuracy = acc(output,labels)\n",
    "            val_acc += accuracy\n",
    "            \n",
    "    epoch_train_loss = np.mean(train_losses)  #mean of the loss for calculating epoch loss\n",
    "    epoch_val_loss = np.mean(val_losses) #same for validation loss\n",
    "    epoch_train_acc = train_acc / (len(train_loader.dataset) // batch_size * batch_size) #acc for epoch\n",
    "    epoch_val_acc = val_acc / (len(train_loader.dataset) // batch_size * batch_size) #vali acc for epoch\n",
    "    epoch_tr_loss.append(epoch_train_loss)\n",
    "    epoch_vl_loss.append(epoch_val_loss)\n",
    "    epoch_tr_acc.append(epoch_train_acc)\n",
    "    epoch_vl_acc.append(epoch_val_acc)\n",
    "    print(f'Epoch {epoch+1}') \n",
    "    print(f'train_loss : {epoch_train_loss} val_loss : {epoch_val_loss}')\n",
    "    print(f'train_accuracy : {epoch_train_acc*100} val_accuracy : {epoch_val_acc*100}')\n",
    "    if epoch_val_loss <= valid_loss_min:\n",
    "        torch.save(model.state_dict(), '/content/drive/MyDrive/NLP/models/df.pt') #saving the model in dictionary in .pt format\n",
    "        print('Validation loss decreased ({:.6f} --> {:.6f}).  Saving model ...'.format(valid_loss_min,epoch_val_loss))\n",
    "        valid_loss_min = epoch_val_loss\n",
    "    print(25*'==') #for epoch ending symbol\n",
    " "
   ]
  },
  {
   "cell_type": "code",
   "execution_count": null,
   "metadata": {
    "id": "RLNrLIhOFyfd"
   },
   "outputs": [],
   "source": [
    "fig = plt.figure(figsize = (20, 6))\n",
    "plt.subplot(1, 2, 1)\n",
    "plt.plot(epoch_tr_acc, label='Train Acc') #training list\n",
    "plt.plot(epoch_vl_acc, label='Validation Acc') #validation list\n",
    "plt.title(\"Accuracy\")\n",
    "plt.legend() \n",
    "plt.subplot(1, 2, 2)\n",
    "plt.plot(epoch_tr_loss, label='Train loss') #training loss\n",
    "plt.plot(epoch_vl_loss, label='Validation loss') #validation loss\n",
    "plt.title(\"Loss\")\n",
    "plt.legend()\n",
    "plt.grid() #grid \n",
    "plt.show() #showing the plots"
   ]
  },
  {
   "cell_type": "code",
   "execution_count": null,
   "metadata": {
    "id": "NPszUqYEFyua"
   },
   "outputs": [],
   "source": [
    "def predict_text(text):\n",
    "        word_seq = np.array([vocab[preprocess_string(word)] for word in text.split() \n",
    "                         if preprocess_string(word) in vocab.keys()]) #preprocess data\n",
    "        word_seq = np.expand_dims(word_seq,axis=0) #expanding the dimensions for lstm\n",
    "        pad =  torch.from_numpy(padding_(word_seq,500)) #padding the sequences\n",
    "        inputs = pad.to(device) #checking if gpu or not\n",
    "        batch_size = 1 #batch size 1 for 1 input at 1 time\n",
    "        h = model.init_hidden(batch_size) #initializing the hidden state\n",
    "        h = tuple([each.data for each in h]) # hidden state variable\n",
    "        output, h = model(inputs, h) #forward pass through the model\n",
    "        return(output.item()) #returning the output from sigm"
   ]
  },
  {
   "cell_type": "code",
   "execution_count": null,
   "metadata": {
    "colab": {
     "base_uri": "https://localhost:8080/",
     "height": 419
    },
    "id": "xDe-g9wGtNIF",
    "outputId": "34d9c1bd-0f49-4161-eb74-0253ec9d295d"
   },
   "outputs": [
    {
     "data": {
      "text/html": [
       "<div>\n",
       "<style scoped>\n",
       "    .dataframe tbody tr th:only-of-type {\n",
       "        vertical-align: middle;\n",
       "    }\n",
       "\n",
       "    .dataframe tbody tr th {\n",
       "        vertical-align: top;\n",
       "    }\n",
       "\n",
       "    .dataframe thead th {\n",
       "        text-align: right;\n",
       "    }\n",
       "</style>\n",
       "<table border=\"1\" class=\"dataframe\">\n",
       "  <thead>\n",
       "    <tr style=\"text-align: right;\">\n",
       "      <th></th>\n",
       "      <th>news</th>\n",
       "      <th>target</th>\n",
       "    </tr>\n",
       "  </thead>\n",
       "  <tbody>\n",
       "    <tr>\n",
       "      <th>16101</th>\n",
       "      <td>rt top blockchain project buy hodl tomo tomoch...</td>\n",
       "      <td>1</td>\n",
       "    </tr>\n",
       "    <tr>\n",
       "      <th>4934</th>\n",
       "      <td>VNG allied hard Friday w volume.If it clears b...</td>\n",
       "      <td>1</td>\n",
       "    </tr>\n",
       "    <tr>\n",
       "      <th>5025</th>\n",
       "      <td>Retail sales fell 8.7% in March, the biggest m...</td>\n",
       "      <td>0</td>\n",
       "    </tr>\n",
       "    <tr>\n",
       "      <th>17276</th>\n",
       "      <td>rt invest incom want steadi good reason feel p...</td>\n",
       "      <td>1</td>\n",
       "    </tr>\n",
       "    <tr>\n",
       "      <th>2799</th>\n",
       "      <td>CAT Gap fill area approaching. Will be filled ...</td>\n",
       "      <td>0</td>\n",
       "    </tr>\n",
       "    <tr>\n",
       "      <th>...</th>\n",
       "      <td>...</td>\n",
       "      <td>...</td>\n",
       "    </tr>\n",
       "    <tr>\n",
       "      <th>316</th>\n",
       "      <td>WETF cheap financial stock that is trying to b...</td>\n",
       "      <td>1</td>\n",
       "    </tr>\n",
       "    <tr>\n",
       "      <th>5630</th>\n",
       "      <td>rt buck trump health insur expand obamacar foo...</td>\n",
       "      <td>1</td>\n",
       "    </tr>\n",
       "    <tr>\n",
       "      <th>1030</th>\n",
       "      <td>stericycl inc srcl given consensu recommend ho...</td>\n",
       "      <td>1</td>\n",
       "    </tr>\n",
       "    <tr>\n",
       "      <th>21808</th>\n",
       "      <td>credit suiss group reiter price target motorol...</td>\n",
       "      <td>1</td>\n",
       "    </tr>\n",
       "    <tr>\n",
       "      <th>17514</th>\n",
       "      <td>qualcomm inc qcom expect post earn per share</td>\n",
       "      <td>1</td>\n",
       "    </tr>\n",
       "  </tbody>\n",
       "</table>\n",
       "<p>12056 rows × 2 columns</p>\n",
       "</div>"
      ],
      "text/plain": [
       "                                                    news  target\n",
       "16101  rt top blockchain project buy hodl tomo tomoch...       1\n",
       "4934   VNG allied hard Friday w volume.If it clears b...       1\n",
       "5025   Retail sales fell 8.7% in March, the biggest m...       0\n",
       "17276  rt invest incom want steadi good reason feel p...       1\n",
       "2799   CAT Gap fill area approaching. Will be filled ...       0\n",
       "...                                                  ...     ...\n",
       "316    WETF cheap financial stock that is trying to b...       1\n",
       "5630   rt buck trump health insur expand obamacar foo...       1\n",
       "1030   stericycl inc srcl given consensu recommend ho...       1\n",
       "21808  credit suiss group reiter price target motorol...       1\n",
       "17514       qualcomm inc qcom expect post earn per share       1\n",
       "\n",
       "[12056 rows x 2 columns]"
      ]
     },
     "execution_count": 45,
     "metadata": {
      "tags": []
     },
     "output_type": "execute_result"
    }
   ],
   "source": [
    "df"
   ]
  },
  {
   "cell_type": "code",
   "execution_count": null,
   "metadata": {
    "colab": {
     "base_uri": "https://localhost:8080/"
    },
    "id": "OaqAyN-aFzIg",
    "outputId": "ae9b87f6-1ad9-4b61-b2a2-07aca5395b6b"
   },
   "outputs": [
    {
     "name": "stdout",
     "output_type": "stream",
     "text": [
      "There’s going to be a new global giant in the payments business. Fidelity National Information Services      (ticker: FIS) said Monday that it had agreed to buy          Worldpay      (ticker: WP) for $34 billion in stock for a record international payments deal. FIS, which provides bank-office, credit-card processing and ATM services to banks, is a relatively small player in the payments business while Worldpay is a leader in that space, processing more than 40 billion transactions a year.The two companies said in a statement that they will focus on the “high-growth e-commerce” services. Shares of FIS are down almost 2% so far in trading Monday, while Worldpay stock surged about 9%There’s been a surge in mergers and acquisitions recently in the payments space. In January            Fiserv      agreed to buy          First Data      (FDC) for $22 billion.            PayPal Holdings      (PYPL) acquired iZettle for $2.2 billion last May, and private-equity firms have bought European firms Nets and Paysafe Group. The consolidation in the industry is largely the result of companies looking to gain pricing power by increasing market share, upgrading technology, and cutting costs. A rising global tide of electronic payments, particularly from online shopping, has lifted of companies such as PayPal over the last several years. It has also increased the premium for startups that have shown that they can add either tech know-how or customers to established companies. FIS’ acquisition of Worldpay “creates a powerhouse payments company and transforms FIS into a faster growing entity,” Cowen analyst George Mihalos wrote in a note to clients. The deal, he believes, “will accelerate total company growth meaningfully.” He rates FIS at Outperform with a $119 price target. Write to Ben Walsh at ben.walsh@barrons.comThere’s going to be a new global giant in the payments business.An error has occurred, please try again later.Thank youThis article has been sent toCopyright ©2020 Dow Jones & Company, Inc. All Rights Reserved Busy bees. Deals, upgrades and news from General Motors and Boeing are driving stocks Monday morning. Asian equities rose Sunday night and European shares are mixed. In the U.S., Boeing continues to weigh on        Dow Jones Industrial Average      futures. Dow futures are down 0.1%, but        S&P 500      futures are up 0.1%.        Nasdaq      have risen 0.1% as well. In today’s Morning Movers, we... Numbers By Barron’s is a two-minute financial podcast with three vital numbers to start your morning. Available on iTunes, Apple Podcast, Stitcher, and wherever you get your podcasts—as well as on your Amazon Alexa smart speaker  Write to Al Root at allen.root@dowjones.com Busy bees.An error has occurred, please try again later.Thank youThis article has been sent toCopyright ©2020 Dow Jones & Company, Inc. All Rights Reserved\n",
      "================================================================================\n",
      "Actuall Sentiment is  0\n",
      "Predicted Sentiment is  positive  with a probability of  0.9862500429153442\n"
     ]
    }
   ],
   "source": [
    "import random\n",
    "index = random.randint(0,len(df))\n",
    "print(df['news'][index])\n",
    "print(80*'=')\n",
    "print(\"Actuall Sentiment is \", df['target'][index])\n",
    "pro = predict_text(df['news'][index])\n",
    "sent = 'positive' if pro >=0.5 else 'negative'\n",
    "print(\"Predicted Sentiment is \", sent, \" with a probability of \", pro) "
   ]
  },
  {
   "cell_type": "code",
   "execution_count": null,
   "metadata": {
    "id": "d4sXvE8tFhhu"
   },
   "outputs": [],
   "source": [
    "import pandas as pd\n",
    "import numpy as np\n",
    "import re\n",
    "import nltk\n",
    "from nltk.corpus import stopwords\n",
    "\n",
    "from numpy import array\n",
    "from keras.preprocessing.text import one_hot\n",
    "from keras.preprocessing.sequence import pad_sequences\n",
    "from keras.models import Sequential\n",
    "from keras.layers.core import Activation, Dropout, Dense\n",
    "from keras.layers import Flatten\n",
    "from keras.layers import GlobalMaxPooling1D\n",
    "from keras.layers.embeddings import Embedding\n",
    "from sklearn.model_selection import train_test_split\n",
    "from keras.preprocessing.text import Tokenizer"
   ]
  },
  {
   "cell_type": "code",
   "execution_count": null,
   "metadata": {
    "colab": {
     "base_uri": "https://localhost:8080/"
    },
    "id": "rlut6GSdFocJ",
    "outputId": "bd66de1c-3d72-4b45-b0c9-8223abd25fee"
   },
   "outputs": [
    {
     "data": {
      "text/plain": [
       "(20431, 3)"
      ]
     },
     "execution_count": 4,
     "metadata": {
      "tags": []
     },
     "output_type": "execute_result"
    }
   ],
   "source": [
    "movie_reviews = pd.read_csv(path + \"data/all_dfs.csv\")\n",
    "\n",
    "movie_reviews.isnull().values.any()\n",
    "\n",
    "movie_reviews.shape"
   ]
  },
  {
   "cell_type": "code",
   "execution_count": null,
   "metadata": {
    "colab": {
     "base_uri": "https://localhost:8080/",
     "height": 194
    },
    "id": "opjqwzIUFuwh",
    "outputId": "c0c04499-5086-4aa6-851a-9bbb809a4fae"
   },
   "outputs": [
    {
     "data": {
      "text/html": [
       "<div>\n",
       "<style scoped>\n",
       "    .dataframe tbody tr th:only-of-type {\n",
       "        vertical-align: middle;\n",
       "    }\n",
       "\n",
       "    .dataframe tbody tr th {\n",
       "        vertical-align: top;\n",
       "    }\n",
       "\n",
       "    .dataframe thead th {\n",
       "        text-align: right;\n",
       "    }\n",
       "</style>\n",
       "<table border=\"1\" class=\"dataframe\">\n",
       "  <thead>\n",
       "    <tr style=\"text-align: right;\">\n",
       "      <th></th>\n",
       "      <th>Unnamed: 0</th>\n",
       "      <th>news</th>\n",
       "      <th>target</th>\n",
       "    </tr>\n",
       "  </thead>\n",
       "  <tbody>\n",
       "    <tr>\n",
       "      <th>0</th>\n",
       "      <td>0</td>\n",
       "      <td>The international electronic industry company ...</td>\n",
       "      <td>0</td>\n",
       "    </tr>\n",
       "    <tr>\n",
       "      <th>1</th>\n",
       "      <td>1</td>\n",
       "      <td>With the new production plant the company woul...</td>\n",
       "      <td>1</td>\n",
       "    </tr>\n",
       "    <tr>\n",
       "      <th>2</th>\n",
       "      <td>2</td>\n",
       "      <td>According to the company 's updated strategy f...</td>\n",
       "      <td>1</td>\n",
       "    </tr>\n",
       "    <tr>\n",
       "      <th>3</th>\n",
       "      <td>3</td>\n",
       "      <td>FINANCING OF ASPOCOMP 'S GROWTH Aspocomp is ag...</td>\n",
       "      <td>1</td>\n",
       "    </tr>\n",
       "    <tr>\n",
       "      <th>4</th>\n",
       "      <td>4</td>\n",
       "      <td>For the last quarter of 2010 , Componenta 's n...</td>\n",
       "      <td>1</td>\n",
       "    </tr>\n",
       "  </tbody>\n",
       "</table>\n",
       "</div>"
      ],
      "text/plain": [
       "   Unnamed: 0                                               news  target\n",
       "0           0  The international electronic industry company ...       0\n",
       "1           1  With the new production plant the company woul...       1\n",
       "2           2  According to the company 's updated strategy f...       1\n",
       "3           3  FINANCING OF ASPOCOMP 'S GROWTH Aspocomp is ag...       1\n",
       "4           4  For the last quarter of 2010 , Componenta 's n...       1"
      ]
     },
     "execution_count": 5,
     "metadata": {
      "tags": []
     },
     "output_type": "execute_result"
    }
   ],
   "source": [
    "movie_reviews.head()"
   ]
  },
  {
   "cell_type": "code",
   "execution_count": null,
   "metadata": {
    "colab": {
     "base_uri": "https://localhost:8080/",
     "height": 297
    },
    "id": "adn__XZBFvSo",
    "outputId": "6f0d89da-5dd2-44c1-d167-7ede3e3b74ba"
   },
   "outputs": [
    {
     "data": {
      "text/plain": [
       "<matplotlib.axes._subplots.AxesSubplot at 0x7f6c2ee0b910>"
      ]
     },
     "execution_count": 6,
     "metadata": {
      "tags": []
     },
     "output_type": "execute_result"
    },
    {
     "data": {
      "image/png": "[encoded data removed]",
      "text/plain": [
       "<Figure size 432x288 with 1 Axes>"
      ]
     },
     "metadata": {
      "tags": []
     },
     "output_type": "display_data"
    }
   ],
   "source": [
    "import seaborn as sns\n",
    "\n",
    "sns.countplot(x='target', data=movie_reviews)"
   ]
  },
  {
   "cell_type": "code",
   "execution_count": null,
   "metadata": {
    "id": "aa92jA63FzdD"
   },
   "outputs": [],
   "source": [
    "def preprocess_text(sen):\n",
    "    # Removing html tags\n",
    "    sentence = remove_tags(sen)\n",
    "\n",
    "    # Remove punctuations and numbers\n",
    "    sentence = re.sub('[^a-zA-Z]', ' ', sentence)\n",
    "\n",
    "    # Single character removal\n",
    "    sentence = re.sub(r\"\\s+[a-zA-Z]\\s+\", ' ', sentence)\n",
    "\n",
    "    # Removing multiple spaces\n",
    "    sentence = re.sub(r'\\s+', ' ', sentence)\n",
    "\n",
    "    return sentence"
   ]
  },
  {
   "cell_type": "code",
   "execution_count": null,
   "metadata": {
    "id": "R-uTj_PPF3oq"
   },
   "outputs": [],
   "source": [
    "TAG_RE = re.compile(r'<[^>]+>')\n",
    "\n",
    "def remove_tags(text):\n",
    "    return TAG_RE.sub('', text)"
   ]
  },
  {
   "cell_type": "code",
   "execution_count": null,
   "metadata": {
    "id": "DFSTmqlRF501"
   },
   "outputs": [],
   "source": [
    "X = []\n",
    "sentences = list(movie_reviews['news'])\n",
    "for sen in sentences:\n",
    "    X.append(preprocess_text(sen))"
   ]
  },
  {
   "cell_type": "code",
   "execution_count": null,
   "metadata": {
    "id": "BvIynl1RF8Xw"
   },
   "outputs": [],
   "source": [
    "y = movie_reviews['target']\n",
    "\n",
    "y = np.array(list(map(lambda x: 1 if x==\"1\" else 0, y)))"
   ]
  },
  {
   "cell_type": "code",
   "execution_count": null,
   "metadata": {
    "id": "_wet0p1yF_IB"
   },
   "outputs": [],
   "source": [
    "X_train, X_test, y_train, y_test = train_test_split(X, y, test_size=0.20, random_state=42)"
   ]
  },
  {
   "cell_type": "code",
   "execution_count": null,
   "metadata": {
    "id": "5I6KXT6aGBji"
   },
   "outputs": [],
   "source": [
    "tokenizer = Tokenizer(num_words=5000)\n",
    "tokenizer.fit_on_texts(X_train)\n",
    "\n",
    "X_train = tokenizer.texts_to_sequences(X_train)\n",
    "X_test = tokenizer.texts_to_sequences(X_test)"
   ]
  },
  {
   "cell_type": "code",
   "execution_count": null,
   "metadata": {
    "id": "dY5W2Ft5GDYq"
   },
   "outputs": [],
   "source": [
    "vocab_size = len(tokenizer.word_index) + 1\n",
    "\n",
    "maxlen = 100\n",
    "\n",
    "X_train = pad_sequences(X_train, padding='post', maxlen=maxlen)\n",
    "X_test = pad_sequences(X_test, padding='post', maxlen=maxlen)"
   ]
  },
  {
   "cell_type": "code",
   "execution_count": null,
   "metadata": {
    "colab": {
     "base_uri": "https://localhost:8080/"
    },
    "id": "g58vDmfUQ-bl",
    "outputId": "e94cac33-4bf1-447e-c11d-83525acd99e1"
   },
   "outputs": [
    {
     "name": "stdout",
     "output_type": "stream",
     "text": [
      "--2021-05-13 17:57:07--  http://nlp.stanford.edu/data/glove.6B.zip\n",
      "Resolving nlp.stanford.edu (nlp.stanford.edu)... 171.64.67.140\n",
      "Connecting to nlp.stanford.edu (nlp.stanford.edu)|171.64.67.140|:80... connected.\n",
      "HTTP request sent, awaiting response... 302 Found\n",
      "Location: https://nlp.stanford.edu/data/glove.6B.zip [following]\n",
      "--2021-05-13 17:57:07--  https://nlp.stanford.edu/data/glove.6B.zip\n",
      "Connecting to nlp.stanford.edu (nlp.stanford.edu)|171.64.67.140|:443... connected.\n",
      "HTTP request sent, awaiting response... 301 Moved Permanently\n",
      "Location: http://downloads.cs.stanford.edu/nlp/data/glove.6B.zip [following]\n",
      "--2021-05-13 17:57:08--  http://downloads.cs.stanford.edu/nlp/data/glove.6B.zip\n",
      "Resolving downloads.cs.stanford.edu (downloads.cs.stanford.edu)... 171.64.64.22\n",
      "Connecting to downloads.cs.stanford.edu (downloads.cs.stanford.edu)|171.64.64.22|:80... connected.\n",
      "HTTP request sent, awaiting response... 200 OK\n",
      "Length: 862182613 (822M) [application/zip]\n",
      "Saving to: ‘glove.6B.zip’\n",
      "\n",
      "glove.6B.zip        100%[===================>] 822.24M  5.15MB/s    in 2m 41s  \n",
      "\n",
      "2021-05-13 17:59:48 (5.12 MB/s) - ‘glove.6B.zip’ saved [862182613/862182613]\n",
      "\n"
     ]
    }
   ],
   "source": [
    "!wget http://nlp.stanford.edu/data/glove.6B.zip"
   ]
  },
  {
   "cell_type": "code",
   "execution_count": null,
   "metadata": {
    "colab": {
     "base_uri": "https://localhost:8080/"
    },
    "id": "EkNynpHQRnZR",
    "outputId": "cbd1ba33-dd70-4719-c409-5516d57ea230"
   },
   "outputs": [
    {
     "name": "stdout",
     "output_type": "stream",
     "text": [
      "Archive:  glove.6B.zip\n",
      "  inflating: glove.6B.50d.txt        \n",
      "  inflating: glove.6B.100d.txt       \n",
      "  inflating: glove.6B.200d.txt       \n",
      "  inflating: glove.6B.300d.txt       \n"
     ]
    }
   ],
   "source": [
    "!unzip glove*.zip"
   ]
  },
  {
   "cell_type": "code",
   "execution_count": null,
   "metadata": {
    "colab": {
     "base_uri": "https://localhost:8080/"
    },
    "id": "ThW3eZauGG8l",
    "outputId": "dcccf8f7-4c93-4478-ddb8-216b3fd2c16b"
   },
   "outputs": [
    {
     "name": "stdout",
     "output_type": "stream",
     "text": [
      "24636\n"
     ]
    }
   ],
   "source": [
    "from numpy import array\n",
    "from numpy import asarray\n",
    "from numpy import zeros\n",
    "\n",
    "embeddings_dictionary = dict()\n",
    "glove_file = \"glove.6B.100d.txt\"\n",
    "\n",
    "for line in glove_file:\n",
    "    records = line.split()\n",
    "    word = records[0]\n",
    "    vector_dimensions = asarray(records[1:], dtype='float32')\n",
    "    embeddings_dictionary[word] = vector_dimensions\n",
    "print(vocab_size)"
   ]
  },
  {
   "cell_type": "code",
   "execution_count": null,
   "metadata": {
    "colab": {
     "base_uri": "https://localhost:8080/",
     "height": 221
    },
    "id": "H7qwfWkuGRYT",
    "outputId": "193f5496-aa30-4d5e-bf14-c9c7feef6adc"
   },
   "outputs": [],
   "source": [
    "embedding_matrix = zeros((vocab_size, 100))\n",
    "\n",
    "for word, index in tokenizer.word_index.items():\n",
    "    #print(word, index)\n",
    "    embedding_vector = embeddings_dictionary.get(word)\n",
    "    #print(embedding_vector)\n",
    "    if embedding_vector is not None:\n",
    "        print(embedding_vector)\n",
    "        embedding_matrix[index] = embedding_vector"
   ]
  },
  {
   "cell_type": "code",
   "execution_count": null,
   "metadata": {
    "colab": {
     "base_uri": "https://localhost:8080/"
    },
    "id": "jlQKD458btiF",
    "outputId": "64c5179d-ba93-4f0a-a978-aac742183fcf"
   },
   "outputs": [
    {
     "data": {
      "text/plain": [
       "{'.': array([], dtype=float32),\n",
       " '0': array([], dtype=float32),\n",
       " '1': array([], dtype=float32),\n",
       " '6': array([], dtype=float32),\n",
       " 'B': array([], dtype=float32),\n",
       " 'd': array([], dtype=float32),\n",
       " 'e': array([], dtype=float32),\n",
       " 'g': array([], dtype=float32),\n",
       " 'l': array([], dtype=float32),\n",
       " 'o': array([], dtype=float32),\n",
       " 't': array([], dtype=float32),\n",
       " 'v': array([], dtype=float32),\n",
       " 'x': array([], dtype=float32)}"
      ]
     },
     "execution_count": 204,
     "metadata": {
      "tags": []
     },
     "output_type": "execute_result"
    }
   ],
   "source": [
    "embeddings_dictionary"
   ]
  },
  {
   "cell_type": "code",
   "execution_count": null,
   "metadata": {
    "id": "q_M1mLJ3GR6P"
   },
   "outputs": [],
   "source": [
    "model = Sequential()\n",
    "embedding_layer = Embedding(vocab_size, 100, weights=[embedding_matrix], input_length=maxlen , trainable=False)\n",
    "model.add(embedding_layer)\n",
    "\n",
    "model.add(Flatten())\n",
    "model.add(Dense(1, activation='sigmoid'))"
   ]
  },
  {
   "cell_type": "code",
   "execution_count": null,
   "metadata": {
    "id": "cc_9utGfGT5F"
   },
   "outputs": [],
   "source": [
    "model.compile(optimizer='adam', loss='binary_crossentropy', metrics=['acc'])\n",
    "\n",
    "print(model.summary())"
   ]
  },
  {
   "cell_type": "code",
   "execution_count": null,
   "metadata": {
    "id": "Ca5l6U8VV_JT"
   },
   "outputs": [],
   "source": [
    "history = model.fit(X_train, y_train, batch_size=128, epochs=6, verbose=1, validation_split=0.2)"
   ]
  },
  {
   "cell_type": "code",
   "execution_count": null,
   "metadata": {
    "id": "bX8wEoe7WIVz"
   },
   "outputs": [],
   "source": [
    "score = model.evaluate(X_test, y_test, verbose=1)"
   ]
  },
  {
   "cell_type": "code",
   "execution_count": null,
   "metadata": {
    "colab": {
     "base_uri": "https://localhost:8080/"
    },
    "id": "LB9JbWBjGWIV",
    "outputId": "0d1a2f50-1d07-40bd-890e-f80515d97bf0"
   },
   "outputs": [
    {
     "name": "stdout",
     "output_type": "stream",
     "text": [
      "Test Score: 0.4466473460197449\n",
      "Test Accuracy: 1.0\n"
     ]
    }
   ],
   "source": [
    "print(\"Test Score:\", score[0])\n",
    "print(\"Test Accuracy:\", score[1])"
   ]
  },
  {
   "cell_type": "code",
   "execution_count": null,
   "metadata": {
    "colab": {
     "base_uri": "https://localhost:8080/",
     "height": 573
    },
    "id": "W009eOfzWQQr",
    "outputId": "95597878-8657-4bd3-c4c6-62057df5b717"
   },
   "outputs": [
    {
     "data": {
      "image/png": "[encoded data removed]",
      "text/plain": [
       "<Figure size 432x288 with 1 Axes>"
      ]
     },
     "metadata": {
      "tags": []
     },
     "output_type": "display_data"
    },
    {
     "data": {
      "image/png": "[encoded data removed]",
      "text/plain": [
       "<Figure size 432x288 with 1 Axes>"
      ]
     },
     "metadata": {
      "tags": []
     },
     "output_type": "display_data"
    }
   ],
   "source": [
    "plt.title('model accuracy')\n",
    "plt.ylabel('accuracy')\n",
    "plt.xlabel('epoch')\n",
    "plt.legend(['train','test'], loc='upper left')\n",
    "plt.show()\n",
    "\n",
    "plt.plot(history.history['loss'])\n",
    "plt.plot(history.history['val_loss'])\n",
    "\n",
    "plt.title('model loss')\n",
    "plt.ylabel('loss')\n",
    "plt.xlabel('epoch')\n",
    "plt.legend(['train','test'], loc='upper left')\n",
    "plt.show()"
   ]
  },
  {
   "cell_type": "code",
   "execution_count": null,
   "metadata": {
    "id": "H357BwqmWZP9"
   },
   "outputs": [],
   "source": [
    "from keras.layers.convolutional import Conv1D\n",
    "model = Sequential()\n",
    "\n",
    "embedding_layer = Embedding(vocab_size, 100, weights=[embedding_matrix], input_length=maxlen , trainable=False)\n",
    "model.add(embedding_layer)\n",
    "\n",
    "model.add(Conv1D(128, 5, activation='relu'))\n",
    "model.add(GlobalMaxPooling1D())\n",
    "model.add(Dense(1, activation='sigmoid'))\n",
    "model.compile(optimizer='adam', loss='binary_crossentropy', metrics=['acc'])"
   ]
  },
  {
   "cell_type": "code",
   "execution_count": null,
   "metadata": {
    "colab": {
     "base_uri": "https://localhost:8080/"
    },
    "id": "5wvnW64kYCGx",
    "outputId": "f852cf6b-19a2-423d-ca69-2d9f19117f59"
   },
   "outputs": [
    {
     "name": "stdout",
     "output_type": "stream",
     "text": [
      "Model: \"sequential_12\"\n",
      "_________________________________________________________________\n",
      "Layer (type)                 Output Shape              Param #   \n",
      "=================================================================\n",
      "embedding_12 (Embedding)     (None, 100, 100)          2463600   \n",
      "_________________________________________________________________\n",
      "conv1d_2 (Conv1D)            (None, 96, 128)           64128     \n",
      "_________________________________________________________________\n",
      "global_max_pooling1d_2 (Glob (None, 128)               0         \n",
      "_________________________________________________________________\n",
      "dense_6 (Dense)              (None, 1)                 129       \n",
      "=================================================================\n",
      "Total params: 2,527,857\n",
      "Trainable params: 64,257\n",
      "Non-trainable params: 2,463,600\n",
      "_________________________________________________________________\n",
      "None\n"
     ]
    }
   ],
   "source": [
    "print(model.summary())"
   ]
  },
  {
   "cell_type": "code",
   "execution_count": null,
   "metadata": {
    "colab": {
     "base_uri": "https://localhost:8080/"
    },
    "id": "j2HTDkTlYPAs",
    "outputId": "fd282113-00fd-41d8-9292-dbab3135df08"
   },
   "outputs": [
    {
     "name": "stdout",
     "output_type": "stream",
     "text": [
      "Epoch 1/6\n",
      "103/103 [==============================] - 1s 8ms/step - loss: 0.6805 - acc: 1.0000 - val_loss: 0.6434 - val_acc: 1.0000\n",
      "Epoch 2/6\n",
      "103/103 [==============================] - 1s 6ms/step - loss: 0.6317 - acc: 1.0000 - val_loss: 0.5974 - val_acc: 1.0000\n",
      "Epoch 3/6\n",
      "103/103 [==============================] - 1s 6ms/step - loss: 0.5866 - acc: 1.0000 - val_loss: 0.5550 - val_acc: 1.0000\n",
      "Epoch 4/6\n",
      "103/103 [==============================] - 1s 5ms/step - loss: 0.5450 - acc: 1.0000 - val_loss: 0.5159 - val_acc: 1.0000\n",
      "Epoch 5/6\n",
      "103/103 [==============================] - 1s 5ms/step - loss: 0.5067 - acc: 1.0000 - val_loss: 0.4798 - val_acc: 1.0000\n",
      "Epoch 6/6\n",
      "103/103 [==============================] - 1s 6ms/step - loss: 0.4713 - acc: 1.0000 - val_loss: 0.4466 - val_acc: 1.0000\n",
      "128/128 [==============================] - 0s 2ms/step - loss: 0.4466 - acc: 1.0000\n"
     ]
    }
   ],
   "source": [
    "history = model.fit(X_train, y_train, batch_size=128, epochs=6, verbose=1, validation_split=0.2)\n",
    "\n",
    "score = model.evaluate(X_test, y_test, verbose=1)"
   ]
  },
  {
   "cell_type": "code",
   "execution_count": null,
   "metadata": {
    "colab": {
     "base_uri": "https://localhost:8080/"
    },
    "id": "OrExoxqLYcYP",
    "outputId": "6263a645-1bdc-41c4-e48b-af0d6c0a4397"
   },
   "outputs": [
    {
     "name": "stdout",
     "output_type": "stream",
     "text": [
      "Test Score: 0.4466473460197449\n",
      "Test Accuracy: 1.0\n"
     ]
    }
   ],
   "source": [
    "print(\"Test Score:\", score[0])\n",
    "print(\"Test Accuracy:\", score[1])"
   ]
  },
  {
   "cell_type": "code",
   "execution_count": null,
   "metadata": {
    "colab": {
     "base_uri": "https://localhost:8080/",
     "height": 573
    },
    "id": "2yjjhQW8YhOc",
    "outputId": "f566dc3c-5d44-4054-b9db-113adb960142"
   },
   "outputs": [
    {
     "data": {
      "image/png": "[encoded data removed]",
      "text/plain": [
       "<Figure size 432x288 with 1 Axes>"
      ]
     },
     "metadata": {
      "tags": []
     },
     "output_type": "display_data"
    },
    {
     "data": {
      "image/png": "[encoded data removed]",
      "text/plain": [
       "<Figure size 432x288 with 1 Axes>"
      ]
     },
     "metadata": {
      "tags": []
     },
     "output_type": "display_data"
    }
   ],
   "source": [
    "import matplotlib.pyplot as plt\n",
    "\n",
    "plt.plot(history.history['acc'])\n",
    "plt.plot(history.history['val_acc'])\n",
    "\n",
    "plt.title('model accuracy')\n",
    "plt.ylabel('accuracy')\n",
    "plt.xlabel('epoch')\n",
    "plt.legend(['train','test'], loc = 'upper left')\n",
    "plt.show()\n",
    "\n",
    "plt.plot(history.history['loss'])\n",
    "plt.plot(history.history['val_loss'])\n",
    "\n",
    "plt.title('model loss')\n",
    "plt.ylabel('loss')\n",
    "plt.xlabel('epoch')\n",
    "plt.legend(['train','test'], loc = 'upper left')\n",
    "plt.show()"
   ]
  },
  {
   "cell_type": "code",
   "execution_count": null,
   "metadata": {
    "id": "TU4OK9tvAkY9"
   },
   "outputs": [],
   "source": [
    "from tensorflow.keras.preprocessing.text import Tokenizer\n",
    "from tensorflow.keras.preprocessing.sequence import pad_sequences\n",
    "\n",
    "from tensorflow.keras.models import Sequential\n",
    "from tensorflow.keras.layers import LSTM \n",
    "from tensorflow.keras.layers import Dense\n",
    "from tensorflow.keras.layers import Dropout\n",
    "from tensorflow.keras.layers import SpatialDropout1D\n",
    "from tensorflow.keras.layers import Embedding\n",
    "from tensorflow.keras.layers import Conv1D"
   ]
  },
  {
   "cell_type": "code",
   "execution_count": null,
   "metadata": {
    "id": "cDNK2jv_fCl2"
   },
   "outputs": [],
   "source": [
    "df = pd.read_csv(path + \"data/all_dfs.csv\")"
   ]
  },
  {
   "cell_type": "code",
   "execution_count": null,
   "metadata": {
    "colab": {
     "base_uri": "https://localhost:8080/",
     "height": 340
    },
    "id": "tmS_82PyijqL",
    "outputId": "3ee15272-ec6a-42cb-ad31-dbec327627d7"
   },
   "outputs": [
    {
     "data": {
      "text/html": [
       "<div>\n",
       "<style scoped>\n",
       "    .dataframe tbody tr th:only-of-type {\n",
       "        vertical-align: middle;\n",
       "    }\n",
       "\n",
       "    .dataframe tbody tr th {\n",
       "        vertical-align: top;\n",
       "    }\n",
       "\n",
       "    .dataframe thead th {\n",
       "        text-align: right;\n",
       "    }\n",
       "</style>\n",
       "<table border=\"1\" class=\"dataframe\">\n",
       "  <thead>\n",
       "    <tr style=\"text-align: right;\">\n",
       "      <th></th>\n",
       "      <th>Unnamed: 0</th>\n",
       "      <th>news</th>\n",
       "      <th>target</th>\n",
       "    </tr>\n",
       "  </thead>\n",
       "  <tbody>\n",
       "    <tr>\n",
       "      <th>0</th>\n",
       "      <td>0</td>\n",
       "      <td>The international electronic industry company ...</td>\n",
       "      <td>0</td>\n",
       "    </tr>\n",
       "    <tr>\n",
       "      <th>1</th>\n",
       "      <td>1</td>\n",
       "      <td>With the new production plant the company woul...</td>\n",
       "      <td>1</td>\n",
       "    </tr>\n",
       "    <tr>\n",
       "      <th>2</th>\n",
       "      <td>2</td>\n",
       "      <td>According to the company 's updated strategy f...</td>\n",
       "      <td>1</td>\n",
       "    </tr>\n",
       "    <tr>\n",
       "      <th>3</th>\n",
       "      <td>3</td>\n",
       "      <td>FINANCING OF ASPOCOMP 'S GROWTH Aspocomp is ag...</td>\n",
       "      <td>1</td>\n",
       "    </tr>\n",
       "    <tr>\n",
       "      <th>4</th>\n",
       "      <td>4</td>\n",
       "      <td>For the last quarter of 2010 , Componenta 's n...</td>\n",
       "      <td>1</td>\n",
       "    </tr>\n",
       "    <tr>\n",
       "      <th>5</th>\n",
       "      <td>5</td>\n",
       "      <td>In the third quarter of 2010 , net sales incre...</td>\n",
       "      <td>1</td>\n",
       "    </tr>\n",
       "    <tr>\n",
       "      <th>6</th>\n",
       "      <td>6</td>\n",
       "      <td>Operating profit rose to EUR 13.1 mn from EUR ...</td>\n",
       "      <td>1</td>\n",
       "    </tr>\n",
       "    <tr>\n",
       "      <th>7</th>\n",
       "      <td>7</td>\n",
       "      <td>Operating profit totalled EUR 21.1 mn , up fro...</td>\n",
       "      <td>1</td>\n",
       "    </tr>\n",
       "    <tr>\n",
       "      <th>8</th>\n",
       "      <td>8</td>\n",
       "      <td>TeliaSonera TLSN said the offer is in line wit...</td>\n",
       "      <td>1</td>\n",
       "    </tr>\n",
       "    <tr>\n",
       "      <th>9</th>\n",
       "      <td>9</td>\n",
       "      <td>STORA ENSO , NORSKE SKOG , M-REAL , UPM-KYMMEN...</td>\n",
       "      <td>1</td>\n",
       "    </tr>\n",
       "  </tbody>\n",
       "</table>\n",
       "</div>"
      ],
      "text/plain": [
       "   Unnamed: 0                                               news  target\n",
       "0           0  The international electronic industry company ...       0\n",
       "1           1  With the new production plant the company woul...       1\n",
       "2           2  According to the company 's updated strategy f...       1\n",
       "3           3  FINANCING OF ASPOCOMP 'S GROWTH Aspocomp is ag...       1\n",
       "4           4  For the last quarter of 2010 , Componenta 's n...       1\n",
       "5           5  In the third quarter of 2010 , net sales incre...       1\n",
       "6           6  Operating profit rose to EUR 13.1 mn from EUR ...       1\n",
       "7           7  Operating profit totalled EUR 21.1 mn , up fro...       1\n",
       "8           8  TeliaSonera TLSN said the offer is in line wit...       1\n",
       "9           9  STORA ENSO , NORSKE SKOG , M-REAL , UPM-KYMMEN...       1"
      ]
     },
     "execution_count": 148,
     "metadata": {
      "tags": []
     },
     "output_type": "execute_result"
    }
   ],
   "source": [
    "df.head(10)"
   ]
  },
  {
   "cell_type": "code",
   "execution_count": null,
   "metadata": {
    "id": "aHmYYe6LAxzN"
   },
   "outputs": [],
   "source": [
    "X = df.news.values\n",
    "y = df.target.values\n",
    "\n",
    "X_train, X_test, y_train, y_test = train_test_split(X, y, test_size=0.20, random_state=42)"
   ]
  },
  {
   "cell_type": "code",
   "execution_count": null,
   "metadata": {
    "id": "JhSyx-faipPO"
   },
   "outputs": [],
   "source": [
    "#sentiment_label = df.target.factorize()\n",
    "\n",
    "tweet = X_train\n",
    "sentiment_label = y_train"
   ]
  },
  {
   "cell_type": "code",
   "execution_count": null,
   "metadata": {
    "colab": {
     "base_uri": "https://localhost:8080/"
    },
    "id": "qkihGt4Hi40E",
    "outputId": "d19ca3a5-25b1-481d-a653-f15b803d758d"
   },
   "outputs": [
    {
     "data": {
      "text/plain": [
       "array([0, 1, 0, ..., 1, 1, 1])"
      ]
     },
     "execution_count": 151,
     "metadata": {
      "tags": []
     },
     "output_type": "execute_result"
    }
   ],
   "source": [
    "sentiment_label"
   ]
  },
  {
   "cell_type": "code",
   "execution_count": null,
   "metadata": {
    "id": "YUkl8mdDi9m2"
   },
   "outputs": [],
   "source": [
    "#tweet = df.news.values\n",
    "\n",
    "tokenizer = Tokenizer(num_words=5000)\n",
    "tokenizer.fit_on_texts(tweet)\n",
    "\n",
    "vocab_size = len(tokenizer.word_index) + 1\n",
    "encoded_docs = tokenizer.texts_to_sequences(tweet)\n",
    "padded_sequence = pad_sequences(encoded_docs, maxlen=200)"
   ]
  },
  {
   "cell_type": "code",
   "execution_count": null,
   "metadata": {
    "id": "-VtdVKDLHErn"
   },
   "outputs": [],
   "source": [
    "#sentiment_label = df.target.factorize()\n",
    "\n",
    "tweet_test = X_test\n",
    "tw = tokenizer.texts_to_sequences(tweet_test)\n",
    "tw_test = pad_sequences(tw,maxlen=200)"
   ]
  },
  {
   "cell_type": "code",
   "execution_count": null,
   "metadata": {
    "colab": {
     "base_uri": "https://localhost:8080/"
    },
    "id": "s_ckHlMFjHgD",
    "outputId": "91500f6d-e9ed-4053-e432-6bed757d80a2"
   },
   "outputs": [
    {
     "name": "stdout",
     "output_type": "stream",
     "text": [
      "snap fight everi day bull day bear day money everyon\n",
      "[1407, 2114, 1094, 88, 763, 88, 1032, 88, 339, 3617]\n"
     ]
    }
   ],
   "source": [
    "print(tweet[0])\n",
    "print(encoded_docs[0])"
   ]
  },
  {
   "cell_type": "code",
   "execution_count": null,
   "metadata": {
    "colab": {
     "base_uri": "https://localhost:8080/"
    },
    "id": "faWbjHrwjRWp",
    "outputId": "7a602485-1f4a-42a6-c429-15886ea64497"
   },
   "outputs": [
    {
     "name": "stdout",
     "output_type": "stream",
     "text": [
      "[   0    0    0    0    0    0    0    0    0    0    0    0    0    0\n",
      "    0    0    0    0    0    0    0    0    0    0    0    0    0    0\n",
      "    0    0    0    0    0    0    0    0    0    0    0    0    0    0\n",
      "    0    0    0    0    0    0    0    0    0    0    0    0    0    0\n",
      "    0    0    0    0    0    0    0    0    0    0    0    0    0    0\n",
      "    0    0    0    0    0    0    0    0    0    0    0    0    0    0\n",
      "    0    0    0    0    0    0    0    0    0    0    0    0    0    0\n",
      "    0    0    0    0    0    0    0    0    0    0    0    0    0    0\n",
      "    0    0    0    0    0    0    0    0    0    0    0    0    0    0\n",
      "    0    0    0    0    0    0    0    0    0    0    0    0    0    0\n",
      "    0    0    0    0    0    0    0    0    0    0    0    0    0    0\n",
      "    0    0    0    0    0    0    0    0    0    0    0    0    0    0\n",
      "    0    0    0    0    0    0    0    0    0    0    0    0    0    0\n",
      "    0    0    0    0    0    0    0    0 1407 2114 1094   88  763   88\n",
      " 1032   88  339 3617]\n"
     ]
    }
   ],
   "source": [
    "print(padded_sequence[0])"
   ]
  },
  {
   "cell_type": "markdown",
   "metadata": {
    "id": "vmv54ugWLMkf"
   },
   "source": [
    "## LSTM"
   ]
  },
  {
   "cell_type": "code",
   "execution_count": null,
   "metadata": {
    "colab": {
     "base_uri": "https://localhost:8080/"
    },
    "id": "mXz7y7SLjV0_",
    "outputId": "3fa45b68-c1ac-4125-a159-2bad3391d3d9"
   },
   "outputs": [
    {
     "name": "stdout",
     "output_type": "stream",
     "text": [
      "WARNING:tensorflow:Layer lstm_6 will not use cuDNN kernel since it doesn't meet the cuDNN kernel criteria. It will use generic GPU kernel as fallback when running on GPU\n",
      "Model: \"sequential_16\"\n",
      "_________________________________________________________________\n",
      "Layer (type)                 Output Shape              Param #   \n",
      "=================================================================\n",
      "embedding_15 (Embedding)     (None, 200, 32)           922656    \n",
      "_________________________________________________________________\n",
      "spatial_dropout1d_8 (Spatial (None, 200, 32)           0         \n",
      "_________________________________________________________________\n",
      "lstm_6 (LSTM)                (None, 50)                16600     \n",
      "_________________________________________________________________\n",
      "dropout_8 (Dropout)          (None, 50)                0         \n",
      "_________________________________________________________________\n",
      "dense_13 (Dense)             (None, 1)                 51        \n",
      "=================================================================\n",
      "Total params: 939,307\n",
      "Trainable params: 939,307\n",
      "Non-trainable params: 0\n",
      "_________________________________________________________________\n",
      "None\n"
     ]
    }
   ],
   "source": [
    "embedding_vector_length = 32\n",
    "model = Sequential()\n",
    "model.add(Embedding(vocab_size, embedding_vector_length,     \n",
    "                                     input_length=200) )\n",
    "model.add(SpatialDropout1D(0.25))\n",
    "model.add(LSTM(50, dropout=0.5, recurrent_dropout=0.5))\n",
    "model.add(Dropout(0.2))\n",
    "model.add(Dense(1, activation='sigmoid'))\n",
    "model.compile(loss='binary_crossentropy',optimizer='adam', \n",
    "                           metrics=['accuracy'])\n",
    "print(model.summary()) "
   ]
  },
  {
   "cell_type": "code",
   "execution_count": null,
   "metadata": {
    "colab": {
     "base_uri": "https://localhost:8080/"
    },
    "id": "DYtXnocbj8uD",
    "outputId": "1ae83870-82c6-4e15-c810-a035c65c8867"
   },
   "outputs": [
    {
     "name": "stdout",
     "output_type": "stream",
     "text": [
      "Epoch 1/5\n",
      "409/409 [==============================] - 262s 635ms/step - loss: 0.5548 - accuracy: 0.7234 - val_loss: 0.3548 - val_accuracy: 0.8318\n",
      "Epoch 2/5\n",
      "409/409 [==============================] - 258s 630ms/step - loss: 0.2979 - accuracy: 0.8672 - val_loss: 0.3130 - val_accuracy: 0.8648\n",
      "Epoch 3/5\n",
      "409/409 [==============================] - 260s 635ms/step - loss: 0.2516 - accuracy: 0.8873 - val_loss: 0.3085 - val_accuracy: 0.8694\n",
      "Epoch 4/5\n",
      "409/409 [==============================] - 259s 632ms/step - loss: 0.2130 - accuracy: 0.9080 - val_loss: 0.3061 - val_accuracy: 0.8730\n",
      "Epoch 5/5\n",
      "409/409 [==============================] - 260s 635ms/step - loss: 0.1970 - accuracy: 0.9195 - val_loss: 0.3020 - val_accuracy: 0.8767\n"
     ]
    }
   ],
   "source": [
    "history = model.fit(padded_sequence,sentiment_label,\n",
    "                  validation_split=0.2, epochs=5, batch_size=32)"
   ]
  },
  {
   "cell_type": "markdown",
   "metadata": {
    "id": "nv_0zNhELGLE"
   },
   "source": [
    "### test"
   ]
  },
  {
   "cell_type": "code",
   "execution_count": null,
   "metadata": {
    "id": "Qq3G7Cg7LGLH"
   },
   "outputs": [],
   "source": [
    "\"\"\"#tweet = df.news.values\n",
    "\n",
    "tokenizer = Tokenizer(num_words=5000)\n",
    "tokenizer.fit_on_texts(tweet)\n",
    "\n",
    "vocab_size = len(tokenizer.word_index) + 1\n",
    "encoded_docs = tokenizer.texts_to_sequences(tweet)\n",
    "padded_sequence = pad_sequences(encoded_docs, maxlen=200)\n",
    "   #prediction = int(model.predict(tw).round().item())\"\"\"\n",
    "None"
   ]
  },
  {
   "cell_type": "code",
   "execution_count": null,
   "metadata": {
    "colab": {
     "base_uri": "https://localhost:8080/"
    },
    "id": "9c3u2PlzLGLI",
    "outputId": "44b142e7-0b9e-4231-824d-e653ee3cd734"
   },
   "outputs": [
    {
     "data": {
      "text/plain": [
       "array([0.9975321 , 0.99978536, 0.0141617 , ..., 0.26762488, 0.998539  ,\n",
       "       0.40618947], dtype=float32)"
      ]
     },
     "execution_count": 168,
     "metadata": {
      "tags": []
     },
     "output_type": "execute_result"
    }
   ],
   "source": [
    "y_pred_proba = model.predict(tw_test)\n",
    "y_pred = np.array([round(i[0]) for i in y_pred_proba ])\n",
    "y_pred_proba = y_pred_proba.reshape(1, -1)[0]\n",
    "y_pred_proba"
   ]
  },
  {
   "cell_type": "code",
   "execution_count": null,
   "metadata": {
    "colab": {
     "base_uri": "https://localhost:8080/"
    },
    "id": "Z16QxPoTLGLJ",
    "outputId": "cce8c382-20f4-4a53-b14d-4308a94b4668"
   },
   "outputs": [
    {
     "data": {
      "text/plain": [
       "array([1, 1, 0, ..., 0, 1, 0])"
      ]
     },
     "execution_count": 169,
     "metadata": {
      "tags": []
     },
     "output_type": "execute_result"
    }
   ],
   "source": [
    "y_test"
   ]
  },
  {
   "cell_type": "code",
   "execution_count": null,
   "metadata": {
    "colab": {
     "base_uri": "https://localhost:8080/"
    },
    "id": "_E15NTVvLGLK",
    "outputId": "87e8e043-53b1-4ac0-bf7d-957d59e0c6bf"
   },
   "outputs": [
    {
     "name": "stdout",
     "output_type": "stream",
     "text": [
      "accuracy score: 85.96%\n",
      "ROC_AUC: 92.77%\n",
      "\n",
      "              precision    recall  f1-score   support\n",
      "\n",
      "           0       0.77      0.74      0.76      1197\n",
      "           1       0.90      0.91      0.90      2890\n",
      "\n",
      "    accuracy                           0.86      4087\n",
      "   macro avg       0.83      0.83      0.83      4087\n",
      "weighted avg       0.86      0.86      0.86      4087\n",
      "\n"
     ]
    }
   ],
   "source": [
    "acc = round(accuracy_score(y_test, y_pred)*100,2)\n",
    "roc_auc = round(roc_auc_score(y_test, y_pred_proba)*100, 2)\n",
    "\n",
    "print(\"accuracy score: {}%\".format(acc))\n",
    "print(\"ROC_AUC: {}%\".format(roc_auc))\n",
    "\n",
    "print()\n",
    "report = classification_report(y_test, y_pred)\n",
    "print(report)"
   ]
  },
  {
   "cell_type": "markdown",
   "metadata": {
    "id": "dOJcPcXxLGLL"
   },
   "source": [
    "### on marked data"
   ]
  },
  {
   "cell_type": "code",
   "execution_count": null,
   "metadata": {
    "colab": {
     "base_uri": "https://localhost:8080/",
     "height": 212
    },
    "id": "QoVlLPdRLGLM",
    "outputId": "67a583b6-024a-48a9-b9f5-1a81189062b0"
   },
   "outputs": [
    {
     "name": "stdout",
     "output_type": "stream",
     "text": [
      "(231, 2)\n"
     ]
    },
    {
     "data": {
      "text/html": [
       "<div>\n",
       "<style scoped>\n",
       "    .dataframe tbody tr th:only-of-type {\n",
       "        vertical-align: middle;\n",
       "    }\n",
       "\n",
       "    .dataframe tbody tr th {\n",
       "        vertical-align: top;\n",
       "    }\n",
       "\n",
       "    .dataframe thead th {\n",
       "        text-align: right;\n",
       "    }\n",
       "</style>\n",
       "<table border=\"1\" class=\"dataframe\">\n",
       "  <thead>\n",
       "    <tr style=\"text-align: right;\">\n",
       "      <th></th>\n",
       "      <th>news</th>\n",
       "      <th>target</th>\n",
       "    </tr>\n",
       "  </thead>\n",
       "  <tbody>\n",
       "    <tr>\n",
       "      <th>0</th>\n",
       "      <td>Amazon Signs Woody Allen to Write and Direct T...</td>\n",
       "      <td>1.0</td>\n",
       "    </tr>\n",
       "    <tr>\n",
       "      <th>1</th>\n",
       "      <td>Amazon to Buy Israeli Chip DeveloperAmazon.com...</td>\n",
       "      <td>1.0</td>\n",
       "    </tr>\n",
       "    <tr>\n",
       "      <th>2</th>\n",
       "      <td>Movie Studio by Amazon for Screens Big and Sma...</td>\n",
       "      <td>1.0</td>\n",
       "    </tr>\n",
       "    <tr>\n",
       "      <th>3</th>\n",
       "      <td>With Win, Amazon Shakes Up Yet Another Industr...</td>\n",
       "      <td>0.0</td>\n",
       "    </tr>\n",
       "    <tr>\n",
       "      <th>4</th>\n",
       "      <td>AmazonвЂ™s Tax Deal With Luxembourg May Break ...</td>\n",
       "      <td>0.0</td>\n",
       "    </tr>\n",
       "  </tbody>\n",
       "</table>\n",
       "</div>"
      ],
      "text/plain": [
       "                                                news  target\n",
       "0  Amazon Signs Woody Allen to Write and Direct T...     1.0\n",
       "1  Amazon to Buy Israeli Chip DeveloperAmazon.com...     1.0\n",
       "2  Movie Studio by Amazon for Screens Big and Sma...     1.0\n",
       "3  With Win, Amazon Shakes Up Yet Another Industr...     0.0\n",
       "4  AmazonвЂ™s Tax Deal With Luxembourg May Break ...     0.0"
      ]
     },
     "execution_count": 171,
     "metadata": {
      "tags": []
     },
     "output_type": "execute_result"
    }
   ],
   "source": [
    "test = pd.read_excel(path + 'data/Размеченные данные по Amazon.xlsx', index_col = 0)\n",
    "test.columns = ['news', 'target']\n",
    "\n",
    "\n",
    "test['target'] = test['target']/2 + 0.5 + 0.0001\n",
    "test = test[test.target != 0.5]\n",
    "test['target'] = round(test['target'])\n",
    "\n",
    "print(test.shape)\n",
    "\n",
    "X_test = test.news.values\n",
    "y_test = test.target.values\n",
    "\n",
    "test.head()"
   ]
  },
  {
   "cell_type": "code",
   "execution_count": null,
   "metadata": {
    "id": "1v9-D9_3LGLN"
   },
   "outputs": [],
   "source": [
    "tweet_test = X_test\n",
    "tw = tokenizer.texts_to_sequences(tweet_test)\n",
    "tw_test = pad_sequences(tw,maxlen=200)"
   ]
  },
  {
   "cell_type": "code",
   "execution_count": null,
   "metadata": {
    "colab": {
     "base_uri": "https://localhost:8080/"
    },
    "id": "sOpQXImNLGLO",
    "outputId": "80e137a4-831a-4dbd-a7b1-dbea7961f714"
   },
   "outputs": [
    {
     "data": {
      "text/plain": [
       "231"
      ]
     },
     "execution_count": 173,
     "metadata": {
      "tags": []
     },
     "output_type": "execute_result"
    }
   ],
   "source": [
    "len(tw)"
   ]
  },
  {
   "cell_type": "code",
   "execution_count": null,
   "metadata": {
    "colab": {
     "base_uri": "https://localhost:8080/"
    },
    "id": "DP96E_66LGLO",
    "outputId": "52229d3a-d751-4d2c-d38b-a76d5102b434"
   },
   "outputs": [
    {
     "data": {
      "text/plain": [
       "array([0.99392796, 0.9638275 , 0.98139036, 0.9996767 , 0.73786664,\n",
       "       0.9632196 , 0.69083536, 0.98843   , 0.9862422 , 0.16804424,\n",
       "       0.9979152 , 0.23424985, 0.32808226, 0.8504371 , 0.95381963,\n",
       "       0.9965119 , 0.47944131, 0.9844519 , 0.9237602 , 0.9591939 ,\n",
       "       0.7383973 , 0.60804766, 0.91186506, 0.9280222 , 0.98002315,\n",
       "       0.9851109 , 0.9981438 , 0.01390136, 0.18441083, 0.87918407,\n",
       "       0.8163343 , 0.9712517 , 0.95730686, 0.4100756 , 0.67477137,\n",
       "       0.35828412, 0.92067796, 0.58011824, 0.9630837 , 0.83118474,\n",
       "       0.70305157, 0.22214393, 0.6500261 , 0.9596045 , 0.9880463 ,\n",
       "       0.77361876, 0.6004744 , 0.92118895, 0.48734477, 0.9920161 ,\n",
       "       0.4504372 , 0.90182495, 0.23469037, 0.94371426, 0.945546  ,\n",
       "       0.2601334 , 0.9839686 , 0.06057061, 0.78718007, 0.97054535,\n",
       "       0.36065057, 0.9912684 , 0.9844919 , 0.99679846, 0.7848642 ,\n",
       "       0.23388784, 0.9271848 , 0.996775  , 0.9804174 , 0.94912124,\n",
       "       0.9596137 , 0.18724169, 0.9955954 , 0.0983056 , 0.27119124,\n",
       "       0.5276915 , 0.972569  , 0.9041454 , 0.41438746, 0.994371  ,\n",
       "       0.6220818 , 0.64697474, 0.856461  , 0.7152554 , 0.98824805,\n",
       "       0.8401085 , 0.841334  , 0.9696201 , 0.93404835, 0.77021074,\n",
       "       0.99220663, 0.54465276, 0.9958818 , 0.04430576, 0.99193525,\n",
       "       0.9183234 , 0.76752913, 0.99710196, 0.3330605 , 0.7953211 ,\n",
       "       0.9268911 , 0.9640465 , 0.02578682, 0.83073187, 0.9956049 ,\n",
       "       0.04034444, 0.575808  , 0.60206217, 0.968435  , 0.9824341 ,\n",
       "       0.9957113 , 0.98147535, 0.5810109 , 0.99125236, 0.989562  ,\n",
       "       0.8832136 , 0.9225876 , 0.7296629 , 0.79542214, 0.9616216 ,\n",
       "       0.8181333 , 0.4889143 , 0.84925413, 0.9841793 , 0.98347557,\n",
       "       0.84652644, 0.2927342 , 0.67707753, 0.13972837, 0.7434022 ,\n",
       "       0.98329365, 0.9850899 , 0.77139604, 0.12773255, 0.98869085,\n",
       "       0.9793123 , 0.987043  , 0.9222147 , 0.6387287 , 0.99622995,\n",
       "       0.407378  , 0.9853838 , 0.40707272, 0.95805424, 0.68331856,\n",
       "       0.17658502, 0.7424083 , 0.8664194 , 0.9526818 , 0.97646856,\n",
       "       0.9679161 , 0.79139155, 0.9954595 , 0.3220294 , 0.97960097,\n",
       "       0.9342433 , 0.9672464 , 0.46221924, 0.5414102 , 0.654737  ,\n",
       "       0.8175548 , 0.53996307, 0.55019975, 0.93539363, 0.78474325,\n",
       "       0.20038001, 0.3845699 , 0.8884102 , 0.81419116, 0.2020369 ,\n",
       "       0.34298167, 0.75817245, 0.76842976, 0.6876634 , 0.7317047 ,\n",
       "       0.8894478 , 0.94722354, 0.3291895 , 0.92438865, 0.9962049 ,\n",
       "       0.96088535, 0.9855811 , 0.96133   , 0.99860966, 0.91437155,\n",
       "       0.8973712 , 0.50184435, 0.04149559, 0.98566353, 0.9790974 ,\n",
       "       0.76108646, 0.43707258, 0.8200702 , 0.19019733, 0.1790563 ,\n",
       "       0.85791844, 0.3445042 , 0.9952675 , 0.8495933 , 0.6056297 ,\n",
       "       0.99761283, 0.64347607, 0.98025024, 0.6428126 , 0.99568236,\n",
       "       0.99496645, 0.89369774, 0.9904129 , 0.6824357 , 0.06641918,\n",
       "       0.24738726, 0.30851558, 0.91646373, 0.60175025, 0.995144  ,\n",
       "       0.98147446, 0.99812263, 0.84757054, 0.97461855, 0.83410233,\n",
       "       0.8565828 , 0.90473384, 0.63081795, 0.6231356 , 0.39084348,\n",
       "       0.26741138, 0.21403424, 0.2806352 , 0.9411454 , 0.82228196,\n",
       "       0.03090401], dtype=float32)"
      ]
     },
     "execution_count": 174,
     "metadata": {
      "tags": []
     },
     "output_type": "execute_result"
    }
   ],
   "source": [
    "y_pred_proba = model.predict(tw_test)\n",
    "y_pred = np.array([round(i[0]) for i in y_pred_proba ])\n",
    "y_pred_proba = y_pred_proba.reshape(1, -1)[0]\n",
    "y_pred_proba"
   ]
  },
  {
   "cell_type": "code",
   "execution_count": null,
   "metadata": {
    "colab": {
     "base_uri": "https://localhost:8080/"
    },
    "id": "pmmcTlY3LGLP",
    "outputId": "39803d4b-7855-49f2-979b-418dcccb6d9d"
   },
   "outputs": [
    {
     "name": "stdout",
     "output_type": "stream",
     "text": [
      "accuracy score: 63.64%\n",
      "ROC_AUC: 54.53%\n",
      "\n",
      "              precision    recall  f1-score   support\n",
      "\n",
      "         0.0       0.37      0.27      0.31        71\n",
      "         1.0       0.71      0.80      0.75       160\n",
      "\n",
      "    accuracy                           0.64       231\n",
      "   macro avg       0.54      0.53      0.53       231\n",
      "weighted avg       0.61      0.64      0.62       231\n",
      "\n"
     ]
    }
   ],
   "source": [
    "acc = round(accuracy_score(y_test, y_pred)*100,2)\n",
    "roc_auc = round(roc_auc_score(y_test, y_pred_proba)*100, 2)\n",
    "\n",
    "print(\"accuracy score: {}%\".format(acc))\n",
    "print(\"ROC_AUC: {}%\".format(roc_auc))\n",
    "\n",
    "print()\n",
    "report = classification_report(y_test, y_pred)\n",
    "print(report)"
   ]
  },
  {
   "cell_type": "code",
   "execution_count": null,
   "metadata": {
    "colab": {
     "base_uri": "https://localhost:8080/",
     "height": 204
    },
    "id": "g2LBQERbLGLR",
    "outputId": "3572a4df-3ef2-410c-f6bf-85a851de3b59"
   },
   "outputs": [
    {
     "ename": "IndexError",
     "evalue": "ignored",
     "output_type": "error",
     "traceback": [
      "\u001b[0;31m---------------------------------------------------------------------------\u001b[0m",
      "\u001b[0;31mIndexError\u001b[0m                                Traceback (most recent call last)",
      "\u001b[0;32m<ipython-input-64-9b93d837e057>\u001b[0m in \u001b[0;36m<module>\u001b[0;34m()\u001b[0m\n\u001b[1;32m      3\u001b[0m \u001b[0mtw\u001b[0m \u001b[0;34m=\u001b[0m \u001b[0mpad_sequences\u001b[0m\u001b[0;34m(\u001b[0m\u001b[0mtw\u001b[0m\u001b[0;34m,\u001b[0m\u001b[0mmaxlen\u001b[0m\u001b[0;34m=\u001b[0m\u001b[0;36m200\u001b[0m\u001b[0;34m)\u001b[0m\u001b[0;34m\u001b[0m\u001b[0;34m\u001b[0m\u001b[0m\n\u001b[1;32m      4\u001b[0m \u001b[0mprediction\u001b[0m \u001b[0;34m=\u001b[0m \u001b[0mint\u001b[0m\u001b[0;34m(\u001b[0m\u001b[0mmodel\u001b[0m\u001b[0;34m.\u001b[0m\u001b[0mpredict\u001b[0m\u001b[0;34m(\u001b[0m\u001b[0mtw\u001b[0m\u001b[0;34m)\u001b[0m\u001b[0;34m.\u001b[0m\u001b[0mround\u001b[0m\u001b[0;34m(\u001b[0m\u001b[0;34m)\u001b[0m\u001b[0;34m.\u001b[0m\u001b[0mitem\u001b[0m\u001b[0;34m(\u001b[0m\u001b[0;34m)\u001b[0m\u001b[0;34m)\u001b[0m\u001b[0;34m\u001b[0m\u001b[0;34m\u001b[0m\u001b[0m\n\u001b[0;32m----> 5\u001b[0;31m \u001b[0msentiment_label\u001b[0m\u001b[0;34m[\u001b[0m\u001b[0;36m1\u001b[0m\u001b[0;34m]\u001b[0m\u001b[0;34m[\u001b[0m\u001b[0mprediction\u001b[0m\u001b[0;34m]\u001b[0m\u001b[0;34m\u001b[0m\u001b[0;34m\u001b[0m\u001b[0m\n\u001b[0m",
      "\u001b[0;31mIndexError\u001b[0m: invalid index to scalar variable."
     ]
    }
   ],
   "source": [
    "test_word =\"Amazon set to fire 75000 workers in USA and Canada\"\n",
    "tw = tokenizer.texts_to_sequences([test_word])\n",
    "tw = pad_sequences(tw,maxlen=200)\n",
    "prediction = int(model.predict(tw).round().item())\n",
    "sentiment_label[1][prediction]"
   ]
  },
  {
   "cell_type": "code",
   "execution_count": null,
   "metadata": {
    "colab": {
     "base_uri": "https://localhost:8080/"
    },
    "id": "qL7Uxeo8LGLS",
    "outputId": "41599963-e396-4c08-e2d0-f0b9b4ba7599"
   },
   "outputs": [
    {
     "data": {
      "text/plain": [
       "1"
      ]
     },
     "execution_count": 65,
     "metadata": {
      "tags": []
     },
     "output_type": "execute_result"
    }
   ],
   "source": [
    "test_word =\"Amazon set to fire 75000 workers in USA and Canada\"\n",
    "tw = tokenizer.texts_to_sequences([test_word])\n",
    "tw = pad_sequences(tw,maxlen=200)\n",
    "prediction = int(model.predict(tw).round().item())\n",
    "sentiment_label[prediction]"
   ]
  },
  {
   "cell_type": "code",
   "execution_count": null,
   "metadata": {
    "colab": {
     "base_uri": "https://localhost:8080/"
    },
    "id": "r7UpNPzzLGLS",
    "outputId": "b39d552d-6470-4fa3-a1a0-5b0382ac9cec"
   },
   "outputs": [
    {
     "data": {
      "text/plain": [
       "array([[   0,    0,    0,    0,    0,    0,    0,    0,    0,    0,    0,\n",
       "           0,    0,    0,    0,    0,    0,    0,    0,    0,    0,    0,\n",
       "           0,    0,    0,    0,    0,    0,    0,    0,    0,    0,    0,\n",
       "           0,    0,    0,    0,    0,    0,    0,    0,    0,    0,    0,\n",
       "           0,    0,    0,    0,    0,    0,    0,    0,    0,    0,    0,\n",
       "           0,    0,    0,    0,    0,    0,    0,    0,    0,    0,    0,\n",
       "           0,    0,    0,    0,    0,    0,    0,    0,    0,    0,    0,\n",
       "           0,    0,    0,    0,    0,    0,    0,    0,    0,    0,    0,\n",
       "           0,    0,    0,    0,    0,    0,    0,    0,    0,    0,    0,\n",
       "           0,    0,    0,    0,    0,    0,    0,    0,    0,    0,    0,\n",
       "           0,    0,    0,    0,    0,    0,    0,    0,    0,    0,    0,\n",
       "           0,    0,    0,    0,    0,    0,    0,    0,    0,    0,    0,\n",
       "           0,    0,    0,    0,    0,    0,    0,    0,    0,    0,    0,\n",
       "           0,    0,    0,    0,    0,    0,    0,    0,    0,    0,    0,\n",
       "           0,    0,    0,    0,    0,    0,    0,    0,    0,    0,    0,\n",
       "           0,    0,    0,    0,    0,    0,    0,    0,    0,    0,    0,\n",
       "           0,    0,    0,    0,    0,    0,    0,    0,    0,    0,    0,\n",
       "           0,    0,    0,    0,  504,  521,    2, 3012, 2832,    6, 2241,\n",
       "           3, 1647]], dtype=int32)"
      ]
     },
     "execution_count": 68,
     "metadata": {
      "tags": []
     },
     "output_type": "execute_result"
    }
   ],
   "source": [
    "tw"
   ]
  },
  {
   "cell_type": "code",
   "execution_count": null,
   "metadata": {
    "colab": {
     "base_uri": "https://localhost:8080/"
    },
    "id": "ukOS0-xtLGLT",
    "outputId": "870713b1-5ab7-4702-9d1f-f88ed498638c"
   },
   "outputs": [
    {
     "data": {
      "text/plain": [
       "array([[0.992326]], dtype=float32)"
      ]
     },
     "execution_count": 67,
     "metadata": {
      "tags": []
     },
     "output_type": "execute_result"
    }
   ],
   "source": [
    "model.predict(tw)"
   ]
  },
  {
   "cell_type": "code",
   "execution_count": null,
   "metadata": {
    "colab": {
     "base_uri": "https://localhost:8080/"
    },
    "id": "Y-2y5nKqq7zN",
    "outputId": "19e11336-6b79-42bb-b9bb-a5b6ea618ef0"
   },
   "outputs": [
    {
     "data": {
      "text/plain": [
       "0"
      ]
     },
     "execution_count": 166,
     "metadata": {
      "tags": []
     },
     "output_type": "execute_result"
    }
   ],
   "source": [
    "test_word =\"Amazon set to fire 75000 workers in USA and Canada\"\n",
    "tw = tokenizer.texts_to_sequences([test_word])\n",
    "tw = pad_sequences(tw,maxlen=200)\n",
    "prediction = int(model.predict(tw).round().item())\n",
    "sentiment_label[1][prediction]"
   ]
  },
  {
   "cell_type": "code",
   "execution_count": null,
   "metadata": {
    "colab": {
     "base_uri": "https://localhost:8080/"
    },
    "id": "sQMLrc-Or7f9",
    "outputId": "a8460065-1b6f-4138-bef0-2a9ffcb02857"
   },
   "outputs": [
    {
     "data": {
      "text/plain": [
       "0"
      ]
     },
     "execution_count": 172,
     "metadata": {
      "tags": []
     },
     "output_type": "execute_result"
    }
   ],
   "source": [
    "test_word =\"A georgia prosecutor said that the Atlanta-area spa shootings were hate crimes\"\n",
    "tw = tokenizer.texts_to_sequences([test_word])\n",
    "tw = pad_sequences(tw,maxlen=200)\n",
    "prediction = int(model.predict(tw).round().item())\n",
    "sentiment_label[1][prediction]"
   ]
  },
  {
   "cell_type": "markdown",
   "metadata": {
    "id": "ki8KqyJ_G6uV"
   },
   "source": [
    "## CNN"
   ]
  },
  {
   "cell_type": "code",
   "execution_count": null,
   "metadata": {
    "colab": {
     "base_uri": "https://localhost:8080/"
    },
    "id": "FoTJVmyy5wPW",
    "outputId": "5f651769-5b2c-4e26-db10-6d3c47eb13bd"
   },
   "outputs": [
    {
     "name": "stdout",
     "output_type": "stream",
     "text": [
      "Model: \"sequential_14\"\n",
      "_________________________________________________________________\n",
      "Layer (type)                 Output Shape              Param #   \n",
      "=================================================================\n",
      "embedding_13 (Embedding)     (None, 200, 32)           922656    \n",
      "_________________________________________________________________\n",
      "spatial_dropout1d_7 (Spatial (None, 200, 32)           0         \n",
      "_________________________________________________________________\n",
      "conv1d_5 (Conv1D)            (None, 196, 128)          20608     \n",
      "_________________________________________________________________\n",
      "dropout_7 (Dropout)          (None, 196, 128)          0         \n",
      "_________________________________________________________________\n",
      "dense_11 (Dense)             (None, 196, 1)            129       \n",
      "=================================================================\n",
      "Total params: 943,393\n",
      "Trainable params: 943,393\n",
      "Non-trainable params: 0\n",
      "_________________________________________________________________\n",
      "None\n"
     ]
    }
   ],
   "source": [
    "embedding_vector_length = 32\n",
    "model = Sequential()\n",
    "\n",
    "\n",
    "model.add(Embedding(vocab_size, embedding_vector_length,     \n",
    "                                     input_length=200) )\n",
    "model.add(SpatialDropout1D(0.25))\n",
    "model.add(Conv1D(128, 5, activation='relu'))\n",
    "model.add(Dropout(0.2))\n",
    "model.add(Dense(1, activation='sigmoid'))\n",
    "model.compile(loss='binary_crossentropy',optimizer='adam', \n",
    "                           metrics=['accuracy'])\n",
    "print(model.summary()) "
   ]
  },
  {
   "cell_type": "code",
   "execution_count": null,
   "metadata": {
    "colab": {
     "base_uri": "https://localhost:8080/"
    },
    "id": "dfZL9C2u5wS6",
    "outputId": "a2beb5b8-b3fd-42d7-ebb1-b5df2e7966d8"
   },
   "outputs": [
    {
     "name": "stdout",
     "output_type": "stream",
     "text": [
      "Model: \"sequential_15\"\n",
      "_________________________________________________________________\n",
      "Layer (type)                 Output Shape              Param #   \n",
      "=================================================================\n",
      "embedding_14 (Embedding)     (None, 200, 32)           922656    \n",
      "_________________________________________________________________\n",
      "conv1d_6 (Conv1D)            (None, 196, 128)          20608     \n",
      "_________________________________________________________________\n",
      "global_max_pooling1d_4 (Glob (None, 128)               0         \n",
      "_________________________________________________________________\n",
      "dense_12 (Dense)             (None, 1)                 129       \n",
      "=================================================================\n",
      "Total params: 943,393\n",
      "Trainable params: 943,393\n",
      "Non-trainable params: 0\n",
      "_________________________________________________________________\n",
      "None\n"
     ]
    }
   ],
   "source": [
    "model = Sequential()\n",
    "\n",
    "embedding_layer = Embedding(vocab_size, embedding_vector_length,     \n",
    "                                     input_length=200)\n",
    "model.add(embedding_layer)\n",
    "\n",
    "model.add(Conv1D(128, 5, activation='relu'))\n",
    "model.add(GlobalMaxPooling1D())\n",
    "model.add(Dense(1, activation='sigmoid'))\n",
    "model.compile(optimizer='adam', loss='binary_crossentropy', metrics=['acc'])\n",
    "print(model.summary()) "
   ]
  },
  {
   "cell_type": "code",
   "execution_count": null,
   "metadata": {
    "colab": {
     "base_uri": "https://localhost:8080/"
    },
    "id": "GU51fskK5wV2",
    "outputId": "151842f1-6124-4d39-8eff-08f4e5c2cb22"
   },
   "outputs": [
    {
     "name": "stdout",
     "output_type": "stream",
     "text": [
      "Epoch 1/10\n",
      "409/409 [==============================] - 5s 11ms/step - loss: 0.5185 - acc: 0.7531 - val_loss: 0.2898 - val_acc: 0.8724\n",
      "Epoch 2/10\n",
      "409/409 [==============================] - 4s 10ms/step - loss: 0.2180 - acc: 0.9067 - val_loss: 0.2719 - val_acc: 0.8819\n",
      "Epoch 3/10\n",
      "409/409 [==============================] - 4s 10ms/step - loss: 0.1500 - acc: 0.9404 - val_loss: 0.2932 - val_acc: 0.8779\n",
      "Epoch 4/10\n",
      "409/409 [==============================] - 4s 10ms/step - loss: 0.0965 - acc: 0.9668 - val_loss: 0.3569 - val_acc: 0.8682\n",
      "Epoch 5/10\n",
      "409/409 [==============================] - 4s 10ms/step - loss: 0.0521 - acc: 0.9855 - val_loss: 0.4144 - val_acc: 0.8685\n",
      "Epoch 6/10\n",
      "409/409 [==============================] - 4s 10ms/step - loss: 0.0309 - acc: 0.9914 - val_loss: 0.4695 - val_acc: 0.8697\n",
      "Epoch 7/10\n",
      "409/409 [==============================] - 4s 10ms/step - loss: 0.0200 - acc: 0.9945 - val_loss: 0.5324 - val_acc: 0.8648\n",
      "Epoch 8/10\n",
      "409/409 [==============================] - 4s 10ms/step - loss: 0.0145 - acc: 0.9959 - val_loss: 0.5848 - val_acc: 0.8672\n",
      "Epoch 9/10\n",
      "409/409 [==============================] - 4s 10ms/step - loss: 0.0122 - acc: 0.9970 - val_loss: 0.6175 - val_acc: 0.8642\n",
      "Epoch 10/10\n",
      "409/409 [==============================] - 4s 10ms/step - loss: 0.0120 - acc: 0.9968 - val_loss: 0.6053 - val_acc: 0.8648\n"
     ]
    }
   ],
   "source": [
    "history = model.fit(padded_sequence,sentiment_label,\n",
    "                  validation_split=0.2, epochs=10, batch_size=32)"
   ]
  },
  {
   "cell_type": "markdown",
   "metadata": {
    "id": "fGsjuT-0J3mk"
   },
   "source": [
    "### test"
   ]
  },
  {
   "cell_type": "code",
   "execution_count": null,
   "metadata": {
    "colab": {
     "base_uri": "https://localhost:8080/"
    },
    "id": "i_V-8nMMDmc8",
    "outputId": "a88a017f-3a82-48d2-e0b1-ff02f1fc5afd"
   },
   "outputs": [
    {
     "data": {
      "text/plain": [
       "array([1.0000000e+00, 1.0000000e+00, 4.0415756e-04, ..., 7.9267345e-05,\n",
       "       9.9999869e-01, 4.3655582e-02], dtype=float32)"
      ]
     },
     "execution_count": 162,
     "metadata": {
      "tags": []
     },
     "output_type": "execute_result"
    }
   ],
   "source": [
    "y_pred_proba = model.predict(tw_test)\n",
    "y_pred = np.array([round(i[0]) for i in y_pred_proba ])\n",
    "y_pred_proba = y_pred_proba.reshape(1, -1)[0]\n",
    "y_pred_proba"
   ]
  },
  {
   "cell_type": "code",
   "execution_count": null,
   "metadata": {
    "colab": {
     "base_uri": "https://localhost:8080/"
    },
    "id": "WuXODEL9FsVP",
    "outputId": "696ce718-444c-42a6-e79f-73f8c861c48a"
   },
   "outputs": [
    {
     "data": {
      "text/plain": [
       "array([1, 1, 0, ..., 0, 1, 0])"
      ]
     },
     "execution_count": 163,
     "metadata": {
      "tags": []
     },
     "output_type": "execute_result"
    }
   ],
   "source": [
    "y_test"
   ]
  },
  {
   "cell_type": "code",
   "execution_count": null,
   "metadata": {
    "colab": {
     "base_uri": "https://localhost:8080/"
    },
    "id": "WSn3hyPqFEQ_",
    "outputId": "5704c03c-6229-4984-8824-eb9e3d0ae9f6"
   },
   "outputs": [
    {
     "name": "stdout",
     "output_type": "stream",
     "text": [
      "accuracy score: 85.78%\n",
      "ROC_AUC: 91.63%\n",
      "\n",
      "              precision    recall  f1-score   support\n",
      "\n",
      "           0       0.77      0.74      0.75      1197\n",
      "           1       0.89      0.91      0.90      2890\n",
      "\n",
      "    accuracy                           0.86      4087\n",
      "   macro avg       0.83      0.82      0.83      4087\n",
      "weighted avg       0.86      0.86      0.86      4087\n",
      "\n"
     ]
    }
   ],
   "source": [
    "acc = round(accuracy_score(y_test, y_pred)*100,2)\n",
    "roc_auc = round(roc_auc_score(y_test, y_pred_proba)*100, 2)\n",
    "\n",
    "print(\"accuracy score: {}%\".format(acc))\n",
    "print(\"ROC_AUC: {}%\".format(roc_auc))\n",
    "\n",
    "print()\n",
    "report = classification_report(y_test, y_pred)\n",
    "print(report)"
   ]
  },
  {
   "cell_type": "markdown",
   "metadata": {
    "id": "vqi-ZUw1JzNk"
   },
   "source": [
    "### on marked data"
   ]
  },
  {
   "cell_type": "code",
   "execution_count": null,
   "metadata": {
    "colab": {
     "base_uri": "https://localhost:8080/",
     "height": 212
    },
    "id": "G8BhIcorIp4K",
    "outputId": "62c8feaa-a2ab-4339-fb7f-2e01a604c478"
   },
   "outputs": [
    {
     "name": "stdout",
     "output_type": "stream",
     "text": [
      "(231, 2)\n"
     ]
    },
    {
     "data": {
      "text/html": [
       "<div>\n",
       "<style scoped>\n",
       "    .dataframe tbody tr th:only-of-type {\n",
       "        vertical-align: middle;\n",
       "    }\n",
       "\n",
       "    .dataframe tbody tr th {\n",
       "        vertical-align: top;\n",
       "    }\n",
       "\n",
       "    .dataframe thead th {\n",
       "        text-align: right;\n",
       "    }\n",
       "</style>\n",
       "<table border=\"1\" class=\"dataframe\">\n",
       "  <thead>\n",
       "    <tr style=\"text-align: right;\">\n",
       "      <th></th>\n",
       "      <th>news</th>\n",
       "      <th>target</th>\n",
       "    </tr>\n",
       "  </thead>\n",
       "  <tbody>\n",
       "    <tr>\n",
       "      <th>0</th>\n",
       "      <td>Amazon Signs Woody Allen to Write and Direct T...</td>\n",
       "      <td>1.0</td>\n",
       "    </tr>\n",
       "    <tr>\n",
       "      <th>1</th>\n",
       "      <td>Amazon to Buy Israeli Chip DeveloperAmazon.com...</td>\n",
       "      <td>1.0</td>\n",
       "    </tr>\n",
       "    <tr>\n",
       "      <th>2</th>\n",
       "      <td>Movie Studio by Amazon for Screens Big and Sma...</td>\n",
       "      <td>1.0</td>\n",
       "    </tr>\n",
       "    <tr>\n",
       "      <th>3</th>\n",
       "      <td>With Win, Amazon Shakes Up Yet Another Industr...</td>\n",
       "      <td>0.0</td>\n",
       "    </tr>\n",
       "    <tr>\n",
       "      <th>4</th>\n",
       "      <td>AmazonвЂ™s Tax Deal With Luxembourg May Break ...</td>\n",
       "      <td>0.0</td>\n",
       "    </tr>\n",
       "  </tbody>\n",
       "</table>\n",
       "</div>"
      ],
      "text/plain": [
       "                                                news  target\n",
       "0  Amazon Signs Woody Allen to Write and Direct T...     1.0\n",
       "1  Amazon to Buy Israeli Chip DeveloperAmazon.com...     1.0\n",
       "2  Movie Studio by Amazon for Screens Big and Sma...     1.0\n",
       "3  With Win, Amazon Shakes Up Yet Another Industr...     0.0\n",
       "4  AmazonвЂ™s Tax Deal With Luxembourg May Break ...     0.0"
      ]
     },
     "execution_count": 134,
     "metadata": {
      "tags": []
     },
     "output_type": "execute_result"
    }
   ],
   "source": [
    "test = pd.read_excel(path + 'data/Размеченные данные по Amazon.xlsx', index_col = 0)\n",
    "test.columns = ['news', 'target']\n",
    "\n",
    "\n",
    "test['target'] = test['target']/2 + 0.5 + 0.0001\n",
    "test = test[test.target != 0.5]\n",
    "test['target'] = round(test['target'])\n",
    "\n",
    "print(test.shape)\n",
    "\n",
    "X_test = test.news.values\n",
    "y_test = test.target.values\n",
    "\n",
    "test.head()"
   ]
  },
  {
   "cell_type": "code",
   "execution_count": null,
   "metadata": {
    "id": "NfLDFv_DI5ld"
   },
   "outputs": [],
   "source": [
    "tweet_test = X_test\n",
    "tw = tokenizer.texts_to_sequences(tweet_test)\n",
    "tw_test = pad_sequences(tw,maxlen=200)"
   ]
  },
  {
   "cell_type": "code",
   "execution_count": null,
   "metadata": {
    "colab": {
     "base_uri": "https://localhost:8080/"
    },
    "id": "afP3iL-RJfgg",
    "outputId": "c61a9c01-e754-421f-f062-c1b20cb4c863"
   },
   "outputs": [
    {
     "data": {
      "text/plain": [
       "231"
      ]
     },
     "execution_count": 143,
     "metadata": {
      "tags": []
     },
     "output_type": "execute_result"
    }
   ],
   "source": [
    "len(tw)"
   ]
  },
  {
   "cell_type": "code",
   "execution_count": null,
   "metadata": {
    "colab": {
     "base_uri": "https://localhost:8080/"
    },
    "id": "PoGTFSLyI5pR",
    "outputId": "d3174668-7216-4044-bea8-0cfc14024b99"
   },
   "outputs": [
    {
     "data": {
      "text/plain": [
       "array([0.63906074, 0.6966657 , 0.6650091 , 0.8018239 , 0.56893003,\n",
       "       0.6623164 , 0.74576926, 0.6709138 , 0.67499715, 0.6790034 ,\n",
       "       0.69972414, 0.6314026 , 0.7112236 , 0.7462214 , 0.6657656 ,\n",
       "       0.7196382 , 0.69069135, 0.6775518 , 0.6391458 , 0.7572327 ,\n",
       "       0.68423396, 0.7133529 , 0.6872969 , 0.6984972 , 0.69884866,\n",
       "       0.632844  , 0.7332242 , 0.60940397, 0.61183727, 0.68968165,\n",
       "       0.6615232 , 0.66723526, 0.672991  , 0.69396967, 0.6795281 ,\n",
       "       0.7266696 , 0.72431856, 0.66345245, 0.7134249 , 0.68119866,\n",
       "       0.676015  , 0.64368314, 0.72170365, 0.7184162 , 0.6417175 ,\n",
       "       0.7017198 , 0.6834043 , 0.6458946 , 0.6177735 , 0.7194608 ,\n",
       "       0.7211554 , 0.71622854, 0.63156337, 0.6435624 , 0.7086685 ,\n",
       "       0.6546996 , 0.6998013 , 0.70968914, 0.673693  , 0.73365325,\n",
       "       0.7676746 , 0.6744424 , 0.6073553 , 0.73122185, 0.655635  ,\n",
       "       0.63178724, 0.65960586, 0.71708083, 0.71121645, 0.7613928 ,\n",
       "       0.68543667, 0.6066837 , 0.66233593, 0.64411044, 0.62898934,\n",
       "       0.6579606 , 0.72274643, 0.7034593 , 0.75791866, 0.71772957,\n",
       "       0.6539492 , 0.6682278 , 0.73360044, 0.72904134, 0.70157367,\n",
       "       0.6942282 , 0.7179333 , 0.62304634, 0.60561144, 0.69739825,\n",
       "       0.73031306, 0.70683897, 0.65534884, 0.54893166, 0.72091585,\n",
       "       0.7280543 , 0.75199336, 0.7356359 , 0.632236  , 0.67329144,\n",
       "       0.74951637, 0.68088734, 0.68871117, 0.63307965, 0.6654046 ,\n",
       "       0.68109244, 0.68364745, 0.745763  , 0.76890075, 0.75717854,\n",
       "       0.7504974 , 0.65052557, 0.7221084 , 0.74865746, 0.7174775 ,\n",
       "       0.6479681 , 0.71090347, 0.72356296, 0.64829755, 0.64810437,\n",
       "       0.61577606, 0.6129693 , 0.71216977, 0.68025583, 0.6840834 ,\n",
       "       0.69512   , 0.6871008 , 0.7227873 , 0.608447  , 0.6819322 ,\n",
       "       0.7430413 , 0.6964005 , 0.6991999 , 0.60993665, 0.6614888 ,\n",
       "       0.6952586 , 0.68113744, 0.71808636, 0.6167033 , 0.7585712 ,\n",
       "       0.7617374 , 0.7406834 , 0.6543944 , 0.702988  , 0.64986104,\n",
       "       0.60994405, 0.72478527, 0.620404  , 0.64344233, 0.672362  ,\n",
       "       0.7536414 , 0.60671973, 0.7216815 , 0.6205755 , 0.6789576 ,\n",
       "       0.6479611 , 0.65641725, 0.6280124 , 0.66799194, 0.64895517,\n",
       "       0.67224693, 0.5761258 , 0.68639517, 0.6336944 , 0.7450862 ,\n",
       "       0.6675201 , 0.72485566, 0.74264777, 0.66340303, 0.679048  ,\n",
       "       0.75870264, 0.6548976 , 0.61521363, 0.60140455, 0.61740476,\n",
       "       0.70985544, 0.6755473 , 0.6207307 , 0.68688506, 0.7067827 ,\n",
       "       0.6940189 , 0.74382603, 0.71813506, 0.79319155, 0.7369372 ,\n",
       "       0.6982729 , 0.7464855 , 0.6966642 , 0.69903463, 0.6671084 ,\n",
       "       0.6984438 , 0.6400129 , 0.6321648 , 0.6046431 , 0.7091019 ,\n",
       "       0.6678621 , 0.71505475, 0.69131446, 0.74024403, 0.7014901 ,\n",
       "       0.7623799 , 0.7301608 , 0.69345343, 0.6842413 , 0.6817025 ,\n",
       "       0.6911061 , 0.74946594, 0.73357683, 0.6701754 , 0.6643868 ,\n",
       "       0.61262923, 0.5786257 , 0.60801226, 0.6907506 , 0.6718006 ,\n",
       "       0.7752141 , 0.74079454, 0.6632861 , 0.7563125 , 0.66516703,\n",
       "       0.7689629 , 0.7158865 , 0.67910445, 0.7377993 , 0.62196845,\n",
       "       0.66068417, 0.6221644 , 0.61622995, 0.7137712 , 0.70198905,\n",
       "       0.6106991 ], dtype=float32)"
      ]
     },
     "execution_count": 144,
     "metadata": {
      "tags": []
     },
     "output_type": "execute_result"
    }
   ],
   "source": [
    "y_pred_proba = model.predict(tw_test)\n",
    "y_pred = np.array([round(i[0]) for i in y_pred_proba ])\n",
    "y_pred_proba = y_pred_proba.reshape(1, -1)[0]\n",
    "y_pred_proba"
   ]
  },
  {
   "cell_type": "code",
   "execution_count": null,
   "metadata": {
    "colab": {
     "base_uri": "https://localhost:8080/"
    },
    "id": "mo5itoEfI5sg",
    "outputId": "8f0b3a68-3def-4f1d-f293-4bcdda09ed3b"
   },
   "outputs": [
    {
     "name": "stdout",
     "output_type": "stream",
     "text": [
      "accuracy score: 69.26%\n",
      "ROC_AUC: 45.24%\n",
      "\n",
      "              precision    recall  f1-score   support\n",
      "\n",
      "         0.0       0.00      0.00      0.00        71\n",
      "         1.0       0.69      1.00      0.82       160\n",
      "\n",
      "    accuracy                           0.69       231\n",
      "   macro avg       0.35      0.50      0.41       231\n",
      "weighted avg       0.48      0.69      0.57       231\n",
      "\n"
     ]
    },
    {
     "name": "stderr",
     "output_type": "stream",
     "text": [
      "/usr/local/lib/python3.7/dist-packages/sklearn/metrics/_classification.py:1272: UndefinedMetricWarning: Precision and F-score are ill-defined and being set to 0.0 in labels with no predicted samples. Use `zero_division` parameter to control this behavior.\n",
      "  _warn_prf(average, modifier, msg_start, len(result))\n"
     ]
    }
   ],
   "source": [
    "acc = round(accuracy_score(y_test, y_pred)*100,2)\n",
    "roc_auc = round(roc_auc_score(y_test, y_pred_proba)*100, 2)\n",
    "\n",
    "print(\"accuracy score: {}%\".format(acc))\n",
    "print(\"ROC_AUC: {}%\".format(roc_auc))\n",
    "\n",
    "print()\n",
    "report = classification_report(y_test, y_pred)\n",
    "print(report)"
   ]
  },
  {
   "cell_type": "code",
   "execution_count": null,
   "metadata": {
    "colab": {
     "base_uri": "https://localhost:8080/"
    },
    "id": "3q8J50rX_W1x",
    "outputId": "41599963-e396-4c08-e2d0-f0b9b4ba7599"
   },
   "outputs": [
    {
     "data": {
      "text/plain": [
       "1"
      ]
     },
     "execution_count": 65,
     "metadata": {
      "tags": []
     },
     "output_type": "execute_result"
    }
   ],
   "source": [
    "test_word =\"Amazon set to fire 75000 workers in USA and Canada\"\n",
    "tw = tokenizer.texts_to_sequences([test_word])\n",
    "tw = pad_sequences(tw,maxlen=200)\n",
    "prediction = int(model.predict(tw).round().item())\n",
    "sentiment_label[prediction]"
   ]
  }
 ],
 "metadata": {
  "accelerator": "GPU",
  "colab": {
   "collapsed_sections": [],
   "name": "NLP_(Новости_рынки).ipynb",
   "provenance": [],
   "toc_visible": true
  },
  "kernelspec": {
   "display_name": "Python 3",
   "language": "python",
   "name": "python3"
  },
  "language_info": {
   "codemirror_mode": {
    "name": "ipython",
    "version": 3
   },
   "file_extension": ".py",
   "mimetype": "text/x-python",
   "name": "python",
   "nbconvert_exporter": "python",
   "pygments_lexer": "ipython3",
   "version": "3.8.8"
  },
  "widgets": {
   "application/vnd.jupyter.widget-state+json": {
    "state": {},
    "version_major": 2,
    "version_minor": 0
   }
  }
 },
 "nbformat": 4,
 "nbformat_minor": 4
}
